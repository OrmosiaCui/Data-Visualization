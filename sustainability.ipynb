{
  "nbformat": 4,
  "nbformat_minor": 0,
  "metadata": {
    "colab": {
      "provenance": [],
      "toc_visible": true,
      "mount_file_id": "1gVupoWQpMdqHAnwsMkFGp4wA4WbqgFP-",
      "authorship_tag": "ABX9TyO+mMgOZ24Um9VwTfhWIAMd",
      "include_colab_link": true
    },
    "kernelspec": {
      "name": "python3",
      "display_name": "Python 3"
    },
    "language_info": {
      "name": "python"
    }
  },
  "cells": [
    {
      "cell_type": "markdown",
      "metadata": {
        "id": "view-in-github",
        "colab_type": "text"
      },
      "source": [
        "<a href=\"https://colab.research.google.com/github/OrmosiaCui/Data-Visualization/blob/main/sustainability.ipynb\" target=\"_parent\"><img src=\"https://colab.research.google.com/assets/colab-badge.svg\" alt=\"Open In Colab\"/></a>"
      ]
    },
    {
      "cell_type": "code",
      "source": [
        "import numpy as np\n",
        "import pandas as pd\n",
        "import matplotlib.pyplot as plt\n"
      ],
      "metadata": {
        "id": "Rf5F0QhIe-vU"
      },
      "execution_count": 40,
      "outputs": []
    },
    {
      "cell_type": "code",
      "source": [
        "from google.colab import drive\n",
        "drive.mount('/content/drive')"
      ],
      "metadata": {
        "colab": {
          "base_uri": "https://localhost:8080/"
        },
        "id": "b3PpdiX0fGKc",
        "outputId": "3bd33b46-8ad1-4b44-abaa-e6675b7deb04"
      },
      "execution_count": 41,
      "outputs": [
        {
          "output_type": "stream",
          "name": "stdout",
          "text": [
            "Drive already mounted at /content/drive; to attempt to forcibly remount, call drive.mount(\"/content/drive\", force_remount=True).\n"
          ]
        }
      ]
    },
    {
      "cell_type": "code",
      "execution_count": 42,
      "metadata": {
        "colab": {
          "base_uri": "https://localhost:8080/",
          "height": 641
        },
        "id": "w-BHF6oNe5zJ",
        "outputId": "729b452f-8b88-4733-ef0b-c06ffc77a5f3"
      },
      "outputs": [
        {
          "output_type": "execute_result",
          "data": {
            "text/plain": [
              "           location       age  gender        decisions      meaningful  \\\n",
              "0     North America     22-39    Male  Mostly not true        Disagree   \n",
              "1     North America     22-39  Female      Mostly true         Neutral   \n",
              "2     North America     52-70  Female      Mostly true         Neutral   \n",
              "3     North America     22-39  Female      Mostly true  Strongly agree   \n",
              "4     North America     22-39  Female  Mostly not true  Strongly agree   \n",
              "...             ...       ...     ...              ...             ...   \n",
              "1873  North America     22-39  Female      Mostly true  Strongly agree   \n",
              "1874  North America  Under 22  Female      Mostly true  Strongly agree   \n",
              "1875  North America     22-39  Female          Neutral           Agree   \n",
              "1876  North America     22-39  Female             TRUE           Agree   \n",
              "1877  North America     22-39  Female             TRUE  Strongly agree   \n",
              "\n",
              "     personal_identity        Feeling_good          knowledge       expensive  \\\n",
              "0             Disagree       Not important  Strongly disagree  Strongly agree   \n",
              "1                Agree           Important           Disagree        Disagree   \n",
              "2             Disagree  Slightly important            Neutral           Agree   \n",
              "3                Agree             Neutral  Strongly disagree         Neutral   \n",
              "4              Neutral      Very important  Strongly disagree  Strongly agree   \n",
              "...                ...                 ...                ...             ...   \n",
              "1873             Agree             Neutral              Agree           Agree   \n",
              "1874             Agree           Important           Disagree        Disagree   \n",
              "1875             Agree           Important            Neutral  Strongly agree   \n",
              "1876    Strongly agree           Important  Strongly disagree           Agree   \n",
              "1877    Strongly agree      Very important           Disagree  Strongly agree   \n",
              "\n",
              "       not_available     uncertainty       preference        intention  \\\n",
              "0            Neutral  Strongly agree         Not true         Not true   \n",
              "1           Disagree         Neutral  Mostly not true  Mostly not true   \n",
              "2            Neutral         Neutral      Mostly true          Neutral   \n",
              "3            Neutral         Neutral          Neutral          Neutral   \n",
              "4     Strongly agree  Strongly agree      Mostly true         Not true   \n",
              "...              ...             ...              ...              ...   \n",
              "1873        Disagree  Strongly agree          Neutral      Mostly true   \n",
              "1874           Agree  Strongly agree          Neutral          Neutral   \n",
              "1875         Neutral           Agree      Mostly true  Mostly not true   \n",
              "1876           Agree           Agree      Mostly true          Neutral   \n",
              "1877  Strongly agree           Agree      Mostly true      Mostly true   \n",
              "\n",
              "           purchased  \n",
              "0     Maybe/Not sure  \n",
              "1     Maybe/Not sure  \n",
              "2     Maybe/Not sure  \n",
              "3     Maybe/Not sure  \n",
              "4     Maybe/Not sure  \n",
              "...              ...  \n",
              "1873             Yes  \n",
              "1874             Yes  \n",
              "1875  Maybe/Not sure  \n",
              "1876  Maybe/Not sure  \n",
              "1877             Yes  \n",
              "\n",
              "[1878 rows x 14 columns]"
            ],
            "text/html": [
              "\n",
              "  <div id=\"df-a29ed781-b5f5-4af9-a4ff-7f62e978f98a\">\n",
              "    <div class=\"colab-df-container\">\n",
              "      <div>\n",
              "<style scoped>\n",
              "    .dataframe tbody tr th:only-of-type {\n",
              "        vertical-align: middle;\n",
              "    }\n",
              "\n",
              "    .dataframe tbody tr th {\n",
              "        vertical-align: top;\n",
              "    }\n",
              "\n",
              "    .dataframe thead th {\n",
              "        text-align: right;\n",
              "    }\n",
              "</style>\n",
              "<table border=\"1\" class=\"dataframe\">\n",
              "  <thead>\n",
              "    <tr style=\"text-align: right;\">\n",
              "      <th></th>\n",
              "      <th>location</th>\n",
              "      <th>age</th>\n",
              "      <th>gender</th>\n",
              "      <th>decisions</th>\n",
              "      <th>meaningful</th>\n",
              "      <th>personal_identity</th>\n",
              "      <th>Feeling_good</th>\n",
              "      <th>knowledge</th>\n",
              "      <th>expensive</th>\n",
              "      <th>not_available</th>\n",
              "      <th>uncertainty</th>\n",
              "      <th>preference</th>\n",
              "      <th>intention</th>\n",
              "      <th>purchased</th>\n",
              "    </tr>\n",
              "  </thead>\n",
              "  <tbody>\n",
              "    <tr>\n",
              "      <th>0</th>\n",
              "      <td>North America</td>\n",
              "      <td>22-39</td>\n",
              "      <td>Male</td>\n",
              "      <td>Mostly not true</td>\n",
              "      <td>Disagree</td>\n",
              "      <td>Disagree</td>\n",
              "      <td>Not important</td>\n",
              "      <td>Strongly disagree</td>\n",
              "      <td>Strongly agree</td>\n",
              "      <td>Neutral</td>\n",
              "      <td>Strongly agree</td>\n",
              "      <td>Not true</td>\n",
              "      <td>Not true</td>\n",
              "      <td>Maybe/Not sure</td>\n",
              "    </tr>\n",
              "    <tr>\n",
              "      <th>1</th>\n",
              "      <td>North America</td>\n",
              "      <td>22-39</td>\n",
              "      <td>Female</td>\n",
              "      <td>Mostly true</td>\n",
              "      <td>Neutral</td>\n",
              "      <td>Agree</td>\n",
              "      <td>Important</td>\n",
              "      <td>Disagree</td>\n",
              "      <td>Disagree</td>\n",
              "      <td>Disagree</td>\n",
              "      <td>Neutral</td>\n",
              "      <td>Mostly not true</td>\n",
              "      <td>Mostly not true</td>\n",
              "      <td>Maybe/Not sure</td>\n",
              "    </tr>\n",
              "    <tr>\n",
              "      <th>2</th>\n",
              "      <td>North America</td>\n",
              "      <td>52-70</td>\n",
              "      <td>Female</td>\n",
              "      <td>Mostly true</td>\n",
              "      <td>Neutral</td>\n",
              "      <td>Disagree</td>\n",
              "      <td>Slightly important</td>\n",
              "      <td>Neutral</td>\n",
              "      <td>Agree</td>\n",
              "      <td>Neutral</td>\n",
              "      <td>Neutral</td>\n",
              "      <td>Mostly true</td>\n",
              "      <td>Neutral</td>\n",
              "      <td>Maybe/Not sure</td>\n",
              "    </tr>\n",
              "    <tr>\n",
              "      <th>3</th>\n",
              "      <td>North America</td>\n",
              "      <td>22-39</td>\n",
              "      <td>Female</td>\n",
              "      <td>Mostly true</td>\n",
              "      <td>Strongly agree</td>\n",
              "      <td>Agree</td>\n",
              "      <td>Neutral</td>\n",
              "      <td>Strongly disagree</td>\n",
              "      <td>Neutral</td>\n",
              "      <td>Neutral</td>\n",
              "      <td>Neutral</td>\n",
              "      <td>Neutral</td>\n",
              "      <td>Neutral</td>\n",
              "      <td>Maybe/Not sure</td>\n",
              "    </tr>\n",
              "    <tr>\n",
              "      <th>4</th>\n",
              "      <td>North America</td>\n",
              "      <td>22-39</td>\n",
              "      <td>Female</td>\n",
              "      <td>Mostly not true</td>\n",
              "      <td>Strongly agree</td>\n",
              "      <td>Neutral</td>\n",
              "      <td>Very important</td>\n",
              "      <td>Strongly disagree</td>\n",
              "      <td>Strongly agree</td>\n",
              "      <td>Strongly agree</td>\n",
              "      <td>Strongly agree</td>\n",
              "      <td>Mostly true</td>\n",
              "      <td>Not true</td>\n",
              "      <td>Maybe/Not sure</td>\n",
              "    </tr>\n",
              "    <tr>\n",
              "      <th>...</th>\n",
              "      <td>...</td>\n",
              "      <td>...</td>\n",
              "      <td>...</td>\n",
              "      <td>...</td>\n",
              "      <td>...</td>\n",
              "      <td>...</td>\n",
              "      <td>...</td>\n",
              "      <td>...</td>\n",
              "      <td>...</td>\n",
              "      <td>...</td>\n",
              "      <td>...</td>\n",
              "      <td>...</td>\n",
              "      <td>...</td>\n",
              "      <td>...</td>\n",
              "    </tr>\n",
              "    <tr>\n",
              "      <th>1873</th>\n",
              "      <td>North America</td>\n",
              "      <td>22-39</td>\n",
              "      <td>Female</td>\n",
              "      <td>Mostly true</td>\n",
              "      <td>Strongly agree</td>\n",
              "      <td>Agree</td>\n",
              "      <td>Neutral</td>\n",
              "      <td>Agree</td>\n",
              "      <td>Agree</td>\n",
              "      <td>Disagree</td>\n",
              "      <td>Strongly agree</td>\n",
              "      <td>Neutral</td>\n",
              "      <td>Mostly true</td>\n",
              "      <td>Yes</td>\n",
              "    </tr>\n",
              "    <tr>\n",
              "      <th>1874</th>\n",
              "      <td>North America</td>\n",
              "      <td>Under 22</td>\n",
              "      <td>Female</td>\n",
              "      <td>Mostly true</td>\n",
              "      <td>Strongly agree</td>\n",
              "      <td>Agree</td>\n",
              "      <td>Important</td>\n",
              "      <td>Disagree</td>\n",
              "      <td>Disagree</td>\n",
              "      <td>Agree</td>\n",
              "      <td>Strongly agree</td>\n",
              "      <td>Neutral</td>\n",
              "      <td>Neutral</td>\n",
              "      <td>Yes</td>\n",
              "    </tr>\n",
              "    <tr>\n",
              "      <th>1875</th>\n",
              "      <td>North America</td>\n",
              "      <td>22-39</td>\n",
              "      <td>Female</td>\n",
              "      <td>Neutral</td>\n",
              "      <td>Agree</td>\n",
              "      <td>Agree</td>\n",
              "      <td>Important</td>\n",
              "      <td>Neutral</td>\n",
              "      <td>Strongly agree</td>\n",
              "      <td>Neutral</td>\n",
              "      <td>Agree</td>\n",
              "      <td>Mostly true</td>\n",
              "      <td>Mostly not true</td>\n",
              "      <td>Maybe/Not sure</td>\n",
              "    </tr>\n",
              "    <tr>\n",
              "      <th>1876</th>\n",
              "      <td>North America</td>\n",
              "      <td>22-39</td>\n",
              "      <td>Female</td>\n",
              "      <td>TRUE</td>\n",
              "      <td>Agree</td>\n",
              "      <td>Strongly agree</td>\n",
              "      <td>Important</td>\n",
              "      <td>Strongly disagree</td>\n",
              "      <td>Agree</td>\n",
              "      <td>Agree</td>\n",
              "      <td>Agree</td>\n",
              "      <td>Mostly true</td>\n",
              "      <td>Neutral</td>\n",
              "      <td>Maybe/Not sure</td>\n",
              "    </tr>\n",
              "    <tr>\n",
              "      <th>1877</th>\n",
              "      <td>North America</td>\n",
              "      <td>22-39</td>\n",
              "      <td>Female</td>\n",
              "      <td>TRUE</td>\n",
              "      <td>Strongly agree</td>\n",
              "      <td>Strongly agree</td>\n",
              "      <td>Very important</td>\n",
              "      <td>Disagree</td>\n",
              "      <td>Strongly agree</td>\n",
              "      <td>Strongly agree</td>\n",
              "      <td>Agree</td>\n",
              "      <td>Mostly true</td>\n",
              "      <td>Mostly true</td>\n",
              "      <td>Yes</td>\n",
              "    </tr>\n",
              "  </tbody>\n",
              "</table>\n",
              "<p>1878 rows × 14 columns</p>\n",
              "</div>\n",
              "      <button class=\"colab-df-convert\" onclick=\"convertToInteractive('df-a29ed781-b5f5-4af9-a4ff-7f62e978f98a')\"\n",
              "              title=\"Convert this dataframe to an interactive table.\"\n",
              "              style=\"display:none;\">\n",
              "        \n",
              "  <svg xmlns=\"http://www.w3.org/2000/svg\" height=\"24px\"viewBox=\"0 0 24 24\"\n",
              "       width=\"24px\">\n",
              "    <path d=\"M0 0h24v24H0V0z\" fill=\"none\"/>\n",
              "    <path d=\"M18.56 5.44l.94 2.06.94-2.06 2.06-.94-2.06-.94-.94-2.06-.94 2.06-2.06.94zm-11 1L8.5 8.5l.94-2.06 2.06-.94-2.06-.94L8.5 2.5l-.94 2.06-2.06.94zm10 10l.94 2.06.94-2.06 2.06-.94-2.06-.94-.94-2.06-.94 2.06-2.06.94z\"/><path d=\"M17.41 7.96l-1.37-1.37c-.4-.4-.92-.59-1.43-.59-.52 0-1.04.2-1.43.59L10.3 9.45l-7.72 7.72c-.78.78-.78 2.05 0 2.83L4 21.41c.39.39.9.59 1.41.59.51 0 1.02-.2 1.41-.59l7.78-7.78 2.81-2.81c.8-.78.8-2.07 0-2.86zM5.41 20L4 18.59l7.72-7.72 1.47 1.35L5.41 20z\"/>\n",
              "  </svg>\n",
              "      </button>\n",
              "      \n",
              "  <style>\n",
              "    .colab-df-container {\n",
              "      display:flex;\n",
              "      flex-wrap:wrap;\n",
              "      gap: 12px;\n",
              "    }\n",
              "\n",
              "    .colab-df-convert {\n",
              "      background-color: #E8F0FE;\n",
              "      border: none;\n",
              "      border-radius: 50%;\n",
              "      cursor: pointer;\n",
              "      display: none;\n",
              "      fill: #1967D2;\n",
              "      height: 32px;\n",
              "      padding: 0 0 0 0;\n",
              "      width: 32px;\n",
              "    }\n",
              "\n",
              "    .colab-df-convert:hover {\n",
              "      background-color: #E2EBFA;\n",
              "      box-shadow: 0px 1px 2px rgba(60, 64, 67, 0.3), 0px 1px 3px 1px rgba(60, 64, 67, 0.15);\n",
              "      fill: #174EA6;\n",
              "    }\n",
              "\n",
              "    [theme=dark] .colab-df-convert {\n",
              "      background-color: #3B4455;\n",
              "      fill: #D2E3FC;\n",
              "    }\n",
              "\n",
              "    [theme=dark] .colab-df-convert:hover {\n",
              "      background-color: #434B5C;\n",
              "      box-shadow: 0px 1px 3px 1px rgba(0, 0, 0, 0.15);\n",
              "      filter: drop-shadow(0px 1px 2px rgba(0, 0, 0, 0.3));\n",
              "      fill: #FFFFFF;\n",
              "    }\n",
              "  </style>\n",
              "\n",
              "      <script>\n",
              "        const buttonEl =\n",
              "          document.querySelector('#df-a29ed781-b5f5-4af9-a4ff-7f62e978f98a button.colab-df-convert');\n",
              "        buttonEl.style.display =\n",
              "          google.colab.kernel.accessAllowed ? 'block' : 'none';\n",
              "\n",
              "        async function convertToInteractive(key) {\n",
              "          const element = document.querySelector('#df-a29ed781-b5f5-4af9-a4ff-7f62e978f98a');\n",
              "          const dataTable =\n",
              "            await google.colab.kernel.invokeFunction('convertToInteractive',\n",
              "                                                     [key], {});\n",
              "          if (!dataTable) return;\n",
              "\n",
              "          const docLinkHtml = 'Like what you see? Visit the ' +\n",
              "            '<a target=\"_blank\" href=https://colab.research.google.com/notebooks/data_table.ipynb>data table notebook</a>'\n",
              "            + ' to learn more about interactive tables.';\n",
              "          element.innerHTML = '';\n",
              "          dataTable['output_type'] = 'display_data';\n",
              "          await google.colab.output.renderOutput(dataTable, element);\n",
              "          const docLink = document.createElement('div');\n",
              "          docLink.innerHTML = docLinkHtml;\n",
              "          element.appendChild(docLink);\n",
              "        }\n",
              "      </script>\n",
              "    </div>\n",
              "  </div>\n",
              "  "
            ]
          },
          "metadata": {},
          "execution_count": 42
        }
      ],
      "source": [
        "data = pd.read_csv('/content/drive/MyDrive/dataset/DVSF2.csv')\n",
        "data"
      ]
    },
    {
      "cell_type": "code",
      "source": [
        "data['decisions'].nunique()"
      ],
      "metadata": {
        "colab": {
          "base_uri": "https://localhost:8080/"
        },
        "id": "sCkOIV01fkh1",
        "outputId": "2d014667-a9dc-4fed-99eb-ec7c75403e08"
      },
      "execution_count": 43,
      "outputs": [
        {
          "output_type": "execute_result",
          "data": {
            "text/plain": [
              "5"
            ]
          },
          "metadata": {},
          "execution_count": 43
        }
      ]
    },
    {
      "cell_type": "code",
      "source": [
        "count = data[(data['gender'] == 'Female') & (data['purchased'] == 'Yes')].shape[0]\n",
        "print(count)\n"
      ],
      "metadata": {
        "colab": {
          "base_uri": "https://localhost:8080/"
        },
        "id": "w8lc0wqbhc3c",
        "outputId": "de8a8ee3-f848-4cc3-f6db-e93c67509093"
      },
      "execution_count": 44,
      "outputs": [
        {
          "output_type": "stream",
          "name": "stdout",
          "text": [
            "977\n"
          ]
        }
      ]
    },
    {
      "cell_type": "code",
      "source": [
        "data[\"purchased\"].unique()"
      ],
      "metadata": {
        "colab": {
          "base_uri": "https://localhost:8080/"
        },
        "id": "LWYxPqanmiN-",
        "outputId": "43c93708-beb6-43d5-f8db-10098116c112"
      },
      "execution_count": 45,
      "outputs": [
        {
          "output_type": "execute_result",
          "data": {
            "text/plain": [
              "array(['Maybe/Not sure', 'Yes', 'No'], dtype=object)"
            ]
          },
          "metadata": {},
          "execution_count": 45
        }
      ]
    },
    {
      "cell_type": "markdown",
      "source": [
        "# demongraphic"
      ],
      "metadata": {
        "id": "4X3qgmCWuc3G"
      }
    },
    {
      "cell_type": "code",
      "source": [
        "\n",
        "ax=data.groupby(['age', 'purchased']).size().unstack().plot(kind='bar',figsize=(8, 6),width=0.8)\n",
        "for i in ax.containers:\n",
        "    ax.bar_label(i)\n",
        "plt.show()"
      ],
      "metadata": {
        "colab": {
          "base_uri": "https://localhost:8080/",
          "height": 592
        },
        "id": "5FgLrJCdjHcA",
        "outputId": "0a607703-b8c7-4934-aa18-07ae5ba90b83"
      },
      "execution_count": 46,
      "outputs": [
        {
          "output_type": "display_data",
          "data": {
            "text/plain": [
              "<Figure size 800x600 with 1 Axes>"
            ],
            "image/png": "[encoded data removed]"
          },
          "metadata": {}
        }
      ]
    },
    {
      "cell_type": "code",
      "source": [
        "ax=data.groupby(['location', 'purchased']).size().unstack().plot(kind='bar',figsize=(8, 6),width=0.8)\n",
        "for i in ax.containers:\n",
        "    ax.bar_label(i)\n",
        "plt.show()"
      ],
      "metadata": {
        "colab": {
          "base_uri": "https://localhost:8080/",
          "height": 630
        },
        "id": "JF-l4QvIoGVn",
        "outputId": "9b00a644-d0ad-4438-a603-6905b0ef7fa5"
      },
      "execution_count": 47,
      "outputs": [
        {
          "output_type": "display_data",
          "data": {
            "text/plain": [
              "<Figure size 800x600 with 1 Axes>"
            ],
            "image/png": "[encoded data removed]"
          },
          "metadata": {}
        }
      ]
    },
    {
      "cell_type": "code",
      "source": [
        "ax=data.groupby(['gender', 'purchased']).size().unstack().plot(kind='bar',figsize=(8, 6),width=0.8)\n",
        "for i in ax.containers:\n",
        "    ax.bar_label(i)\n",
        "plt.show()"
      ],
      "metadata": {
        "colab": {
          "base_uri": "https://localhost:8080/",
          "height": 643
        },
        "id": "CCJvuqcDvckY",
        "outputId": "65c66bba-4e0a-4779-b32a-0be0bccfa804"
      },
      "execution_count": 48,
      "outputs": [
        {
          "output_type": "display_data",
          "data": {
            "text/plain": [
              "<Figure size 800x600 with 1 Axes>"
            ],
            "image/png": "[encoded data removed]"
          },
          "metadata": {}
        }
      ]
    },
    {
      "cell_type": "code",
      "source": [
        "print('level of uncertainty',data.uncertainty.value_counts(normalize=True))\n",
        "data.uncertainty.value_counts(normalize=True).plot.pie()\n",
        "plt.show()"
      ],
      "metadata": {
        "colab": {
          "base_uri": "https://localhost:8080/",
          "height": 510
        },
        "id": "ElqG-14p6YKe",
        "outputId": "6e8cc4a1-34b5-475c-baac-0d104851544d"
      },
      "execution_count": 49,
      "outputs": [
        {
          "output_type": "stream",
          "name": "stdout",
          "text": [
            "level of uncertainty Agree                0.436635\n",
            "Strongly agree       0.280085\n",
            "Neutral              0.174121\n",
            "Disagree             0.096379\n",
            "Strongly disagree    0.012780\n",
            "Name: uncertainty, dtype: float64\n"
          ]
        },
        {
          "output_type": "display_data",
          "data": {
            "text/plain": [
              "<Figure size 640x480 with 1 Axes>"
            ],
            "image/png": "[encoded data removed]"
          },
          "metadata": {}
        }
      ]
    },
    {
      "cell_type": "code",
      "source": [],
      "metadata": {
        "id": "_-CMxjkWkYBh"
      },
      "execution_count": 49,
      "outputs": []
    },
    {
      "cell_type": "markdown",
      "source": [
        "# available and location\n"
      ],
      "metadata": {
        "id": "lt4lByQsuk10"
      }
    },
    {
      "cell_type": "code",
      "source": [
        "import pandas as pd\n",
        "import seaborn as sns\n",
        "print(data.columns)\n",
        "print(data['decisions'].unique())\n",
        "print(data['meaningful'].unique())\n",
        "print(data['personal_identity'].unique())\n",
        "print(data['Feeling_good'].unique())\n",
        "print(data['knowledge'].unique())\n",
        "print(data['expensive'].unique())\n",
        "print(data[' not_available'].unique())\n",
        "print(data['uncertainty'].unique())\n",
        "print(data['preference'].unique())\n",
        "print(data['intention'].unique())\n",
        "print(data['purchased'].unique())"
      ],
      "metadata": {
        "colab": {
          "base_uri": "https://localhost:8080/"
        },
        "id": "XImt11PDxUAm",
        "outputId": "fddec1e2-3d11-4d27-cd21-8da296ebe7b6"
      },
      "execution_count": 50,
      "outputs": [
        {
          "output_type": "stream",
          "name": "stdout",
          "text": [
            "Index(['location', 'age', 'gender', 'decisions', 'meaningful',\n",
            "       'personal_identity', 'Feeling_good', 'knowledge', 'expensive',\n",
            "       ' not_available', 'uncertainty', 'preference', 'intention',\n",
            "       'purchased'],\n",
            "      dtype='object')\n",
            "['Mostly not true' 'Mostly true' 'Neutral' 'TRUE' 'Not true']\n",
            "['Disagree' 'Neutral' 'Strongly agree' 'Agree' 'Strongly disagree']\n",
            "['Disagree' 'Agree' 'Neutral' 'Strongly agree' 'Strongly disagree']\n",
            "['Not important' 'Important' 'Slightly important' 'Neutral'\n",
            " 'Very important']\n",
            "['Strongly disagree' 'Disagree' 'Neutral' 'Strongly agree' 'Agree']\n",
            "['Strongly agree' 'Disagree' 'Agree' 'Neutral' 'Strongly disagree' ' ']\n",
            "['Neutral' 'Disagree' 'Strongly agree' 'Agree' 'Strongly disagree']\n",
            "['Strongly agree' 'Neutral' 'Strongly disagree' 'Agree' 'Disagree']\n",
            "['Not true' 'Mostly not true' 'Mostly true' 'Neutral' 'TRUE']\n",
            "['Not true' 'Mostly not true' 'Neutral' 'TRUE' 'Mostly true']\n",
            "['Maybe/Not sure' 'Yes' 'No']\n"
          ]
        }
      ]
    },
    {
      "cell_type": "code",
      "source": [
        "\n",
        "data.replace({'Mostly not true':1, 'Mostly true':3, 'Neutral':2, 'TRUE':4, 'Not true':0}, inplace=True)\n",
        "\n",
        "data.replace({'Disagree':1, 'Neutral':2, 'Strongly agree':4, 'Agree':3, 'Strongly disagree':0}, inplace=True)\n",
        "\n",
        "data.replace({'Not important':0, 'Important':3, 'Slightly important':1, 'Neutral':2, 'Very important':4}, inplace=True)"
      ],
      "metadata": {
        "id": "-dOPDP5vffrY"
      },
      "execution_count": 51,
      "outputs": []
    },
    {
      "cell_type": "code",
      "source": [
        "data.replace({'Maybe/Not sure':1 ,'Yes':2 ,'No':0}, inplace=True)"
      ],
      "metadata": {
        "id": "IBMBHidg0P-5"
      },
      "execution_count": 52,
      "outputs": []
    },
    {
      "cell_type": "code",
      "source": [
        "data"
      ],
      "metadata": {
        "colab": {
          "base_uri": "https://localhost:8080/",
          "height": 424
        },
        "id": "XshvtlIj0cmJ",
        "outputId": "edd56956-11fe-4ed2-d618-518d8bc23197"
      },
      "execution_count": 53,
      "outputs": [
        {
          "output_type": "execute_result",
          "data": {
            "text/plain": [
              "           location       age  gender  decisions  meaningful  \\\n",
              "0     North America     22-39    Male          1           1   \n",
              "1     North America     22-39  Female          3           2   \n",
              "2     North America     52-70  Female          3           2   \n",
              "3     North America     22-39  Female          3           4   \n",
              "4     North America     22-39  Female          1           4   \n",
              "...             ...       ...     ...        ...         ...   \n",
              "1873  North America     22-39  Female          3           4   \n",
              "1874  North America  Under 22  Female          3           4   \n",
              "1875  North America     22-39  Female          2           3   \n",
              "1876  North America     22-39  Female          4           3   \n",
              "1877  North America     22-39  Female          4           4   \n",
              "\n",
              "      personal_identity  Feeling_good  knowledge expensive   not_available  \\\n",
              "0                     1             0          0         4               2   \n",
              "1                     3             3          1         1               1   \n",
              "2                     1             1          2         3               2   \n",
              "3                     3             2          0         2               2   \n",
              "4                     2             4          0         4               4   \n",
              "...                 ...           ...        ...       ...             ...   \n",
              "1873                  3             2          3         3               1   \n",
              "1874                  3             3          1         1               3   \n",
              "1875                  3             3          2         4               2   \n",
              "1876                  4             3          0         3               3   \n",
              "1877                  4             4          1         4               4   \n",
              "\n",
              "      uncertainty  preference  intention  purchased  \n",
              "0               4           0          0          1  \n",
              "1               2           1          1          1  \n",
              "2               2           3          2          1  \n",
              "3               2           2          2          1  \n",
              "4               4           3          0          1  \n",
              "...           ...         ...        ...        ...  \n",
              "1873            4           2          3          2  \n",
              "1874            4           2          2          2  \n",
              "1875            3           3          1          1  \n",
              "1876            3           3          2          1  \n",
              "1877            3           3          3          2  \n",
              "\n",
              "[1878 rows x 14 columns]"
            ],
            "text/html": [
              "\n",
              "  <div id=\"df-b19963bf-080b-4c23-ba27-0ce154e97714\">\n",
              "    <div class=\"colab-df-container\">\n",
              "      <div>\n",
              "<style scoped>\n",
              "    .dataframe tbody tr th:only-of-type {\n",
              "        vertical-align: middle;\n",
              "    }\n",
              "\n",
              "    .dataframe tbody tr th {\n",
              "        vertical-align: top;\n",
              "    }\n",
              "\n",
              "    .dataframe thead th {\n",
              "        text-align: right;\n",
              "    }\n",
              "</style>\n",
              "<table border=\"1\" class=\"dataframe\">\n",
              "  <thead>\n",
              "    <tr style=\"text-align: right;\">\n",
              "      <th></th>\n",
              "      <th>location</th>\n",
              "      <th>age</th>\n",
              "      <th>gender</th>\n",
              "      <th>decisions</th>\n",
              "      <th>meaningful</th>\n",
              "      <th>personal_identity</th>\n",
              "      <th>Feeling_good</th>\n",
              "      <th>knowledge</th>\n",
              "      <th>expensive</th>\n",
              "      <th>not_available</th>\n",
              "      <th>uncertainty</th>\n",
              "      <th>preference</th>\n",
              "      <th>intention</th>\n",
              "      <th>purchased</th>\n",
              "    </tr>\n",
              "  </thead>\n",
              "  <tbody>\n",
              "    <tr>\n",
              "      <th>0</th>\n",
              "      <td>North America</td>\n",
              "      <td>22-39</td>\n",
              "      <td>Male</td>\n",
              "      <td>1</td>\n",
              "      <td>1</td>\n",
              "      <td>1</td>\n",
              "      <td>0</td>\n",
              "      <td>0</td>\n",
              "      <td>4</td>\n",
              "      <td>2</td>\n",
              "      <td>4</td>\n",
              "      <td>0</td>\n",
              "      <td>0</td>\n",
              "      <td>1</td>\n",
              "    </tr>\n",
              "    <tr>\n",
              "      <th>1</th>\n",
              "      <td>North America</td>\n",
              "      <td>22-39</td>\n",
              "      <td>Female</td>\n",
              "      <td>3</td>\n",
              "      <td>2</td>\n",
              "      <td>3</td>\n",
              "      <td>3</td>\n",
              "      <td>1</td>\n",
              "      <td>1</td>\n",
              "      <td>1</td>\n",
              "      <td>2</td>\n",
              "      <td>1</td>\n",
              "      <td>1</td>\n",
              "      <td>1</td>\n",
              "    </tr>\n",
              "    <tr>\n",
              "      <th>2</th>\n",
              "      <td>North America</td>\n",
              "      <td>52-70</td>\n",
              "      <td>Female</td>\n",
              "      <td>3</td>\n",
              "      <td>2</td>\n",
              "      <td>1</td>\n",
              "      <td>1</td>\n",
              "      <td>2</td>\n",
              "      <td>3</td>\n",
              "      <td>2</td>\n",
              "      <td>2</td>\n",
              "      <td>3</td>\n",
              "      <td>2</td>\n",
              "      <td>1</td>\n",
              "    </tr>\n",
              "    <tr>\n",
              "      <th>3</th>\n",
              "      <td>North America</td>\n",
              "      <td>22-39</td>\n",
              "      <td>Female</td>\n",
              "      <td>3</td>\n",
              "      <td>4</td>\n",
              "      <td>3</td>\n",
              "      <td>2</td>\n",
              "      <td>0</td>\n",
              "      <td>2</td>\n",
              "      <td>2</td>\n",
              "      <td>2</td>\n",
              "      <td>2</td>\n",
              "      <td>2</td>\n",
              "      <td>1</td>\n",
              "    </tr>\n",
              "    <tr>\n",
              "      <th>4</th>\n",
              "      <td>North America</td>\n",
              "      <td>22-39</td>\n",
              "      <td>Female</td>\n",
              "      <td>1</td>\n",
              "      <td>4</td>\n",
              "      <td>2</td>\n",
              "      <td>4</td>\n",
              "      <td>0</td>\n",
              "      <td>4</td>\n",
              "      <td>4</td>\n",
              "      <td>4</td>\n",
              "      <td>3</td>\n",
              "      <td>0</td>\n",
              "      <td>1</td>\n",
              "    </tr>\n",
              "    <tr>\n",
              "      <th>...</th>\n",
              "      <td>...</td>\n",
              "      <td>...</td>\n",
              "      <td>...</td>\n",
              "      <td>...</td>\n",
              "      <td>...</td>\n",
              "      <td>...</td>\n",
              "      <td>...</td>\n",
              "      <td>...</td>\n",
              "      <td>...</td>\n",
              "      <td>...</td>\n",
              "      <td>...</td>\n",
              "      <td>...</td>\n",
              "      <td>...</td>\n",
              "      <td>...</td>\n",
              "    </tr>\n",
              "    <tr>\n",
              "      <th>1873</th>\n",
              "      <td>North America</td>\n",
              "      <td>22-39</td>\n",
              "      <td>Female</td>\n",
              "      <td>3</td>\n",
              "      <td>4</td>\n",
              "      <td>3</td>\n",
              "      <td>2</td>\n",
              "      <td>3</td>\n",
              "      <td>3</td>\n",
              "      <td>1</td>\n",
              "      <td>4</td>\n",
              "      <td>2</td>\n",
              "      <td>3</td>\n",
              "      <td>2</td>\n",
              "    </tr>\n",
              "    <tr>\n",
              "      <th>1874</th>\n",
              "      <td>North America</td>\n",
              "      <td>Under 22</td>\n",
              "      <td>Female</td>\n",
              "      <td>3</td>\n",
              "      <td>4</td>\n",
              "      <td>3</td>\n",
              "      <td>3</td>\n",
              "      <td>1</td>\n",
              "      <td>1</td>\n",
              "      <td>3</td>\n",
              "      <td>4</td>\n",
              "      <td>2</td>\n",
              "      <td>2</td>\n",
              "      <td>2</td>\n",
              "    </tr>\n",
              "    <tr>\n",
              "      <th>1875</th>\n",
              "      <td>North America</td>\n",
              "      <td>22-39</td>\n",
              "      <td>Female</td>\n",
              "      <td>2</td>\n",
              "      <td>3</td>\n",
              "      <td>3</td>\n",
              "      <td>3</td>\n",
              "      <td>2</td>\n",
              "      <td>4</td>\n",
              "      <td>2</td>\n",
              "      <td>3</td>\n",
              "      <td>3</td>\n",
              "      <td>1</td>\n",
              "      <td>1</td>\n",
              "    </tr>\n",
              "    <tr>\n",
              "      <th>1876</th>\n",
              "      <td>North America</td>\n",
              "      <td>22-39</td>\n",
              "      <td>Female</td>\n",
              "      <td>4</td>\n",
              "      <td>3</td>\n",
              "      <td>4</td>\n",
              "      <td>3</td>\n",
              "      <td>0</td>\n",
              "      <td>3</td>\n",
              "      <td>3</td>\n",
              "      <td>3</td>\n",
              "      <td>3</td>\n",
              "      <td>2</td>\n",
              "      <td>1</td>\n",
              "    </tr>\n",
              "    <tr>\n",
              "      <th>1877</th>\n",
              "      <td>North America</td>\n",
              "      <td>22-39</td>\n",
              "      <td>Female</td>\n",
              "      <td>4</td>\n",
              "      <td>4</td>\n",
              "      <td>4</td>\n",
              "      <td>4</td>\n",
              "      <td>1</td>\n",
              "      <td>4</td>\n",
              "      <td>4</td>\n",
              "      <td>3</td>\n",
              "      <td>3</td>\n",
              "      <td>3</td>\n",
              "      <td>2</td>\n",
              "    </tr>\n",
              "  </tbody>\n",
              "</table>\n",
              "<p>1878 rows × 14 columns</p>\n",
              "</div>\n",
              "      <button class=\"colab-df-convert\" onclick=\"convertToInteractive('df-b19963bf-080b-4c23-ba27-0ce154e97714')\"\n",
              "              title=\"Convert this dataframe to an interactive table.\"\n",
              "              style=\"display:none;\">\n",
              "        \n",
              "  <svg xmlns=\"http://www.w3.org/2000/svg\" height=\"24px\"viewBox=\"0 0 24 24\"\n",
              "       width=\"24px\">\n",
              "    <path d=\"M0 0h24v24H0V0z\" fill=\"none\"/>\n",
              "    <path d=\"M18.56 5.44l.94 2.06.94-2.06 2.06-.94-2.06-.94-.94-2.06-.94 2.06-2.06.94zm-11 1L8.5 8.5l.94-2.06 2.06-.94-2.06-.94L8.5 2.5l-.94 2.06-2.06.94zm10 10l.94 2.06.94-2.06 2.06-.94-2.06-.94-.94-2.06-.94 2.06-2.06.94z\"/><path d=\"M17.41 7.96l-1.37-1.37c-.4-.4-.92-.59-1.43-.59-.52 0-1.04.2-1.43.59L10.3 9.45l-7.72 7.72c-.78.78-.78 2.05 0 2.83L4 21.41c.39.39.9.59 1.41.59.51 0 1.02-.2 1.41-.59l7.78-7.78 2.81-2.81c.8-.78.8-2.07 0-2.86zM5.41 20L4 18.59l7.72-7.72 1.47 1.35L5.41 20z\"/>\n",
              "  </svg>\n",
              "      </button>\n",
              "      \n",
              "  <style>\n",
              "    .colab-df-container {\n",
              "      display:flex;\n",
              "      flex-wrap:wrap;\n",
              "      gap: 12px;\n",
              "    }\n",
              "\n",
              "    .colab-df-convert {\n",
              "      background-color: #E8F0FE;\n",
              "      border: none;\n",
              "      border-radius: 50%;\n",
              "      cursor: pointer;\n",
              "      display: none;\n",
              "      fill: #1967D2;\n",
              "      height: 32px;\n",
              "      padding: 0 0 0 0;\n",
              "      width: 32px;\n",
              "    }\n",
              "\n",
              "    .colab-df-convert:hover {\n",
              "      background-color: #E2EBFA;\n",
              "      box-shadow: 0px 1px 2px rgba(60, 64, 67, 0.3), 0px 1px 3px 1px rgba(60, 64, 67, 0.15);\n",
              "      fill: #174EA6;\n",
              "    }\n",
              "\n",
              "    [theme=dark] .colab-df-convert {\n",
              "      background-color: #3B4455;\n",
              "      fill: #D2E3FC;\n",
              "    }\n",
              "\n",
              "    [theme=dark] .colab-df-convert:hover {\n",
              "      background-color: #434B5C;\n",
              "      box-shadow: 0px 1px 3px 1px rgba(0, 0, 0, 0.15);\n",
              "      filter: drop-shadow(0px 1px 2px rgba(0, 0, 0, 0.3));\n",
              "      fill: #FFFFFF;\n",
              "    }\n",
              "  </style>\n",
              "\n",
              "      <script>\n",
              "        const buttonEl =\n",
              "          document.querySelector('#df-b19963bf-080b-4c23-ba27-0ce154e97714 button.colab-df-convert');\n",
              "        buttonEl.style.display =\n",
              "          google.colab.kernel.accessAllowed ? 'block' : 'none';\n",
              "\n",
              "        async function convertToInteractive(key) {\n",
              "          const element = document.querySelector('#df-b19963bf-080b-4c23-ba27-0ce154e97714');\n",
              "          const dataTable =\n",
              "            await google.colab.kernel.invokeFunction('convertToInteractive',\n",
              "                                                     [key], {});\n",
              "          if (!dataTable) return;\n",
              "\n",
              "          const docLinkHtml = 'Like what you see? Visit the ' +\n",
              "            '<a target=\"_blank\" href=https://colab.research.google.com/notebooks/data_table.ipynb>data table notebook</a>'\n",
              "            + ' to learn more about interactive tables.';\n",
              "          element.innerHTML = '';\n",
              "          dataTable['output_type'] = 'display_data';\n",
              "          await google.colab.output.renderOutput(dataTable, element);\n",
              "          const docLink = document.createElement('div');\n",
              "          docLink.innerHTML = docLinkHtml;\n",
              "          element.appendChild(docLink);\n",
              "        }\n",
              "      </script>\n",
              "    </div>\n",
              "  </div>\n",
              "  "
            ]
          },
          "metadata": {},
          "execution_count": 53
        }
      ]
    },
    {
      "cell_type": "code",
      "source": [
        "data.columns"
      ],
      "metadata": {
        "colab": {
          "base_uri": "https://localhost:8080/"
        },
        "id": "wWJ0SZdi0ssZ",
        "outputId": "c02d6b3f-b6c7-4e14-e9ea-55077822fb60"
      },
      "execution_count": 54,
      "outputs": [
        {
          "output_type": "execute_result",
          "data": {
            "text/plain": [
              "Index(['location', 'age', 'gender', 'decisions', 'meaningful',\n",
              "       'personal_identity', 'Feeling_good', 'knowledge', 'expensive',\n",
              "       ' not_available', 'uncertainty', 'preference', 'intention',\n",
              "       'purchased'],\n",
              "      dtype='object')"
            ]
          },
          "metadata": {},
          "execution_count": 54
        }
      ]
    },
    {
      "cell_type": "code",
      "source": [
        "data2=data.drop(data.columns[[0, 1, 2]], axis=1)\n",
        "data2"
      ],
      "metadata": {
        "colab": {
          "base_uri": "https://localhost:8080/",
          "height": 424
        },
        "id": "mJs_2SNr4B_U",
        "outputId": "2a272ca9-98bb-468e-e466-67381d3be2f1"
      },
      "execution_count": 55,
      "outputs": [
        {
          "output_type": "execute_result",
          "data": {
            "text/plain": [
              "      decisions  meaningful  personal_identity  Feeling_good  knowledge  \\\n",
              "0             1           1                  1             0          0   \n",
              "1             3           2                  3             3          1   \n",
              "2             3           2                  1             1          2   \n",
              "3             3           4                  3             2          0   \n",
              "4             1           4                  2             4          0   \n",
              "...         ...         ...                ...           ...        ...   \n",
              "1873          3           4                  3             2          3   \n",
              "1874          3           4                  3             3          1   \n",
              "1875          2           3                  3             3          2   \n",
              "1876          4           3                  4             3          0   \n",
              "1877          4           4                  4             4          1   \n",
              "\n",
              "     expensive   not_available  uncertainty  preference  intention  purchased  \n",
              "0            4               2            4           0          0          1  \n",
              "1            1               1            2           1          1          1  \n",
              "2            3               2            2           3          2          1  \n",
              "3            2               2            2           2          2          1  \n",
              "4            4               4            4           3          0          1  \n",
              "...        ...             ...          ...         ...        ...        ...  \n",
              "1873         3               1            4           2          3          2  \n",
              "1874         1               3            4           2          2          2  \n",
              "1875         4               2            3           3          1          1  \n",
              "1876         3               3            3           3          2          1  \n",
              "1877         4               4            3           3          3          2  \n",
              "\n",
              "[1878 rows x 11 columns]"
            ],
            "text/html": [
              "\n",
              "  <div id=\"df-825fd1c1-cacf-42ca-aac2-86f1b95719dc\">\n",
              "    <div class=\"colab-df-container\">\n",
              "      <div>\n",
              "<style scoped>\n",
              "    .dataframe tbody tr th:only-of-type {\n",
              "        vertical-align: middle;\n",
              "    }\n",
              "\n",
              "    .dataframe tbody tr th {\n",
              "        vertical-align: top;\n",
              "    }\n",
              "\n",
              "    .dataframe thead th {\n",
              "        text-align: right;\n",
              "    }\n",
              "</style>\n",
              "<table border=\"1\" class=\"dataframe\">\n",
              "  <thead>\n",
              "    <tr style=\"text-align: right;\">\n",
              "      <th></th>\n",
              "      <th>decisions</th>\n",
              "      <th>meaningful</th>\n",
              "      <th>personal_identity</th>\n",
              "      <th>Feeling_good</th>\n",
              "      <th>knowledge</th>\n",
              "      <th>expensive</th>\n",
              "      <th>not_available</th>\n",
              "      <th>uncertainty</th>\n",
              "      <th>preference</th>\n",
              "      <th>intention</th>\n",
              "      <th>purchased</th>\n",
              "    </tr>\n",
              "  </thead>\n",
              "  <tbody>\n",
              "    <tr>\n",
              "      <th>0</th>\n",
              "      <td>1</td>\n",
              "      <td>1</td>\n",
              "      <td>1</td>\n",
              "      <td>0</td>\n",
              "      <td>0</td>\n",
              "      <td>4</td>\n",
              "      <td>2</td>\n",
              "      <td>4</td>\n",
              "      <td>0</td>\n",
              "      <td>0</td>\n",
              "      <td>1</td>\n",
              "    </tr>\n",
              "    <tr>\n",
              "      <th>1</th>\n",
              "      <td>3</td>\n",
              "      <td>2</td>\n",
              "      <td>3</td>\n",
              "      <td>3</td>\n",
              "      <td>1</td>\n",
              "      <td>1</td>\n",
              "      <td>1</td>\n",
              "      <td>2</td>\n",
              "      <td>1</td>\n",
              "      <td>1</td>\n",
              "      <td>1</td>\n",
              "    </tr>\n",
              "    <tr>\n",
              "      <th>2</th>\n",
              "      <td>3</td>\n",
              "      <td>2</td>\n",
              "      <td>1</td>\n",
              "      <td>1</td>\n",
              "      <td>2</td>\n",
              "      <td>3</td>\n",
              "      <td>2</td>\n",
              "      <td>2</td>\n",
              "      <td>3</td>\n",
              "      <td>2</td>\n",
              "      <td>1</td>\n",
              "    </tr>\n",
              "    <tr>\n",
              "      <th>3</th>\n",
              "      <td>3</td>\n",
              "      <td>4</td>\n",
              "      <td>3</td>\n",
              "      <td>2</td>\n",
              "      <td>0</td>\n",
              "      <td>2</td>\n",
              "      <td>2</td>\n",
              "      <td>2</td>\n",
              "      <td>2</td>\n",
              "      <td>2</td>\n",
              "      <td>1</td>\n",
              "    </tr>\n",
              "    <tr>\n",
              "      <th>4</th>\n",
              "      <td>1</td>\n",
              "      <td>4</td>\n",
              "      <td>2</td>\n",
              "      <td>4</td>\n",
              "      <td>0</td>\n",
              "      <td>4</td>\n",
              "      <td>4</td>\n",
              "      <td>4</td>\n",
              "      <td>3</td>\n",
              "      <td>0</td>\n",
              "      <td>1</td>\n",
              "    </tr>\n",
              "    <tr>\n",
              "      <th>...</th>\n",
              "      <td>...</td>\n",
              "      <td>...</td>\n",
              "      <td>...</td>\n",
              "      <td>...</td>\n",
              "      <td>...</td>\n",
              "      <td>...</td>\n",
              "      <td>...</td>\n",
              "      <td>...</td>\n",
              "      <td>...</td>\n",
              "      <td>...</td>\n",
              "      <td>...</td>\n",
              "    </tr>\n",
              "    <tr>\n",
              "      <th>1873</th>\n",
              "      <td>3</td>\n",
              "      <td>4</td>\n",
              "      <td>3</td>\n",
              "      <td>2</td>\n",
              "      <td>3</td>\n",
              "      <td>3</td>\n",
              "      <td>1</td>\n",
              "      <td>4</td>\n",
              "      <td>2</td>\n",
              "      <td>3</td>\n",
              "      <td>2</td>\n",
              "    </tr>\n",
              "    <tr>\n",
              "      <th>1874</th>\n",
              "      <td>3</td>\n",
              "      <td>4</td>\n",
              "      <td>3</td>\n",
              "      <td>3</td>\n",
              "      <td>1</td>\n",
              "      <td>1</td>\n",
              "      <td>3</td>\n",
              "      <td>4</td>\n",
              "      <td>2</td>\n",
              "      <td>2</td>\n",
              "      <td>2</td>\n",
              "    </tr>\n",
              "    <tr>\n",
              "      <th>1875</th>\n",
              "      <td>2</td>\n",
              "      <td>3</td>\n",
              "      <td>3</td>\n",
              "      <td>3</td>\n",
              "      <td>2</td>\n",
              "      <td>4</td>\n",
              "      <td>2</td>\n",
              "      <td>3</td>\n",
              "      <td>3</td>\n",
              "      <td>1</td>\n",
              "      <td>1</td>\n",
              "    </tr>\n",
              "    <tr>\n",
              "      <th>1876</th>\n",
              "      <td>4</td>\n",
              "      <td>3</td>\n",
              "      <td>4</td>\n",
              "      <td>3</td>\n",
              "      <td>0</td>\n",
              "      <td>3</td>\n",
              "      <td>3</td>\n",
              "      <td>3</td>\n",
              "      <td>3</td>\n",
              "      <td>2</td>\n",
              "      <td>1</td>\n",
              "    </tr>\n",
              "    <tr>\n",
              "      <th>1877</th>\n",
              "      <td>4</td>\n",
              "      <td>4</td>\n",
              "      <td>4</td>\n",
              "      <td>4</td>\n",
              "      <td>1</td>\n",
              "      <td>4</td>\n",
              "      <td>4</td>\n",
              "      <td>3</td>\n",
              "      <td>3</td>\n",
              "      <td>3</td>\n",
              "      <td>2</td>\n",
              "    </tr>\n",
              "  </tbody>\n",
              "</table>\n",
              "<p>1878 rows × 11 columns</p>\n",
              "</div>\n",
              "      <button class=\"colab-df-convert\" onclick=\"convertToInteractive('df-825fd1c1-cacf-42ca-aac2-86f1b95719dc')\"\n",
              "              title=\"Convert this dataframe to an interactive table.\"\n",
              "              style=\"display:none;\">\n",
              "        \n",
              "  <svg xmlns=\"http://www.w3.org/2000/svg\" height=\"24px\"viewBox=\"0 0 24 24\"\n",
              "       width=\"24px\">\n",
              "    <path d=\"M0 0h24v24H0V0z\" fill=\"none\"/>\n",
              "    <path d=\"M18.56 5.44l.94 2.06.94-2.06 2.06-.94-2.06-.94-.94-2.06-.94 2.06-2.06.94zm-11 1L8.5 8.5l.94-2.06 2.06-.94-2.06-.94L8.5 2.5l-.94 2.06-2.06.94zm10 10l.94 2.06.94-2.06 2.06-.94-2.06-.94-.94-2.06-.94 2.06-2.06.94z\"/><path d=\"M17.41 7.96l-1.37-1.37c-.4-.4-.92-.59-1.43-.59-.52 0-1.04.2-1.43.59L10.3 9.45l-7.72 7.72c-.78.78-.78 2.05 0 2.83L4 21.41c.39.39.9.59 1.41.59.51 0 1.02-.2 1.41-.59l7.78-7.78 2.81-2.81c.8-.78.8-2.07 0-2.86zM5.41 20L4 18.59l7.72-7.72 1.47 1.35L5.41 20z\"/>\n",
              "  </svg>\n",
              "      </button>\n",
              "      \n",
              "  <style>\n",
              "    .colab-df-container {\n",
              "      display:flex;\n",
              "      flex-wrap:wrap;\n",
              "      gap: 12px;\n",
              "    }\n",
              "\n",
              "    .colab-df-convert {\n",
              "      background-color: #E8F0FE;\n",
              "      border: none;\n",
              "      border-radius: 50%;\n",
              "      cursor: pointer;\n",
              "      display: none;\n",
              "      fill: #1967D2;\n",
              "      height: 32px;\n",
              "      padding: 0 0 0 0;\n",
              "      width: 32px;\n",
              "    }\n",
              "\n",
              "    .colab-df-convert:hover {\n",
              "      background-color: #E2EBFA;\n",
              "      box-shadow: 0px 1px 2px rgba(60, 64, 67, 0.3), 0px 1px 3px 1px rgba(60, 64, 67, 0.15);\n",
              "      fill: #174EA6;\n",
              "    }\n",
              "\n",
              "    [theme=dark] .colab-df-convert {\n",
              "      background-color: #3B4455;\n",
              "      fill: #D2E3FC;\n",
              "    }\n",
              "\n",
              "    [theme=dark] .colab-df-convert:hover {\n",
              "      background-color: #434B5C;\n",
              "      box-shadow: 0px 1px 3px 1px rgba(0, 0, 0, 0.15);\n",
              "      filter: drop-shadow(0px 1px 2px rgba(0, 0, 0, 0.3));\n",
              "      fill: #FFFFFF;\n",
              "    }\n",
              "  </style>\n",
              "\n",
              "      <script>\n",
              "        const buttonEl =\n",
              "          document.querySelector('#df-825fd1c1-cacf-42ca-aac2-86f1b95719dc button.colab-df-convert');\n",
              "        buttonEl.style.display =\n",
              "          google.colab.kernel.accessAllowed ? 'block' : 'none';\n",
              "\n",
              "        async function convertToInteractive(key) {\n",
              "          const element = document.querySelector('#df-825fd1c1-cacf-42ca-aac2-86f1b95719dc');\n",
              "          const dataTable =\n",
              "            await google.colab.kernel.invokeFunction('convertToInteractive',\n",
              "                                                     [key], {});\n",
              "          if (!dataTable) return;\n",
              "\n",
              "          const docLinkHtml = 'Like what you see? Visit the ' +\n",
              "            '<a target=\"_blank\" href=https://colab.research.google.com/notebooks/data_table.ipynb>data table notebook</a>'\n",
              "            + ' to learn more about interactive tables.';\n",
              "          element.innerHTML = '';\n",
              "          dataTable['output_type'] = 'display_data';\n",
              "          await google.colab.output.renderOutput(dataTable, element);\n",
              "          const docLink = document.createElement('div');\n",
              "          docLink.innerHTML = docLinkHtml;\n",
              "          element.appendChild(docLink);\n",
              "        }\n",
              "      </script>\n",
              "    </div>\n",
              "  </div>\n",
              "  "
            ]
          },
          "metadata": {},
          "execution_count": 55
        }
      ]
    },
    {
      "cell_type": "code",
      "source": [
        "data[['meaningful','Feeling_good','personal_identity']].corr()\n",
        "\n",
        "#plot the correlation matrix of salary, balance and age in data dataframe.\n",
        "sns.heatmap(data[['meaningful','Feeling_good','personal_identity']].corr(), annot=True, cmap = 'Reds')\n",
        "plt.show()"
      ],
      "metadata": {
        "colab": {
          "base_uri": "https://localhost:8080/",
          "height": 435
        },
        "id": "JU7LNWeX4Zih",
        "outputId": "6466ff68-93f0-4dc1-a2c7-b267dfc79e63"
      },
      "execution_count": 56,
      "outputs": [
        {
          "output_type": "display_data",
          "data": {
            "text/plain": [
              "<Figure size 640x480 with 2 Axes>"
            ],
            "image/png": "[encoded data removed]"
          },
          "metadata": {}
        }
      ]
    },
    {
      "cell_type": "code",
      "source": [
        "sns.heatmap(data2.corr(), annot=True, cmap = 'cool')\n",
        "plt.show()"
      ],
      "metadata": {
        "colab": {
          "base_uri": "https://localhost:8080/",
          "height": 596
        },
        "id": "jOnNUIq27iCn",
        "outputId": "9a5ae45b-ae9f-4d94-82bf-e86f50d84858"
      },
      "execution_count": 57,
      "outputs": [
        {
          "output_type": "stream",
          "name": "stderr",
          "text": [
            "<ipython-input-57-291943338faf>:1: FutureWarning: The default value of numeric_only in DataFrame.corr is deprecated. In a future version, it will default to False. Select only valid columns or specify the value of numeric_only to silence this warning.\n",
            "  sns.heatmap(data2.corr(), annot=True, cmap = 'cool')\n"
          ]
        },
        {
          "output_type": "display_data",
          "data": {
            "text/plain": [
              "<Figure size 640x480 with 2 Axes>"
            ],
            "image/png": "[encoded data removed]"
          },
          "metadata": {}
        }
      ]
    },
    {
      "cell_type": "code",
      "source": [
        "result = pd.pivot_table(data=data2, index='preference', columns='intention',values='knowledge')\n",
        "print(result)\n",
        "\n",
        "#create heat map of education vs marital vs response_rate\n",
        "sns.heatmap(result, annot=True, cmap = 'RdYlGn', center=0.117)\n",
        "plt.show()"
      ],
      "metadata": {
        "colab": {
          "base_uri": "https://localhost:8080/",
          "height": 577
        },
        "id": "8uBQcCXA71XD",
        "outputId": "f44d2b89-0ec2-4d17-fe74-bfe4017a7da6"
      },
      "execution_count": 58,
      "outputs": [
        {
          "output_type": "stream",
          "name": "stdout",
          "text": [
            "intention          0         1         2         3         4\n",
            "preference                                                  \n",
            "0           0.341463  1.200000  1.000000  1.666667  4.000000\n",
            "1           0.593750  0.824561  1.000000  1.750000  3.333333\n",
            "2           0.545455  1.144000  1.400000  2.245283  2.538462\n",
            "3           0.653846  1.172043  1.660194  2.072917  2.400000\n",
            "4           1.000000  1.687500  1.677419  2.191257  2.660661\n"
          ]
        },
        {
          "output_type": "display_data",
          "data": {
            "text/plain": [
              "<Figure size 640x480 with 2 Axes>"
            ],
            "image/png": "[encoded data removed]"
          },
          "metadata": {}
        }
      ]
    },
    {
      "cell_type": "code",
      "source": [
        "data2"
      ],
      "metadata": {
        "colab": {
          "base_uri": "https://localhost:8080/",
          "height": 424
        },
        "id": "7gDdIw8K91B2",
        "outputId": "41b586fd-37ad-497a-f66d-61d4074b9cb6"
      },
      "execution_count": 59,
      "outputs": [
        {
          "output_type": "execute_result",
          "data": {
            "text/plain": [
              "      decisions  meaningful  personal_identity  Feeling_good  knowledge  \\\n",
              "0             1           1                  1             0          0   \n",
              "1             3           2                  3             3          1   \n",
              "2             3           2                  1             1          2   \n",
              "3             3           4                  3             2          0   \n",
              "4             1           4                  2             4          0   \n",
              "...         ...         ...                ...           ...        ...   \n",
              "1873          3           4                  3             2          3   \n",
              "1874          3           4                  3             3          1   \n",
              "1875          2           3                  3             3          2   \n",
              "1876          4           3                  4             3          0   \n",
              "1877          4           4                  4             4          1   \n",
              "\n",
              "     expensive   not_available  uncertainty  preference  intention  purchased  \n",
              "0            4               2            4           0          0          1  \n",
              "1            1               1            2           1          1          1  \n",
              "2            3               2            2           3          2          1  \n",
              "3            2               2            2           2          2          1  \n",
              "4            4               4            4           3          0          1  \n",
              "...        ...             ...          ...         ...        ...        ...  \n",
              "1873         3               1            4           2          3          2  \n",
              "1874         1               3            4           2          2          2  \n",
              "1875         4               2            3           3          1          1  \n",
              "1876         3               3            3           3          2          1  \n",
              "1877         4               4            3           3          3          2  \n",
              "\n",
              "[1878 rows x 11 columns]"
            ],
            "text/html": [
              "\n",
              "  <div id=\"df-a27114d9-63ea-417f-a87e-2d704d4da801\">\n",
              "    <div class=\"colab-df-container\">\n",
              "      <div>\n",
              "<style scoped>\n",
              "    .dataframe tbody tr th:only-of-type {\n",
              "        vertical-align: middle;\n",
              "    }\n",
              "\n",
              "    .dataframe tbody tr th {\n",
              "        vertical-align: top;\n",
              "    }\n",
              "\n",
              "    .dataframe thead th {\n",
              "        text-align: right;\n",
              "    }\n",
              "</style>\n",
              "<table border=\"1\" class=\"dataframe\">\n",
              "  <thead>\n",
              "    <tr style=\"text-align: right;\">\n",
              "      <th></th>\n",
              "      <th>decisions</th>\n",
              "      <th>meaningful</th>\n",
              "      <th>personal_identity</th>\n",
              "      <th>Feeling_good</th>\n",
              "      <th>knowledge</th>\n",
              "      <th>expensive</th>\n",
              "      <th>not_available</th>\n",
              "      <th>uncertainty</th>\n",
              "      <th>preference</th>\n",
              "      <th>intention</th>\n",
              "      <th>purchased</th>\n",
              "    </tr>\n",
              "  </thead>\n",
              "  <tbody>\n",
              "    <tr>\n",
              "      <th>0</th>\n",
              "      <td>1</td>\n",
              "      <td>1</td>\n",
              "      <td>1</td>\n",
              "      <td>0</td>\n",
              "      <td>0</td>\n",
              "      <td>4</td>\n",
              "      <td>2</td>\n",
              "      <td>4</td>\n",
              "      <td>0</td>\n",
              "      <td>0</td>\n",
              "      <td>1</td>\n",
              "    </tr>\n",
              "    <tr>\n",
              "      <th>1</th>\n",
              "      <td>3</td>\n",
              "      <td>2</td>\n",
              "      <td>3</td>\n",
              "      <td>3</td>\n",
              "      <td>1</td>\n",
              "      <td>1</td>\n",
              "      <td>1</td>\n",
              "      <td>2</td>\n",
              "      <td>1</td>\n",
              "      <td>1</td>\n",
              "      <td>1</td>\n",
              "    </tr>\n",
              "    <tr>\n",
              "      <th>2</th>\n",
              "      <td>3</td>\n",
              "      <td>2</td>\n",
              "      <td>1</td>\n",
              "      <td>1</td>\n",
              "      <td>2</td>\n",
              "      <td>3</td>\n",
              "      <td>2</td>\n",
              "      <td>2</td>\n",
              "      <td>3</td>\n",
              "      <td>2</td>\n",
              "      <td>1</td>\n",
              "    </tr>\n",
              "    <tr>\n",
              "      <th>3</th>\n",
              "      <td>3</td>\n",
              "      <td>4</td>\n",
              "      <td>3</td>\n",
              "      <td>2</td>\n",
              "      <td>0</td>\n",
              "      <td>2</td>\n",
              "      <td>2</td>\n",
              "      <td>2</td>\n",
              "      <td>2</td>\n",
              "      <td>2</td>\n",
              "      <td>1</td>\n",
              "    </tr>\n",
              "    <tr>\n",
              "      <th>4</th>\n",
              "      <td>1</td>\n",
              "      <td>4</td>\n",
              "      <td>2</td>\n",
              "      <td>4</td>\n",
              "      <td>0</td>\n",
              "      <td>4</td>\n",
              "      <td>4</td>\n",
              "      <td>4</td>\n",
              "      <td>3</td>\n",
              "      <td>0</td>\n",
              "      <td>1</td>\n",
              "    </tr>\n",
              "    <tr>\n",
              "      <th>...</th>\n",
              "      <td>...</td>\n",
              "      <td>...</td>\n",
              "      <td>...</td>\n",
              "      <td>...</td>\n",
              "      <td>...</td>\n",
              "      <td>...</td>\n",
              "      <td>...</td>\n",
              "      <td>...</td>\n",
              "      <td>...</td>\n",
              "      <td>...</td>\n",
              "      <td>...</td>\n",
              "    </tr>\n",
              "    <tr>\n",
              "      <th>1873</th>\n",
              "      <td>3</td>\n",
              "      <td>4</td>\n",
              "      <td>3</td>\n",
              "      <td>2</td>\n",
              "      <td>3</td>\n",
              "      <td>3</td>\n",
              "      <td>1</td>\n",
              "      <td>4</td>\n",
              "      <td>2</td>\n",
              "      <td>3</td>\n",
              "      <td>2</td>\n",
              "    </tr>\n",
              "    <tr>\n",
              "      <th>1874</th>\n",
              "      <td>3</td>\n",
              "      <td>4</td>\n",
              "      <td>3</td>\n",
              "      <td>3</td>\n",
              "      <td>1</td>\n",
              "      <td>1</td>\n",
              "      <td>3</td>\n",
              "      <td>4</td>\n",
              "      <td>2</td>\n",
              "      <td>2</td>\n",
              "      <td>2</td>\n",
              "    </tr>\n",
              "    <tr>\n",
              "      <th>1875</th>\n",
              "      <td>2</td>\n",
              "      <td>3</td>\n",
              "      <td>3</td>\n",
              "      <td>3</td>\n",
              "      <td>2</td>\n",
              "      <td>4</td>\n",
              "      <td>2</td>\n",
              "      <td>3</td>\n",
              "      <td>3</td>\n",
              "      <td>1</td>\n",
              "      <td>1</td>\n",
              "    </tr>\n",
              "    <tr>\n",
              "      <th>1876</th>\n",
              "      <td>4</td>\n",
              "      <td>3</td>\n",
              "      <td>4</td>\n",
              "      <td>3</td>\n",
              "      <td>0</td>\n",
              "      <td>3</td>\n",
              "      <td>3</td>\n",
              "      <td>3</td>\n",
              "      <td>3</td>\n",
              "      <td>2</td>\n",
              "      <td>1</td>\n",
              "    </tr>\n",
              "    <tr>\n",
              "      <th>1877</th>\n",
              "      <td>4</td>\n",
              "      <td>4</td>\n",
              "      <td>4</td>\n",
              "      <td>4</td>\n",
              "      <td>1</td>\n",
              "      <td>4</td>\n",
              "      <td>4</td>\n",
              "      <td>3</td>\n",
              "      <td>3</td>\n",
              "      <td>3</td>\n",
              "      <td>2</td>\n",
              "    </tr>\n",
              "  </tbody>\n",
              "</table>\n",
              "<p>1878 rows × 11 columns</p>\n",
              "</div>\n",
              "      <button class=\"colab-df-convert\" onclick=\"convertToInteractive('df-a27114d9-63ea-417f-a87e-2d704d4da801')\"\n",
              "              title=\"Convert this dataframe to an interactive table.\"\n",
              "              style=\"display:none;\">\n",
              "        \n",
              "  <svg xmlns=\"http://www.w3.org/2000/svg\" height=\"24px\"viewBox=\"0 0 24 24\"\n",
              "       width=\"24px\">\n",
              "    <path d=\"M0 0h24v24H0V0z\" fill=\"none\"/>\n",
              "    <path d=\"M18.56 5.44l.94 2.06.94-2.06 2.06-.94-2.06-.94-.94-2.06-.94 2.06-2.06.94zm-11 1L8.5 8.5l.94-2.06 2.06-.94-2.06-.94L8.5 2.5l-.94 2.06-2.06.94zm10 10l.94 2.06.94-2.06 2.06-.94-2.06-.94-.94-2.06-.94 2.06-2.06.94z\"/><path d=\"M17.41 7.96l-1.37-1.37c-.4-.4-.92-.59-1.43-.59-.52 0-1.04.2-1.43.59L10.3 9.45l-7.72 7.72c-.78.78-.78 2.05 0 2.83L4 21.41c.39.39.9.59 1.41.59.51 0 1.02-.2 1.41-.59l7.78-7.78 2.81-2.81c.8-.78.8-2.07 0-2.86zM5.41 20L4 18.59l7.72-7.72 1.47 1.35L5.41 20z\"/>\n",
              "  </svg>\n",
              "      </button>\n",
              "      \n",
              "  <style>\n",
              "    .colab-df-container {\n",
              "      display:flex;\n",
              "      flex-wrap:wrap;\n",
              "      gap: 12px;\n",
              "    }\n",
              "\n",
              "    .colab-df-convert {\n",
              "      background-color: #E8F0FE;\n",
              "      border: none;\n",
              "      border-radius: 50%;\n",
              "      cursor: pointer;\n",
              "      display: none;\n",
              "      fill: #1967D2;\n",
              "      height: 32px;\n",
              "      padding: 0 0 0 0;\n",
              "      width: 32px;\n",
              "    }\n",
              "\n",
              "    .colab-df-convert:hover {\n",
              "      background-color: #E2EBFA;\n",
              "      box-shadow: 0px 1px 2px rgba(60, 64, 67, 0.3), 0px 1px 3px 1px rgba(60, 64, 67, 0.15);\n",
              "      fill: #174EA6;\n",
              "    }\n",
              "\n",
              "    [theme=dark] .colab-df-convert {\n",
              "      background-color: #3B4455;\n",
              "      fill: #D2E3FC;\n",
              "    }\n",
              "\n",
              "    [theme=dark] .colab-df-convert:hover {\n",
              "      background-color: #434B5C;\n",
              "      box-shadow: 0px 1px 3px 1px rgba(0, 0, 0, 0.15);\n",
              "      filter: drop-shadow(0px 1px 2px rgba(0, 0, 0, 0.3));\n",
              "      fill: #FFFFFF;\n",
              "    }\n",
              "  </style>\n",
              "\n",
              "      <script>\n",
              "        const buttonEl =\n",
              "          document.querySelector('#df-a27114d9-63ea-417f-a87e-2d704d4da801 button.colab-df-convert');\n",
              "        buttonEl.style.display =\n",
              "          google.colab.kernel.accessAllowed ? 'block' : 'none';\n",
              "\n",
              "        async function convertToInteractive(key) {\n",
              "          const element = document.querySelector('#df-a27114d9-63ea-417f-a87e-2d704d4da801');\n",
              "          const dataTable =\n",
              "            await google.colab.kernel.invokeFunction('convertToInteractive',\n",
              "                                                     [key], {});\n",
              "          if (!dataTable) return;\n",
              "\n",
              "          const docLinkHtml = 'Like what you see? Visit the ' +\n",
              "            '<a target=\"_blank\" href=https://colab.research.google.com/notebooks/data_table.ipynb>data table notebook</a>'\n",
              "            + ' to learn more about interactive tables.';\n",
              "          element.innerHTML = '';\n",
              "          dataTable['output_type'] = 'display_data';\n",
              "          await google.colab.output.renderOutput(dataTable, element);\n",
              "          const docLink = document.createElement('div');\n",
              "          docLink.innerHTML = docLinkHtml;\n",
              "          element.appendChild(docLink);\n",
              "        }\n",
              "      </script>\n",
              "    </div>\n",
              "  </div>\n",
              "  "
            ]
          },
          "metadata": {},
          "execution_count": 59
        }
      ]
    },
    {
      "cell_type": "code",
      "source": [
        "# data.to_csv('DVproj1.csv')\n",
        "\n",
        "# from pydrive.auth import GoogleAuth\n",
        "# from pydrive.drive import GoogleDrive\n",
        "# from google.colab import auth\n",
        "# from oauth2client.client import GoogleCredentials\n",
        "\n",
        "# # Authenticate and create the PyDrive client.\n",
        "# # This only needs to be done once in a notebook.\n",
        "# auth.authenticate_user()\n",
        "# gauth = GoogleAuth()\n",
        "# gauth.credentials = GoogleCredentials.get_application_default()\n",
        "# drive = GoogleDrive(gauth)\n",
        "# # Create & upload a text file.\n",
        "# uploaded = drive.CreateFile({'title': 'DVSF.csv'})\n",
        "\n",
        "# uploaded.SetContentFile('DVproj1.csv')\n",
        "# uploaded.Upload()\n",
        "# print('Uploaded file with ID {}'.format(uploaded.get('id')))"
      ],
      "metadata": {
        "id": "GYttOwpB-bmk"
      },
      "execution_count": 60,
      "outputs": []
    },
    {
      "cell_type": "markdown",
      "source": [
        "# modeling part\n"
      ],
      "metadata": {
        "id": "XOtmAWezNTu_"
      }
    },
    {
      "cell_type": "code",
      "source": [
        "data2"
      ],
      "metadata": {
        "colab": {
          "base_uri": "https://localhost:8080/",
          "height": 424
        },
        "id": "SiE5aCDpNSQ0",
        "outputId": "ed6f2b18-300c-462e-b5c1-600b719c9526"
      },
      "execution_count": 61,
      "outputs": [
        {
          "output_type": "execute_result",
          "data": {
            "text/plain": [
              "      decisions  meaningful  personal_identity  Feeling_good  knowledge  \\\n",
              "0             1           1                  1             0          0   \n",
              "1             3           2                  3             3          1   \n",
              "2             3           2                  1             1          2   \n",
              "3             3           4                  3             2          0   \n",
              "4             1           4                  2             4          0   \n",
              "...         ...         ...                ...           ...        ...   \n",
              "1873          3           4                  3             2          3   \n",
              "1874          3           4                  3             3          1   \n",
              "1875          2           3                  3             3          2   \n",
              "1876          4           3                  4             3          0   \n",
              "1877          4           4                  4             4          1   \n",
              "\n",
              "     expensive   not_available  uncertainty  preference  intention  purchased  \n",
              "0            4               2            4           0          0          1  \n",
              "1            1               1            2           1          1          1  \n",
              "2            3               2            2           3          2          1  \n",
              "3            2               2            2           2          2          1  \n",
              "4            4               4            4           3          0          1  \n",
              "...        ...             ...          ...         ...        ...        ...  \n",
              "1873         3               1            4           2          3          2  \n",
              "1874         1               3            4           2          2          2  \n",
              "1875         4               2            3           3          1          1  \n",
              "1876         3               3            3           3          2          1  \n",
              "1877         4               4            3           3          3          2  \n",
              "\n",
              "[1878 rows x 11 columns]"
            ],
            "text/html": [
              "\n",
              "  <div id=\"df-d725b367-2995-4cea-807f-443b8f20c205\">\n",
              "    <div class=\"colab-df-container\">\n",
              "      <div>\n",
              "<style scoped>\n",
              "    .dataframe tbody tr th:only-of-type {\n",
              "        vertical-align: middle;\n",
              "    }\n",
              "\n",
              "    .dataframe tbody tr th {\n",
              "        vertical-align: top;\n",
              "    }\n",
              "\n",
              "    .dataframe thead th {\n",
              "        text-align: right;\n",
              "    }\n",
              "</style>\n",
              "<table border=\"1\" class=\"dataframe\">\n",
              "  <thead>\n",
              "    <tr style=\"text-align: right;\">\n",
              "      <th></th>\n",
              "      <th>decisions</th>\n",
              "      <th>meaningful</th>\n",
              "      <th>personal_identity</th>\n",
              "      <th>Feeling_good</th>\n",
              "      <th>knowledge</th>\n",
              "      <th>expensive</th>\n",
              "      <th>not_available</th>\n",
              "      <th>uncertainty</th>\n",
              "      <th>preference</th>\n",
              "      <th>intention</th>\n",
              "      <th>purchased</th>\n",
              "    </tr>\n",
              "  </thead>\n",
              "  <tbody>\n",
              "    <tr>\n",
              "      <th>0</th>\n",
              "      <td>1</td>\n",
              "      <td>1</td>\n",
              "      <td>1</td>\n",
              "      <td>0</td>\n",
              "      <td>0</td>\n",
              "      <td>4</td>\n",
              "      <td>2</td>\n",
              "      <td>4</td>\n",
              "      <td>0</td>\n",
              "      <td>0</td>\n",
              "      <td>1</td>\n",
              "    </tr>\n",
              "    <tr>\n",
              "      <th>1</th>\n",
              "      <td>3</td>\n",
              "      <td>2</td>\n",
              "      <td>3</td>\n",
              "      <td>3</td>\n",
              "      <td>1</td>\n",
              "      <td>1</td>\n",
              "      <td>1</td>\n",
              "      <td>2</td>\n",
              "      <td>1</td>\n",
              "      <td>1</td>\n",
              "      <td>1</td>\n",
              "    </tr>\n",
              "    <tr>\n",
              "      <th>2</th>\n",
              "      <td>3</td>\n",
              "      <td>2</td>\n",
              "      <td>1</td>\n",
              "      <td>1</td>\n",
              "      <td>2</td>\n",
              "      <td>3</td>\n",
              "      <td>2</td>\n",
              "      <td>2</td>\n",
              "      <td>3</td>\n",
              "      <td>2</td>\n",
              "      <td>1</td>\n",
              "    </tr>\n",
              "    <tr>\n",
              "      <th>3</th>\n",
              "      <td>3</td>\n",
              "      <td>4</td>\n",
              "      <td>3</td>\n",
              "      <td>2</td>\n",
              "      <td>0</td>\n",
              "      <td>2</td>\n",
              "      <td>2</td>\n",
              "      <td>2</td>\n",
              "      <td>2</td>\n",
              "      <td>2</td>\n",
              "      <td>1</td>\n",
              "    </tr>\n",
              "    <tr>\n",
              "      <th>4</th>\n",
              "      <td>1</td>\n",
              "      <td>4</td>\n",
              "      <td>2</td>\n",
              "      <td>4</td>\n",
              "      <td>0</td>\n",
              "      <td>4</td>\n",
              "      <td>4</td>\n",
              "      <td>4</td>\n",
              "      <td>3</td>\n",
              "      <td>0</td>\n",
              "      <td>1</td>\n",
              "    </tr>\n",
              "    <tr>\n",
              "      <th>...</th>\n",
              "      <td>...</td>\n",
              "      <td>...</td>\n",
              "      <td>...</td>\n",
              "      <td>...</td>\n",
              "      <td>...</td>\n",
              "      <td>...</td>\n",
              "      <td>...</td>\n",
              "      <td>...</td>\n",
              "      <td>...</td>\n",
              "      <td>...</td>\n",
              "      <td>...</td>\n",
              "    </tr>\n",
              "    <tr>\n",
              "      <th>1873</th>\n",
              "      <td>3</td>\n",
              "      <td>4</td>\n",
              "      <td>3</td>\n",
              "      <td>2</td>\n",
              "      <td>3</td>\n",
              "      <td>3</td>\n",
              "      <td>1</td>\n",
              "      <td>4</td>\n",
              "      <td>2</td>\n",
              "      <td>3</td>\n",
              "      <td>2</td>\n",
              "    </tr>\n",
              "    <tr>\n",
              "      <th>1874</th>\n",
              "      <td>3</td>\n",
              "      <td>4</td>\n",
              "      <td>3</td>\n",
              "      <td>3</td>\n",
              "      <td>1</td>\n",
              "      <td>1</td>\n",
              "      <td>3</td>\n",
              "      <td>4</td>\n",
              "      <td>2</td>\n",
              "      <td>2</td>\n",
              "      <td>2</td>\n",
              "    </tr>\n",
              "    <tr>\n",
              "      <th>1875</th>\n",
              "      <td>2</td>\n",
              "      <td>3</td>\n",
              "      <td>3</td>\n",
              "      <td>3</td>\n",
              "      <td>2</td>\n",
              "      <td>4</td>\n",
              "      <td>2</td>\n",
              "      <td>3</td>\n",
              "      <td>3</td>\n",
              "      <td>1</td>\n",
              "      <td>1</td>\n",
              "    </tr>\n",
              "    <tr>\n",
              "      <th>1876</th>\n",
              "      <td>4</td>\n",
              "      <td>3</td>\n",
              "      <td>4</td>\n",
              "      <td>3</td>\n",
              "      <td>0</td>\n",
              "      <td>3</td>\n",
              "      <td>3</td>\n",
              "      <td>3</td>\n",
              "      <td>3</td>\n",
              "      <td>2</td>\n",
              "      <td>1</td>\n",
              "    </tr>\n",
              "    <tr>\n",
              "      <th>1877</th>\n",
              "      <td>4</td>\n",
              "      <td>4</td>\n",
              "      <td>4</td>\n",
              "      <td>4</td>\n",
              "      <td>1</td>\n",
              "      <td>4</td>\n",
              "      <td>4</td>\n",
              "      <td>3</td>\n",
              "      <td>3</td>\n",
              "      <td>3</td>\n",
              "      <td>2</td>\n",
              "    </tr>\n",
              "  </tbody>\n",
              "</table>\n",
              "<p>1878 rows × 11 columns</p>\n",
              "</div>\n",
              "      <button class=\"colab-df-convert\" onclick=\"convertToInteractive('df-d725b367-2995-4cea-807f-443b8f20c205')\"\n",
              "              title=\"Convert this dataframe to an interactive table.\"\n",
              "              style=\"display:none;\">\n",
              "        \n",
              "  <svg xmlns=\"http://www.w3.org/2000/svg\" height=\"24px\"viewBox=\"0 0 24 24\"\n",
              "       width=\"24px\">\n",
              "    <path d=\"M0 0h24v24H0V0z\" fill=\"none\"/>\n",
              "    <path d=\"M18.56 5.44l.94 2.06.94-2.06 2.06-.94-2.06-.94-.94-2.06-.94 2.06-2.06.94zm-11 1L8.5 8.5l.94-2.06 2.06-.94-2.06-.94L8.5 2.5l-.94 2.06-2.06.94zm10 10l.94 2.06.94-2.06 2.06-.94-2.06-.94-.94-2.06-.94 2.06-2.06.94z\"/><path d=\"M17.41 7.96l-1.37-1.37c-.4-.4-.92-.59-1.43-.59-.52 0-1.04.2-1.43.59L10.3 9.45l-7.72 7.72c-.78.78-.78 2.05 0 2.83L4 21.41c.39.39.9.59 1.41.59.51 0 1.02-.2 1.41-.59l7.78-7.78 2.81-2.81c.8-.78.8-2.07 0-2.86zM5.41 20L4 18.59l7.72-7.72 1.47 1.35L5.41 20z\"/>\n",
              "  </svg>\n",
              "      </button>\n",
              "      \n",
              "  <style>\n",
              "    .colab-df-container {\n",
              "      display:flex;\n",
              "      flex-wrap:wrap;\n",
              "      gap: 12px;\n",
              "    }\n",
              "\n",
              "    .colab-df-convert {\n",
              "      background-color: #E8F0FE;\n",
              "      border: none;\n",
              "      border-radius: 50%;\n",
              "      cursor: pointer;\n",
              "      display: none;\n",
              "      fill: #1967D2;\n",
              "      height: 32px;\n",
              "      padding: 0 0 0 0;\n",
              "      width: 32px;\n",
              "    }\n",
              "\n",
              "    .colab-df-convert:hover {\n",
              "      background-color: #E2EBFA;\n",
              "      box-shadow: 0px 1px 2px rgba(60, 64, 67, 0.3), 0px 1px 3px 1px rgba(60, 64, 67, 0.15);\n",
              "      fill: #174EA6;\n",
              "    }\n",
              "\n",
              "    [theme=dark] .colab-df-convert {\n",
              "      background-color: #3B4455;\n",
              "      fill: #D2E3FC;\n",
              "    }\n",
              "\n",
              "    [theme=dark] .colab-df-convert:hover {\n",
              "      background-color: #434B5C;\n",
              "      box-shadow: 0px 1px 3px 1px rgba(0, 0, 0, 0.15);\n",
              "      filter: drop-shadow(0px 1px 2px rgba(0, 0, 0, 0.3));\n",
              "      fill: #FFFFFF;\n",
              "    }\n",
              "  </style>\n",
              "\n",
              "      <script>\n",
              "        const buttonEl =\n",
              "          document.querySelector('#df-d725b367-2995-4cea-807f-443b8f20c205 button.colab-df-convert');\n",
              "        buttonEl.style.display =\n",
              "          google.colab.kernel.accessAllowed ? 'block' : 'none';\n",
              "\n",
              "        async function convertToInteractive(key) {\n",
              "          const element = document.querySelector('#df-d725b367-2995-4cea-807f-443b8f20c205');\n",
              "          const dataTable =\n",
              "            await google.colab.kernel.invokeFunction('convertToInteractive',\n",
              "                                                     [key], {});\n",
              "          if (!dataTable) return;\n",
              "\n",
              "          const docLinkHtml = 'Like what you see? Visit the ' +\n",
              "            '<a target=\"_blank\" href=https://colab.research.google.com/notebooks/data_table.ipynb>data table notebook</a>'\n",
              "            + ' to learn more about interactive tables.';\n",
              "          element.innerHTML = '';\n",
              "          dataTable['output_type'] = 'display_data';\n",
              "          await google.colab.output.renderOutput(dataTable, element);\n",
              "          const docLink = document.createElement('div');\n",
              "          docLink.innerHTML = docLinkHtml;\n",
              "          element.appendChild(docLink);\n",
              "        }\n",
              "      </script>\n",
              "    </div>\n",
              "  </div>\n",
              "  "
            ]
          },
          "metadata": {},
          "execution_count": 61
        }
      ]
    },
    {
      "cell_type": "code",
      "source": [
        "data2 = data2.dropna(axis=1, how='any')"
      ],
      "metadata": {
        "id": "fqffmGI8k_6V"
      },
      "execution_count": 62,
      "outputs": []
    },
    {
      "cell_type": "code",
      "source": [
        "data2"
      ],
      "metadata": {
        "colab": {
          "base_uri": "https://localhost:8080/",
          "height": 424
        },
        "id": "OWZD7X2KlT4D",
        "outputId": "7eeaa10d-c18c-4d55-ffa6-591b9a649abf"
      },
      "execution_count": 63,
      "outputs": [
        {
          "output_type": "execute_result",
          "data": {
            "text/plain": [
              "      decisions  meaningful  personal_identity  Feeling_good  knowledge  \\\n",
              "0             1           1                  1             0          0   \n",
              "1             3           2                  3             3          1   \n",
              "2             3           2                  1             1          2   \n",
              "3             3           4                  3             2          0   \n",
              "4             1           4                  2             4          0   \n",
              "...         ...         ...                ...           ...        ...   \n",
              "1873          3           4                  3             2          3   \n",
              "1874          3           4                  3             3          1   \n",
              "1875          2           3                  3             3          2   \n",
              "1876          4           3                  4             3          0   \n",
              "1877          4           4                  4             4          1   \n",
              "\n",
              "     expensive   not_available  uncertainty  preference  intention  purchased  \n",
              "0            4               2            4           0          0          1  \n",
              "1            1               1            2           1          1          1  \n",
              "2            3               2            2           3          2          1  \n",
              "3            2               2            2           2          2          1  \n",
              "4            4               4            4           3          0          1  \n",
              "...        ...             ...          ...         ...        ...        ...  \n",
              "1873         3               1            4           2          3          2  \n",
              "1874         1               3            4           2          2          2  \n",
              "1875         4               2            3           3          1          1  \n",
              "1876         3               3            3           3          2          1  \n",
              "1877         4               4            3           3          3          2  \n",
              "\n",
              "[1878 rows x 11 columns]"
            ],
            "text/html": [
              "\n",
              "  <div id=\"df-2c73df87-69cc-457e-9429-4990e7bf8402\">\n",
              "    <div class=\"colab-df-container\">\n",
              "      <div>\n",
              "<style scoped>\n",
              "    .dataframe tbody tr th:only-of-type {\n",
              "        vertical-align: middle;\n",
              "    }\n",
              "\n",
              "    .dataframe tbody tr th {\n",
              "        vertical-align: top;\n",
              "    }\n",
              "\n",
              "    .dataframe thead th {\n",
              "        text-align: right;\n",
              "    }\n",
              "</style>\n",
              "<table border=\"1\" class=\"dataframe\">\n",
              "  <thead>\n",
              "    <tr style=\"text-align: right;\">\n",
              "      <th></th>\n",
              "      <th>decisions</th>\n",
              "      <th>meaningful</th>\n",
              "      <th>personal_identity</th>\n",
              "      <th>Feeling_good</th>\n",
              "      <th>knowledge</th>\n",
              "      <th>expensive</th>\n",
              "      <th>not_available</th>\n",
              "      <th>uncertainty</th>\n",
              "      <th>preference</th>\n",
              "      <th>intention</th>\n",
              "      <th>purchased</th>\n",
              "    </tr>\n",
              "  </thead>\n",
              "  <tbody>\n",
              "    <tr>\n",
              "      <th>0</th>\n",
              "      <td>1</td>\n",
              "      <td>1</td>\n",
              "      <td>1</td>\n",
              "      <td>0</td>\n",
              "      <td>0</td>\n",
              "      <td>4</td>\n",
              "      <td>2</td>\n",
              "      <td>4</td>\n",
              "      <td>0</td>\n",
              "      <td>0</td>\n",
              "      <td>1</td>\n",
              "    </tr>\n",
              "    <tr>\n",
              "      <th>1</th>\n",
              "      <td>3</td>\n",
              "      <td>2</td>\n",
              "      <td>3</td>\n",
              "      <td>3</td>\n",
              "      <td>1</td>\n",
              "      <td>1</td>\n",
              "      <td>1</td>\n",
              "      <td>2</td>\n",
              "      <td>1</td>\n",
              "      <td>1</td>\n",
              "      <td>1</td>\n",
              "    </tr>\n",
              "    <tr>\n",
              "      <th>2</th>\n",
              "      <td>3</td>\n",
              "      <td>2</td>\n",
              "      <td>1</td>\n",
              "      <td>1</td>\n",
              "      <td>2</td>\n",
              "      <td>3</td>\n",
              "      <td>2</td>\n",
              "      <td>2</td>\n",
              "      <td>3</td>\n",
              "      <td>2</td>\n",
              "      <td>1</td>\n",
              "    </tr>\n",
              "    <tr>\n",
              "      <th>3</th>\n",
              "      <td>3</td>\n",
              "      <td>4</td>\n",
              "      <td>3</td>\n",
              "      <td>2</td>\n",
              "      <td>0</td>\n",
              "      <td>2</td>\n",
              "      <td>2</td>\n",
              "      <td>2</td>\n",
              "      <td>2</td>\n",
              "      <td>2</td>\n",
              "      <td>1</td>\n",
              "    </tr>\n",
              "    <tr>\n",
              "      <th>4</th>\n",
              "      <td>1</td>\n",
              "      <td>4</td>\n",
              "      <td>2</td>\n",
              "      <td>4</td>\n",
              "      <td>0</td>\n",
              "      <td>4</td>\n",
              "      <td>4</td>\n",
              "      <td>4</td>\n",
              "      <td>3</td>\n",
              "      <td>0</td>\n",
              "      <td>1</td>\n",
              "    </tr>\n",
              "    <tr>\n",
              "      <th>...</th>\n",
              "      <td>...</td>\n",
              "      <td>...</td>\n",
              "      <td>...</td>\n",
              "      <td>...</td>\n",
              "      <td>...</td>\n",
              "      <td>...</td>\n",
              "      <td>...</td>\n",
              "      <td>...</td>\n",
              "      <td>...</td>\n",
              "      <td>...</td>\n",
              "      <td>...</td>\n",
              "    </tr>\n",
              "    <tr>\n",
              "      <th>1873</th>\n",
              "      <td>3</td>\n",
              "      <td>4</td>\n",
              "      <td>3</td>\n",
              "      <td>2</td>\n",
              "      <td>3</td>\n",
              "      <td>3</td>\n",
              "      <td>1</td>\n",
              "      <td>4</td>\n",
              "      <td>2</td>\n",
              "      <td>3</td>\n",
              "      <td>2</td>\n",
              "    </tr>\n",
              "    <tr>\n",
              "      <th>1874</th>\n",
              "      <td>3</td>\n",
              "      <td>4</td>\n",
              "      <td>3</td>\n",
              "      <td>3</td>\n",
              "      <td>1</td>\n",
              "      <td>1</td>\n",
              "      <td>3</td>\n",
              "      <td>4</td>\n",
              "      <td>2</td>\n",
              "      <td>2</td>\n",
              "      <td>2</td>\n",
              "    </tr>\n",
              "    <tr>\n",
              "      <th>1875</th>\n",
              "      <td>2</td>\n",
              "      <td>3</td>\n",
              "      <td>3</td>\n",
              "      <td>3</td>\n",
              "      <td>2</td>\n",
              "      <td>4</td>\n",
              "      <td>2</td>\n",
              "      <td>3</td>\n",
              "      <td>3</td>\n",
              "      <td>1</td>\n",
              "      <td>1</td>\n",
              "    </tr>\n",
              "    <tr>\n",
              "      <th>1876</th>\n",
              "      <td>4</td>\n",
              "      <td>3</td>\n",
              "      <td>4</td>\n",
              "      <td>3</td>\n",
              "      <td>0</td>\n",
              "      <td>3</td>\n",
              "      <td>3</td>\n",
              "      <td>3</td>\n",
              "      <td>3</td>\n",
              "      <td>2</td>\n",
              "      <td>1</td>\n",
              "    </tr>\n",
              "    <tr>\n",
              "      <th>1877</th>\n",
              "      <td>4</td>\n",
              "      <td>4</td>\n",
              "      <td>4</td>\n",
              "      <td>4</td>\n",
              "      <td>1</td>\n",
              "      <td>4</td>\n",
              "      <td>4</td>\n",
              "      <td>3</td>\n",
              "      <td>3</td>\n",
              "      <td>3</td>\n",
              "      <td>2</td>\n",
              "    </tr>\n",
              "  </tbody>\n",
              "</table>\n",
              "<p>1878 rows × 11 columns</p>\n",
              "</div>\n",
              "      <button class=\"colab-df-convert\" onclick=\"convertToInteractive('df-2c73df87-69cc-457e-9429-4990e7bf8402')\"\n",
              "              title=\"Convert this dataframe to an interactive table.\"\n",
              "              style=\"display:none;\">\n",
              "        \n",
              "  <svg xmlns=\"http://www.w3.org/2000/svg\" height=\"24px\"viewBox=\"0 0 24 24\"\n",
              "       width=\"24px\">\n",
              "    <path d=\"M0 0h24v24H0V0z\" fill=\"none\"/>\n",
              "    <path d=\"M18.56 5.44l.94 2.06.94-2.06 2.06-.94-2.06-.94-.94-2.06-.94 2.06-2.06.94zm-11 1L8.5 8.5l.94-2.06 2.06-.94-2.06-.94L8.5 2.5l-.94 2.06-2.06.94zm10 10l.94 2.06.94-2.06 2.06-.94-2.06-.94-.94-2.06-.94 2.06-2.06.94z\"/><path d=\"M17.41 7.96l-1.37-1.37c-.4-.4-.92-.59-1.43-.59-.52 0-1.04.2-1.43.59L10.3 9.45l-7.72 7.72c-.78.78-.78 2.05 0 2.83L4 21.41c.39.39.9.59 1.41.59.51 0 1.02-.2 1.41-.59l7.78-7.78 2.81-2.81c.8-.78.8-2.07 0-2.86zM5.41 20L4 18.59l7.72-7.72 1.47 1.35L5.41 20z\"/>\n",
              "  </svg>\n",
              "      </button>\n",
              "      \n",
              "  <style>\n",
              "    .colab-df-container {\n",
              "      display:flex;\n",
              "      flex-wrap:wrap;\n",
              "      gap: 12px;\n",
              "    }\n",
              "\n",
              "    .colab-df-convert {\n",
              "      background-color: #E8F0FE;\n",
              "      border: none;\n",
              "      border-radius: 50%;\n",
              "      cursor: pointer;\n",
              "      display: none;\n",
              "      fill: #1967D2;\n",
              "      height: 32px;\n",
              "      padding: 0 0 0 0;\n",
              "      width: 32px;\n",
              "    }\n",
              "\n",
              "    .colab-df-convert:hover {\n",
              "      background-color: #E2EBFA;\n",
              "      box-shadow: 0px 1px 2px rgba(60, 64, 67, 0.3), 0px 1px 3px 1px rgba(60, 64, 67, 0.15);\n",
              "      fill: #174EA6;\n",
              "    }\n",
              "\n",
              "    [theme=dark] .colab-df-convert {\n",
              "      background-color: #3B4455;\n",
              "      fill: #D2E3FC;\n",
              "    }\n",
              "\n",
              "    [theme=dark] .colab-df-convert:hover {\n",
              "      background-color: #434B5C;\n",
              "      box-shadow: 0px 1px 3px 1px rgba(0, 0, 0, 0.15);\n",
              "      filter: drop-shadow(0px 1px 2px rgba(0, 0, 0, 0.3));\n",
              "      fill: #FFFFFF;\n",
              "    }\n",
              "  </style>\n",
              "\n",
              "      <script>\n",
              "        const buttonEl =\n",
              "          document.querySelector('#df-2c73df87-69cc-457e-9429-4990e7bf8402 button.colab-df-convert');\n",
              "        buttonEl.style.display =\n",
              "          google.colab.kernel.accessAllowed ? 'block' : 'none';\n",
              "\n",
              "        async function convertToInteractive(key) {\n",
              "          const element = document.querySelector('#df-2c73df87-69cc-457e-9429-4990e7bf8402');\n",
              "          const dataTable =\n",
              "            await google.colab.kernel.invokeFunction('convertToInteractive',\n",
              "                                                     [key], {});\n",
              "          if (!dataTable) return;\n",
              "\n",
              "          const docLinkHtml = 'Like what you see? Visit the ' +\n",
              "            '<a target=\"_blank\" href=https://colab.research.google.com/notebooks/data_table.ipynb>data table notebook</a>'\n",
              "            + ' to learn more about interactive tables.';\n",
              "          element.innerHTML = '';\n",
              "          dataTable['output_type'] = 'display_data';\n",
              "          await google.colab.output.renderOutput(dataTable, element);\n",
              "          const docLink = document.createElement('div');\n",
              "          docLink.innerHTML = docLinkHtml;\n",
              "          element.appendChild(docLink);\n",
              "        }\n",
              "      </script>\n",
              "    </div>\n",
              "  </div>\n",
              "  "
            ]
          },
          "metadata": {},
          "execution_count": 63
        }
      ]
    },
    {
      "cell_type": "code",
      "source": [
        "import sklearn\n",
        "from sklearn.preprocessing import MinMaxScaler\n",
        "from sklearn.preprocessing import LabelEncoder\n",
        "from sklearn.model_selection import train_test_split\n",
        "\n",
        "import tensorflow as tf"
      ],
      "metadata": {
        "id": "l42N4XFxNvDJ"
      },
      "execution_count": 64,
      "outputs": []
    },
    {
      "cell_type": "code",
      "source": [
        "data2=data2.drop(columns=['expensive'])"
      ],
      "metadata": {
        "id": "1r39LcHWl-hk"
      },
      "execution_count": 65,
      "outputs": []
    },
    {
      "cell_type": "code",
      "source": [
        "\n",
        "# y_train=data2['intention']\n",
        "X_train,X_test, y_train, y_test = sklearn.model_selection.train_test_split(data2,data2['intention'],test_size=0.2, random_state=0)"
      ],
      "metadata": {
        "id": "JCB9hyF6N9E-"
      },
      "execution_count": 66,
      "outputs": []
    },
    {
      "cell_type": "code",
      "source": [
        "X_test.dtypes"
      ],
      "metadata": {
        "colab": {
          "base_uri": "https://localhost:8080/"
        },
        "id": "1sOwVnWqjVlF",
        "outputId": "230909bc-ec7b-4190-d522-2ede7fa062dc"
      },
      "execution_count": 67,
      "outputs": [
        {
          "output_type": "execute_result",
          "data": {
            "text/plain": [
              "decisions            int64\n",
              "meaningful           int64\n",
              "personal_identity    int64\n",
              "Feeling_good         int64\n",
              "knowledge            int64\n",
              " not_available       int64\n",
              "uncertainty          int64\n",
              "preference           int64\n",
              "intention            int64\n",
              "purchased            int64\n",
              "dtype: object"
            ]
          },
          "metadata": {},
          "execution_count": 67
        }
      ]
    },
    {
      "cell_type": "markdown",
      "source": [
        "# linear_model"
      ],
      "metadata": {
        "id": "xaGiAU5_2kZM"
      }
    },
    {
      "cell_type": "code",
      "source": [
        "from sklearn.linear_model import RidgeClassifier\n",
        "\n",
        "RC = RidgeClassifier(tol=1e-2, solver=\"sparse_cg\")\n",
        "RC.fit(X_train, y_train)\n",
        "pred1 = RC.predict(X_test)\n",
        "pred1"
      ],
      "metadata": {
        "id": "Xbae6XVKN2E1",
        "colab": {
          "base_uri": "https://localhost:8080/"
        },
        "outputId": "5945cc3c-dbcf-4461-cbe7-93c444829147"
      },
      "execution_count": 68,
      "outputs": [
        {
          "output_type": "execute_result",
          "data": {
            "text/plain": [
              "array([4, 4, 1, 4, 2, 4, 4, 4, 4, 4, 2, 4, 3, 2, 4, 3, 1, 4, 3, 4, 3, 0,\n",
              "       2, 4, 1, 4, 4, 2, 4, 3, 1, 1, 4, 3, 0, 3, 3, 4, 4, 3, 3, 1, 3, 4,\n",
              "       3, 4, 3, 1, 4, 4, 2, 4, 0, 4, 4, 4, 4, 4, 1, 4, 3, 0, 4, 4, 2, 4,\n",
              "       1, 4, 3, 4, 0, 1, 4, 4, 0, 4, 4, 3, 3, 3, 2, 3, 2, 4, 4, 2, 3, 2,\n",
              "       4, 4, 4, 4, 4, 2, 3, 4, 3, 3, 2, 1, 2, 0, 4, 3, 1, 1, 4, 4, 1, 3,\n",
              "       4, 4, 4, 1, 4, 1, 3, 0, 4, 4, 0, 2, 3, 4, 4, 4, 4, 3, 4, 0, 1, 3,\n",
              "       3, 4, 4, 4, 3, 4, 0, 4, 4, 1, 3, 3, 3, 4, 2, 3, 4, 4, 2, 4, 0, 2,\n",
              "       0, 2, 4, 4, 0, 3, 4, 4, 0, 3, 4, 1, 1, 3, 4, 3, 3, 4, 4, 0, 1, 3,\n",
              "       4, 0, 1, 1, 3, 0, 0, 4, 3, 1, 4, 2, 4, 2, 1, 4, 2, 4, 0, 3, 1, 3,\n",
              "       4, 4, 4, 0, 4, 1, 2, 0, 4, 3, 3, 2, 0, 1, 4, 3, 4, 2, 1, 3, 3, 4,\n",
              "       4, 4, 2, 0, 3, 1, 4, 4, 4, 1, 4, 4, 3, 1, 0, 1, 3, 4, 4, 3, 1, 1,\n",
              "       4, 1, 4, 4, 3, 3, 4, 4, 4, 2, 0, 2, 4, 4, 3, 3, 4, 1, 4, 3, 3, 4,\n",
              "       1, 4, 4, 1, 4, 0, 3, 4, 4, 4, 3, 0, 1, 4, 4, 4, 4, 4, 2, 1, 4, 3,\n",
              "       3, 4, 2, 2, 2, 4, 4, 2, 3, 4, 1, 3, 0, 1, 3, 3, 2, 4, 4, 2, 4, 2,\n",
              "       4, 1, 4, 3, 0, 3, 2, 0, 2, 4, 1, 1, 4, 4, 4, 3, 1, 3, 4, 3, 4, 4,\n",
              "       4, 4, 4, 1, 3, 1, 3, 1, 3, 3, 4, 3, 1, 3, 4, 3, 4, 0, 3, 3, 0, 3,\n",
              "       0, 3, 3, 4, 2, 3, 2, 3, 4, 4, 4, 3, 2, 4, 0, 4, 4, 1, 4, 1, 4, 3,\n",
              "       4, 4])"
            ]
          },
          "metadata": {},
          "execution_count": 68
        }
      ]
    },
    {
      "cell_type": "code",
      "source": [
        "import matplotlib.pyplot as plt\n",
        "from sklearn.metrics import ConfusionMatrixDisplay\n",
        "\n",
        "fig, ax = plt.subplots(figsize=(10, 5))\n",
        "ConfusionMatrixDisplay.from_predictions(y_test, pred1, ax=ax)\n",
        "_ = ax.set_title(\n",
        "    f\"Confusion Matrix for {RC.__class__.__name__}\\non the original documents\"\n",
        ")"
      ],
      "metadata": {
        "id": "ChqSCwzMO7E8",
        "colab": {
          "base_uri": "https://localhost:8080/",
          "height": 508
        },
        "outputId": "95f96211-efda-44b6-9354-c3ce677a8dc4"
      },
      "execution_count": 69,
      "outputs": [
        {
          "output_type": "display_data",
          "data": {
            "text/plain": [
              "<Figure size 1000x500 with 2 Axes>"
            ],
            "image/png": "[encoded data removed]"
          },
          "metadata": {}
        }
      ]
    },
    {
      "cell_type": "code",
      "source": [
        "from sklearn.metrics import confusion_matrix,  accuracy_score, recall_score"
      ],
      "metadata": {
        "id": "CkL9DuyBoObY"
      },
      "execution_count": 70,
      "outputs": []
    },
    {
      "cell_type": "code",
      "source": [
        "cm1 = confusion_matrix(y_test, pred1)\n",
        "print('Confusion matrix1:\\n', cm1)\n",
        "\n",
        "accuracy1 = accuracy_score(y_test, pred1)\n",
        "print('Accuracy1:', accuracy1)\n",
        "\n",
        "recall1 = recall_score(y_test, pred1,average=None)\n",
        "print('Recall1:', recall1)"
      ],
      "metadata": {
        "colab": {
          "base_uri": "https://localhost:8080/"
        },
        "id": "KGprwAU7o6i3",
        "outputId": "ce99d258-54a5-4a9e-d908-7c4784eae922"
      },
      "execution_count": 71,
      "outputs": [
        {
          "output_type": "stream",
          "name": "stdout",
          "text": [
            "Confusion matrix1:\n",
            " [[18 17  0  0  0]\n",
            " [14 31  4  0  0]\n",
            " [ 3  5 37 31  4]\n",
            " [ 0  0  0 58 60]\n",
            " [ 0  0  0  0 94]]\n",
            "Accuracy1: 0.6329787234042553\n",
            "Recall1: [0.51428571 0.63265306 0.4625     0.49152542 1.        ]\n"
          ]
        }
      ]
    },
    {
      "cell_type": "markdown",
      "source": [
        "# logistic regression\n"
      ],
      "metadata": {
        "id": "iZrYaUU7pTPC"
      }
    },
    {
      "cell_type": "code",
      "source": [
        "import matplotlib.pyplot as plt\n",
        "from sklearn.linear_model import LogisticRegression\n",
        "from sklearn import datasets\n",
        "from sklearn.inspection import DecisionBoundaryDisplay\n"
      ],
      "metadata": {
        "id": "uJC75X42pWjY"
      },
      "execution_count": 72,
      "outputs": []
    },
    {
      "cell_type": "code",
      "source": [
        "logreg = LogisticRegression()\n",
        "logreg.fit(X_train, y_train)"
      ],
      "metadata": {
        "colab": {
          "base_uri": "https://localhost:8080/",
          "height": 214
        },
        "id": "zUwW1d5Bp16f",
        "outputId": "7d73051f-a9f3-4570-a3c9-82759ac36397"
      },
      "execution_count": 73,
      "outputs": [
        {
          "output_type": "stream",
          "name": "stderr",
          "text": [
            "/usr/local/lib/python3.10/dist-packages/sklearn/linear_model/_logistic.py:458: ConvergenceWarning: lbfgs failed to converge (status=1):\n",
            "STOP: TOTAL NO. of ITERATIONS REACHED LIMIT.\n",
            "\n",
            "Increase the number of iterations (max_iter) or scale the data as shown in:\n",
            "    https://scikit-learn.org/stable/modules/preprocessing.html\n",
            "Please also refer to the documentation for alternative solver options:\n",
            "    https://scikit-learn.org/stable/modules/linear_model.html#logistic-regression\n",
            "  n_iter_i = _check_optimize_result(\n"
          ]
        },
        {
          "output_type": "execute_result",
          "data": {
            "text/plain": [
              "LogisticRegression()"
            ],
            "text/html": [
              "<style>#sk-container-id-1 {color: black;background-color: white;}#sk-container-id-1 pre{padding: 0;}#sk-container-id-1 div.sk-toggleable {background-color: white;}#sk-container-id-1 label.sk-toggleable__label {cursor: pointer;display: block;width: 100%;margin-bottom: 0;padding: 0.3em;box-sizing: border-box;text-align: center;}#sk-container-id-1 label.sk-toggleable__label-arrow:before {content: \"▸\";float: left;margin-right: 0.25em;color: #696969;}#sk-container-id-1 label.sk-toggleable__label-arrow:hover:before {color: black;}#sk-container-id-1 div.sk-estimator:hover label.sk-toggleable__label-arrow:before {color: black;}#sk-container-id-1 div.sk-toggleable__content {max-height: 0;max-width: 0;overflow: hidden;text-align: left;background-color: #f0f8ff;}#sk-container-id-1 div.sk-toggleable__content pre {margin: 0.2em;color: black;border-radius: 0.25em;background-color: #f0f8ff;}#sk-container-id-1 input.sk-toggleable__control:checked~div.sk-toggleable__content {max-height: 200px;max-width: 100%;overflow: auto;}#sk-container-id-1 input.sk-toggleable__control:checked~label.sk-toggleable__label-arrow:before {content: \"▾\";}#sk-container-id-1 div.sk-estimator input.sk-toggleable__control:checked~label.sk-toggleable__label {background-color: #d4ebff;}#sk-container-id-1 div.sk-label input.sk-toggleable__control:checked~label.sk-toggleable__label {background-color: #d4ebff;}#sk-container-id-1 input.sk-hidden--visually {border: 0;clip: rect(1px 1px 1px 1px);clip: rect(1px, 1px, 1px, 1px);height: 1px;margin: -1px;overflow: hidden;padding: 0;position: absolute;width: 1px;}#sk-container-id-1 div.sk-estimator {font-family: monospace;background-color: #f0f8ff;border: 1px dotted black;border-radius: 0.25em;box-sizing: border-box;margin-bottom: 0.5em;}#sk-container-id-1 div.sk-estimator:hover {background-color: #d4ebff;}#sk-container-id-1 div.sk-parallel-item::after {content: \"\";width: 100%;border-bottom: 1px solid gray;flex-grow: 1;}#sk-container-id-1 div.sk-label:hover label.sk-toggleable__label {background-color: #d4ebff;}#sk-container-id-1 div.sk-serial::before {content: \"\";position: absolute;border-left: 1px solid gray;box-sizing: border-box;top: 0;bottom: 0;left: 50%;z-index: 0;}#sk-container-id-1 div.sk-serial {display: flex;flex-direction: column;align-items: center;background-color: white;padding-right: 0.2em;padding-left: 0.2em;position: relative;}#sk-container-id-1 div.sk-item {position: relative;z-index: 1;}#sk-container-id-1 div.sk-parallel {display: flex;align-items: stretch;justify-content: center;background-color: white;position: relative;}#sk-container-id-1 div.sk-item::before, #sk-container-id-1 div.sk-parallel-item::before {content: \"\";position: absolute;border-left: 1px solid gray;box-sizing: border-box;top: 0;bottom: 0;left: 50%;z-index: -1;}#sk-container-id-1 div.sk-parallel-item {display: flex;flex-direction: column;z-index: 1;position: relative;background-color: white;}#sk-container-id-1 div.sk-parallel-item:first-child::after {align-self: flex-end;width: 50%;}#sk-container-id-1 div.sk-parallel-item:last-child::after {align-self: flex-start;width: 50%;}#sk-container-id-1 div.sk-parallel-item:only-child::after {width: 0;}#sk-container-id-1 div.sk-dashed-wrapped {border: 1px dashed gray;margin: 0 0.4em 0.5em 0.4em;box-sizing: border-box;padding-bottom: 0.4em;background-color: white;}#sk-container-id-1 div.sk-label label {font-family: monospace;font-weight: bold;display: inline-block;line-height: 1.2em;}#sk-container-id-1 div.sk-label-container {text-align: center;}#sk-container-id-1 div.sk-container {/* jupyter's `normalize.less` sets `[hidden] { display: none; }` but bootstrap.min.css set `[hidden] { display: none !important; }` so we also need the `!important` here to be able to override the default hidden behavior on the sphinx rendered scikit-learn.org. See: https://github.com/scikit-learn/scikit-learn/issues/21755 */display: inline-block !important;position: relative;}#sk-container-id-1 div.sk-text-repr-fallback {display: none;}</style><div id=\"sk-container-id-1\" class=\"sk-top-container\"><div class=\"sk-text-repr-fallback\"><pre>LogisticRegression()</pre><b>In a Jupyter environment, please rerun this cell to show the HTML representation or trust the notebook. <br />On GitHub, the HTML representation is unable to render, please try loading this page with nbviewer.org.</b></div><div class=\"sk-container\" hidden><div class=\"sk-item\"><div class=\"sk-estimator sk-toggleable\"><input class=\"sk-toggleable__control sk-hidden--visually\" id=\"sk-estimator-id-1\" type=\"checkbox\" checked><label for=\"sk-estimator-id-1\" class=\"sk-toggleable__label sk-toggleable__label-arrow\">LogisticRegression</label><div class=\"sk-toggleable__content\"><pre>LogisticRegression()</pre></div></div></div></div></div>"
            ]
          },
          "metadata": {},
          "execution_count": 73
        }
      ]
    },
    {
      "cell_type": "code",
      "source": [
        "pred2 = logreg.predict(X_test)\n",
        "pred2"
      ],
      "metadata": {
        "colab": {
          "base_uri": "https://localhost:8080/"
        },
        "id": "tW93eGNQqhGO",
        "outputId": "202e868d-3741-434c-c52e-3c9a1857697f"
      },
      "execution_count": 74,
      "outputs": [
        {
          "output_type": "execute_result",
          "data": {
            "text/plain": [
              "array([4, 4, 0, 4, 2, 4, 4, 3, 4, 4, 1, 4, 3, 2, 4, 3, 1, 4, 3, 4, 3, 0,\n",
              "       2, 3, 0, 3, 4, 2, 4, 2, 1, 1, 4, 2, 0, 3, 2, 3, 3, 2, 2, 1, 3, 4,\n",
              "       2, 4, 3, 1, 3, 2, 2, 3, 1, 3, 3, 2, 3, 3, 1, 3, 3, 1, 4, 3, 2, 4,\n",
              "       0, 4, 2, 4, 0, 1, 3, 4, 0, 3, 3, 3, 3, 3, 2, 3, 2, 4, 3, 2, 3, 2,\n",
              "       4, 3, 4, 3, 3, 2, 3, 4, 2, 2, 2, 1, 2, 1, 4, 3, 1, 1, 3, 4, 0, 3,\n",
              "       3, 4, 3, 1, 4, 0, 3, 2, 4, 4, 0, 2, 3, 3, 3, 3, 3, 3, 4, 0, 1, 2,\n",
              "       3, 4, 4, 4, 2, 3, 1, 3, 4, 0, 2, 3, 2, 3, 2, 2, 3, 3, 2, 4, 2, 1,\n",
              "       0, 2, 4, 4, 1, 3, 4, 4, 0, 2, 4, 1, 1, 3, 3, 2, 2, 3, 3, 1, 1, 3,\n",
              "       3, 0, 2, 1, 2, 0, 0, 3, 3, 2, 3, 2, 4, 2, 1, 3, 1, 4, 0, 2, 0, 3,\n",
              "       4, 3, 4, 1, 4, 0, 2, 0, 2, 3, 3, 2, 1, 1, 3, 3, 4, 2, 2, 3, 3, 4,\n",
              "       4, 3, 2, 1, 3, 2, 3, 4, 2, 0, 4, 3, 3, 0, 1, 1, 3, 4, 4, 3, 1, 1,\n",
              "       4, 1, 4, 3, 3, 3, 4, 4, 3, 2, 0, 2, 4, 3, 3, 3, 4, 0, 4, 3, 3, 4,\n",
              "       0, 4, 4, 0, 3, 1, 2, 4, 4, 4, 3, 1, 1, 4, 4, 4, 4, 4, 2, 2, 4, 3,\n",
              "       3, 3, 2, 2, 2, 3, 4, 2, 3, 4, 1, 2, 1, 1, 3, 3, 2, 4, 4, 2, 3, 2,\n",
              "       4, 1, 4, 2, 0, 3, 2, 1, 2, 3, 0, 0, 3, 4, 4, 2, 1, 3, 4, 2, 3, 4,\n",
              "       3, 4, 4, 1, 3, 1, 3, 1, 3, 3, 3, 3, 0, 2, 4, 2, 3, 1, 2, 2, 0, 3,\n",
              "       2, 2, 3, 4, 2, 2, 2, 3, 4, 4, 4, 3, 2, 4, 1, 4, 3, 1, 3, 0, 4, 2,\n",
              "       3, 4])"
            ]
          },
          "metadata": {},
          "execution_count": 74
        }
      ]
    },
    {
      "cell_type": "code",
      "source": [
        "cm2 = confusion_matrix(y_test, pred2)\n",
        "print('Confusion matrix2:\\n', cm2)\n",
        "\n",
        "accuracy2 = accuracy_score(y_test, pred2)\n",
        "print('Accuracy2:', accuracy2)\n",
        "\n",
        "recall2 = recall_score(y_test, pred2,average=None)\n",
        "print('Recall2:', recall2)"
      ],
      "metadata": {
        "colab": {
          "base_uri": "https://localhost:8080/"
        },
        "id": "4G1FpymHp6nh",
        "outputId": "32289989-6dd5-4d44-9df6-0088f4c94401"
      },
      "execution_count": 75,
      "outputs": [
        {
          "output_type": "stream",
          "name": "stdout",
          "text": [
            "Confusion matrix2:\n",
            " [[ 33   2   0   0   0]\n",
            " [  0  48   1   0   0]\n",
            " [  0   0  80   0   0]\n",
            " [  0   0   0 118   0]\n",
            " [  0   0   0   0  94]]\n",
            "Accuracy2: 0.9920212765957447\n",
            "Recall2: [0.94285714 0.97959184 1.         1.         1.        ]\n"
          ]
        }
      ]
    },
    {
      "cell_type": "code",
      "source": [],
      "metadata": {
        "id": "Fjj8bu16rAea"
      },
      "execution_count": 75,
      "outputs": []
    },
    {
      "cell_type": "markdown",
      "source": [
        "# Naive Bayes"
      ],
      "metadata": {
        "id": "2UQk-fPDrBVd"
      }
    },
    {
      "cell_type": "code",
      "source": [
        "from sklearn.naive_bayes import CategoricalNB\n",
        "NB = CategoricalNB(force_alpha=True)\n",
        "NB.fit(X_train, y_train)\n",
        "CategoricalNB(force_alpha=True)\n"
      ],
      "metadata": {
        "colab": {
          "base_uri": "https://localhost:8080/",
          "height": 75
        },
        "id": "Jgeyl14NreWA",
        "outputId": "441aafcf-58a2-4d98-d95d-a0d1664bf875"
      },
      "execution_count": 76,
      "outputs": [
        {
          "output_type": "execute_result",
          "data": {
            "text/plain": [
              "CategoricalNB(force_alpha=True)"
            ],
            "text/html": [
              "<style>#sk-container-id-2 {color: black;background-color: white;}#sk-container-id-2 pre{padding: 0;}#sk-container-id-2 div.sk-toggleable {background-color: white;}#sk-container-id-2 label.sk-toggleable__label {cursor: pointer;display: block;width: 100%;margin-bottom: 0;padding: 0.3em;box-sizing: border-box;text-align: center;}#sk-container-id-2 label.sk-toggleable__label-arrow:before {content: \"▸\";float: left;margin-right: 0.25em;color: #696969;}#sk-container-id-2 label.sk-toggleable__label-arrow:hover:before {color: black;}#sk-container-id-2 div.sk-estimator:hover label.sk-toggleable__label-arrow:before {color: black;}#sk-container-id-2 div.sk-toggleable__content {max-height: 0;max-width: 0;overflow: hidden;text-align: left;background-color: #f0f8ff;}#sk-container-id-2 div.sk-toggleable__content pre {margin: 0.2em;color: black;border-radius: 0.25em;background-color: #f0f8ff;}#sk-container-id-2 input.sk-toggleable__control:checked~div.sk-toggleable__content {max-height: 200px;max-width: 100%;overflow: auto;}#sk-container-id-2 input.sk-toggleable__control:checked~label.sk-toggleable__label-arrow:before {content: \"▾\";}#sk-container-id-2 div.sk-estimator input.sk-toggleable__control:checked~label.sk-toggleable__label {background-color: #d4ebff;}#sk-container-id-2 div.sk-label input.sk-toggleable__control:checked~label.sk-toggleable__label {background-color: #d4ebff;}#sk-container-id-2 input.sk-hidden--visually {border: 0;clip: rect(1px 1px 1px 1px);clip: rect(1px, 1px, 1px, 1px);height: 1px;margin: -1px;overflow: hidden;padding: 0;position: absolute;width: 1px;}#sk-container-id-2 div.sk-estimator {font-family: monospace;background-color: #f0f8ff;border: 1px dotted black;border-radius: 0.25em;box-sizing: border-box;margin-bottom: 0.5em;}#sk-container-id-2 div.sk-estimator:hover {background-color: #d4ebff;}#sk-container-id-2 div.sk-parallel-item::after {content: \"\";width: 100%;border-bottom: 1px solid gray;flex-grow: 1;}#sk-container-id-2 div.sk-label:hover label.sk-toggleable__label {background-color: #d4ebff;}#sk-container-id-2 div.sk-serial::before {content: \"\";position: absolute;border-left: 1px solid gray;box-sizing: border-box;top: 0;bottom: 0;left: 50%;z-index: 0;}#sk-container-id-2 div.sk-serial {display: flex;flex-direction: column;align-items: center;background-color: white;padding-right: 0.2em;padding-left: 0.2em;position: relative;}#sk-container-id-2 div.sk-item {position: relative;z-index: 1;}#sk-container-id-2 div.sk-parallel {display: flex;align-items: stretch;justify-content: center;background-color: white;position: relative;}#sk-container-id-2 div.sk-item::before, #sk-container-id-2 div.sk-parallel-item::before {content: \"\";position: absolute;border-left: 1px solid gray;box-sizing: border-box;top: 0;bottom: 0;left: 50%;z-index: -1;}#sk-container-id-2 div.sk-parallel-item {display: flex;flex-direction: column;z-index: 1;position: relative;background-color: white;}#sk-container-id-2 div.sk-parallel-item:first-child::after {align-self: flex-end;width: 50%;}#sk-container-id-2 div.sk-parallel-item:last-child::after {align-self: flex-start;width: 50%;}#sk-container-id-2 div.sk-parallel-item:only-child::after {width: 0;}#sk-container-id-2 div.sk-dashed-wrapped {border: 1px dashed gray;margin: 0 0.4em 0.5em 0.4em;box-sizing: border-box;padding-bottom: 0.4em;background-color: white;}#sk-container-id-2 div.sk-label label {font-family: monospace;font-weight: bold;display: inline-block;line-height: 1.2em;}#sk-container-id-2 div.sk-label-container {text-align: center;}#sk-container-id-2 div.sk-container {/* jupyter's `normalize.less` sets `[hidden] { display: none; }` but bootstrap.min.css set `[hidden] { display: none !important; }` so we also need the `!important` here to be able to override the default hidden behavior on the sphinx rendered scikit-learn.org. See: https://github.com/scikit-learn/scikit-learn/issues/21755 */display: inline-block !important;position: relative;}#sk-container-id-2 div.sk-text-repr-fallback {display: none;}</style><div id=\"sk-container-id-2\" class=\"sk-top-container\"><div class=\"sk-text-repr-fallback\"><pre>CategoricalNB(force_alpha=True)</pre><b>In a Jupyter environment, please rerun this cell to show the HTML representation or trust the notebook. <br />On GitHub, the HTML representation is unable to render, please try loading this page with nbviewer.org.</b></div><div class=\"sk-container\" hidden><div class=\"sk-item\"><div class=\"sk-estimator sk-toggleable\"><input class=\"sk-toggleable__control sk-hidden--visually\" id=\"sk-estimator-id-2\" type=\"checkbox\" checked><label for=\"sk-estimator-id-2\" class=\"sk-toggleable__label sk-toggleable__label-arrow\">CategoricalNB</label><div class=\"sk-toggleable__content\"><pre>CategoricalNB(force_alpha=True)</pre></div></div></div></div></div>"
            ]
          },
          "metadata": {},
          "execution_count": 76
        }
      ]
    },
    {
      "cell_type": "code",
      "source": [
        "pred3=NB.predict(X_test)\n",
        "pred3"
      ],
      "metadata": {
        "colab": {
          "base_uri": "https://localhost:8080/"
        },
        "id": "XTLf0HKfrqro",
        "outputId": "2a88bfed-a8c4-4e4e-eb24-3421b45f8c32"
      },
      "execution_count": 77,
      "outputs": [
        {
          "output_type": "execute_result",
          "data": {
            "text/plain": [
              "array([4, 4, 0, 4, 2, 4, 4, 3, 4, 4, 1, 4, 3, 2, 4, 3, 1, 4, 3, 4, 3, 0,\n",
              "       4, 3, 2, 3, 4, 2, 4, 2, 1, 1, 4, 2, 0, 3, 2, 3, 3, 2, 2, 1, 3, 4,\n",
              "       2, 4, 3, 1, 3, 2, 2, 3, 1, 3, 3, 2, 3, 3, 1, 3, 3, 0, 1, 3, 2, 4,\n",
              "       0, 4, 2, 4, 0, 1, 3, 4, 0, 3, 3, 3, 3, 3, 2, 3, 2, 4, 3, 2, 3, 1,\n",
              "       4, 3, 4, 3, 3, 2, 3, 4, 2, 2, 2, 1, 2, 1, 4, 3, 1, 1, 3, 4, 0, 3,\n",
              "       3, 4, 3, 4, 4, 0, 3, 2, 4, 4, 0, 2, 3, 3, 3, 3, 3, 3, 4, 0, 1, 2,\n",
              "       3, 4, 4, 4, 2, 3, 1, 3, 4, 0, 2, 3, 2, 3, 2, 2, 3, 3, 2, 4, 2, 1,\n",
              "       0, 2, 4, 4, 1, 3, 4, 4, 0, 2, 4, 1, 1, 3, 3, 2, 2, 3, 3, 1, 1, 3,\n",
              "       3, 0, 2, 1, 2, 0, 0, 3, 3, 2, 3, 2, 4, 2, 1, 3, 1, 4, 0, 2, 0, 3,\n",
              "       4, 3, 4, 1, 4, 0, 4, 0, 2, 3, 3, 2, 1, 1, 3, 3, 4, 2, 2, 3, 3, 4,\n",
              "       4, 3, 2, 1, 3, 2, 3, 4, 2, 0, 4, 3, 3, 0, 1, 1, 3, 4, 4, 3, 1, 1,\n",
              "       4, 1, 4, 3, 3, 3, 4, 4, 3, 2, 0, 2, 4, 3, 3, 3, 4, 0, 4, 3, 3, 4,\n",
              "       0, 4, 4, 0, 3, 0, 2, 4, 4, 4, 3, 1, 1, 4, 4, 4, 4, 4, 2, 2, 4, 3,\n",
              "       3, 0, 2, 2, 2, 3, 4, 2, 3, 4, 1, 2, 1, 1, 3, 3, 2, 4, 4, 2, 3, 2,\n",
              "       4, 1, 4, 2, 0, 3, 2, 1, 2, 3, 0, 0, 3, 4, 4, 2, 1, 3, 4, 2, 3, 4,\n",
              "       3, 4, 4, 1, 3, 1, 3, 1, 3, 3, 3, 3, 0, 2, 4, 2, 3, 1, 2, 2, 0, 3,\n",
              "       2, 2, 3, 4, 2, 2, 2, 3, 4, 4, 4, 3, 2, 4, 1, 4, 3, 1, 3, 0, 4, 2,\n",
              "       3, 4])"
            ]
          },
          "metadata": {},
          "execution_count": 77
        }
      ]
    },
    {
      "cell_type": "code",
      "source": [
        "cm3 = confusion_matrix(y_test, pred3)\n",
        "print('Confusion matrix3:\\n', cm3)\n",
        "\n",
        "accuracy3 = accuracy_score(y_test, pred3)\n",
        "print('Accuracy3:', accuracy3)\n",
        "\n",
        "recall3 = recall_score(y_test, pred3,average=None)\n",
        "print('Recall3:', recall3)"
      ],
      "metadata": {
        "colab": {
          "base_uri": "https://localhost:8080/"
        },
        "id": "13sp5Ynvrxov",
        "outputId": "dfc825d4-ddf3-44ad-becf-e3e9259e96ae"
      },
      "execution_count": 78,
      "outputs": [
        {
          "output_type": "stream",
          "name": "stdout",
          "text": [
            "Confusion matrix3:\n",
            " [[ 34   0   1   0   0]\n",
            " [  0  48   0   0   1]\n",
            " [  0   0  78   0   2]\n",
            " [  1   0   0 117   0]\n",
            " [  0   1   0   0  93]]\n",
            "Accuracy3: 0.9840425531914894\n",
            "Recall3: [0.97142857 0.97959184 0.975      0.99152542 0.9893617 ]\n"
          ]
        }
      ]
    },
    {
      "cell_type": "markdown",
      "source": [
        "# Decision Tree"
      ],
      "metadata": {
        "id": "TLkNyev9r62X"
      }
    },
    {
      "cell_type": "code",
      "source": [
        "from sklearn import tree\n",
        "DT = tree.DecisionTreeClassifier()\n",
        "DT= DT.fit(X_train, y_train)"
      ],
      "metadata": {
        "id": "A28jqcBZr5RE"
      },
      "execution_count": 79,
      "outputs": []
    },
    {
      "cell_type": "code",
      "source": [
        "X_train"
      ],
      "metadata": {
        "colab": {
          "base_uri": "https://localhost:8080/",
          "height": 424
        },
        "id": "V1afWcv0tTC4",
        "outputId": "70767712-e2e0-4650-c8ba-017355bb87b8"
      },
      "execution_count": 80,
      "outputs": [
        {
          "output_type": "execute_result",
          "data": {
            "text/plain": [
              "      decisions  meaningful  personal_identity  Feeling_good  knowledge  \\\n",
              "89            3           3                  3             3          0   \n",
              "1754          0           4                  3             3          1   \n",
              "667           3           3                  3             3          3   \n",
              "1366          4           4                  4             2          1   \n",
              "1368          4           4                  4             4          3   \n",
              "...         ...         ...                ...           ...        ...   \n",
              "835           4           4                  4             3          2   \n",
              "1216          2           3                  3             3          1   \n",
              "1653          4           4                  4             3          1   \n",
              "559           3           4                  4             3          1   \n",
              "684           4           4                  4             4          1   \n",
              "\n",
              "       not_available  uncertainty  preference  intention  purchased  \n",
              "89                 3            3           2          1          1  \n",
              "1754               3            3           3          3          1  \n",
              "667                4            4           4          2          2  \n",
              "1366               2            3           3          2          2  \n",
              "1368               3            4           3          2          2  \n",
              "...              ...          ...         ...        ...        ...  \n",
              "835                2            3           3          3          2  \n",
              "1216               1            4           1          1          1  \n",
              "1653               4            4           4          4          1  \n",
              "559                1            3           2          1          1  \n",
              "684                2            4           4          4          2  \n",
              "\n",
              "[1502 rows x 10 columns]"
            ],
            "text/html": [
              "\n",
              "  <div id=\"df-7f57667c-e154-475c-b2d0-386eee86f551\">\n",
              "    <div class=\"colab-df-container\">\n",
              "      <div>\n",
              "<style scoped>\n",
              "    .dataframe tbody tr th:only-of-type {\n",
              "        vertical-align: middle;\n",
              "    }\n",
              "\n",
              "    .dataframe tbody tr th {\n",
              "        vertical-align: top;\n",
              "    }\n",
              "\n",
              "    .dataframe thead th {\n",
              "        text-align: right;\n",
              "    }\n",
              "</style>\n",
              "<table border=\"1\" class=\"dataframe\">\n",
              "  <thead>\n",
              "    <tr style=\"text-align: right;\">\n",
              "      <th></th>\n",
              "      <th>decisions</th>\n",
              "      <th>meaningful</th>\n",
              "      <th>personal_identity</th>\n",
              "      <th>Feeling_good</th>\n",
              "      <th>knowledge</th>\n",
              "      <th>not_available</th>\n",
              "      <th>uncertainty</th>\n",
              "      <th>preference</th>\n",
              "      <th>intention</th>\n",
              "      <th>purchased</th>\n",
              "    </tr>\n",
              "  </thead>\n",
              "  <tbody>\n",
              "    <tr>\n",
              "      <th>89</th>\n",
              "      <td>3</td>\n",
              "      <td>3</td>\n",
              "      <td>3</td>\n",
              "      <td>3</td>\n",
              "      <td>0</td>\n",
              "      <td>3</td>\n",
              "      <td>3</td>\n",
              "      <td>2</td>\n",
              "      <td>1</td>\n",
              "      <td>1</td>\n",
              "    </tr>\n",
              "    <tr>\n",
              "      <th>1754</th>\n",
              "      <td>0</td>\n",
              "      <td>4</td>\n",
              "      <td>3</td>\n",
              "      <td>3</td>\n",
              "      <td>1</td>\n",
              "      <td>3</td>\n",
              "      <td>3</td>\n",
              "      <td>3</td>\n",
              "      <td>3</td>\n",
              "      <td>1</td>\n",
              "    </tr>\n",
              "    <tr>\n",
              "      <th>667</th>\n",
              "      <td>3</td>\n",
              "      <td>3</td>\n",
              "      <td>3</td>\n",
              "      <td>3</td>\n",
              "      <td>3</td>\n",
              "      <td>4</td>\n",
              "      <td>4</td>\n",
              "      <td>4</td>\n",
              "      <td>2</td>\n",
              "      <td>2</td>\n",
              "    </tr>\n",
              "    <tr>\n",
              "      <th>1366</th>\n",
              "      <td>4</td>\n",
              "      <td>4</td>\n",
              "      <td>4</td>\n",
              "      <td>2</td>\n",
              "      <td>1</td>\n",
              "      <td>2</td>\n",
              "      <td>3</td>\n",
              "      <td>3</td>\n",
              "      <td>2</td>\n",
              "      <td>2</td>\n",
              "    </tr>\n",
              "    <tr>\n",
              "      <th>1368</th>\n",
              "      <td>4</td>\n",
              "      <td>4</td>\n",
              "      <td>4</td>\n",
              "      <td>4</td>\n",
              "      <td>3</td>\n",
              "      <td>3</td>\n",
              "      <td>4</td>\n",
              "      <td>3</td>\n",
              "      <td>2</td>\n",
              "      <td>2</td>\n",
              "    </tr>\n",
              "    <tr>\n",
              "      <th>...</th>\n",
              "      <td>...</td>\n",
              "      <td>...</td>\n",
              "      <td>...</td>\n",
              "      <td>...</td>\n",
              "      <td>...</td>\n",
              "      <td>...</td>\n",
              "      <td>...</td>\n",
              "      <td>...</td>\n",
              "      <td>...</td>\n",
              "      <td>...</td>\n",
              "    </tr>\n",
              "    <tr>\n",
              "      <th>835</th>\n",
              "      <td>4</td>\n",
              "      <td>4</td>\n",
              "      <td>4</td>\n",
              "      <td>3</td>\n",
              "      <td>2</td>\n",
              "      <td>2</td>\n",
              "      <td>3</td>\n",
              "      <td>3</td>\n",
              "      <td>3</td>\n",
              "      <td>2</td>\n",
              "    </tr>\n",
              "    <tr>\n",
              "      <th>1216</th>\n",
              "      <td>2</td>\n",
              "      <td>3</td>\n",
              "      <td>3</td>\n",
              "      <td>3</td>\n",
              "      <td>1</td>\n",
              "      <td>1</td>\n",
              "      <td>4</td>\n",
              "      <td>1</td>\n",
              "      <td>1</td>\n",
              "      <td>1</td>\n",
              "    </tr>\n",
              "    <tr>\n",
              "      <th>1653</th>\n",
              "      <td>4</td>\n",
              "      <td>4</td>\n",
              "      <td>4</td>\n",
              "      <td>3</td>\n",
              "      <td>1</td>\n",
              "      <td>4</td>\n",
              "      <td>4</td>\n",
              "      <td>4</td>\n",
              "      <td>4</td>\n",
              "      <td>1</td>\n",
              "    </tr>\n",
              "    <tr>\n",
              "      <th>559</th>\n",
              "      <td>3</td>\n",
              "      <td>4</td>\n",
              "      <td>4</td>\n",
              "      <td>3</td>\n",
              "      <td>1</td>\n",
              "      <td>1</td>\n",
              "      <td>3</td>\n",
              "      <td>2</td>\n",
              "      <td>1</td>\n",
              "      <td>1</td>\n",
              "    </tr>\n",
              "    <tr>\n",
              "      <th>684</th>\n",
              "      <td>4</td>\n",
              "      <td>4</td>\n",
              "      <td>4</td>\n",
              "      <td>4</td>\n",
              "      <td>1</td>\n",
              "      <td>2</td>\n",
              "      <td>4</td>\n",
              "      <td>4</td>\n",
              "      <td>4</td>\n",
              "      <td>2</td>\n",
              "    </tr>\n",
              "  </tbody>\n",
              "</table>\n",
              "<p>1502 rows × 10 columns</p>\n",
              "</div>\n",
              "      <button class=\"colab-df-convert\" onclick=\"convertToInteractive('df-7f57667c-e154-475c-b2d0-386eee86f551')\"\n",
              "              title=\"Convert this dataframe to an interactive table.\"\n",
              "              style=\"display:none;\">\n",
              "        \n",
              "  <svg xmlns=\"http://www.w3.org/2000/svg\" height=\"24px\"viewBox=\"0 0 24 24\"\n",
              "       width=\"24px\">\n",
              "    <path d=\"M0 0h24v24H0V0z\" fill=\"none\"/>\n",
              "    <path d=\"M18.56 5.44l.94 2.06.94-2.06 2.06-.94-2.06-.94-.94-2.06-.94 2.06-2.06.94zm-11 1L8.5 8.5l.94-2.06 2.06-.94-2.06-.94L8.5 2.5l-.94 2.06-2.06.94zm10 10l.94 2.06.94-2.06 2.06-.94-2.06-.94-.94-2.06-.94 2.06-2.06.94z\"/><path d=\"M17.41 7.96l-1.37-1.37c-.4-.4-.92-.59-1.43-.59-.52 0-1.04.2-1.43.59L10.3 9.45l-7.72 7.72c-.78.78-.78 2.05 0 2.83L4 21.41c.39.39.9.59 1.41.59.51 0 1.02-.2 1.41-.59l7.78-7.78 2.81-2.81c.8-.78.8-2.07 0-2.86zM5.41 20L4 18.59l7.72-7.72 1.47 1.35L5.41 20z\"/>\n",
              "  </svg>\n",
              "      </button>\n",
              "      \n",
              "  <style>\n",
              "    .colab-df-container {\n",
              "      display:flex;\n",
              "      flex-wrap:wrap;\n",
              "      gap: 12px;\n",
              "    }\n",
              "\n",
              "    .colab-df-convert {\n",
              "      background-color: #E8F0FE;\n",
              "      border: none;\n",
              "      border-radius: 50%;\n",
              "      cursor: pointer;\n",
              "      display: none;\n",
              "      fill: #1967D2;\n",
              "      height: 32px;\n",
              "      padding: 0 0 0 0;\n",
              "      width: 32px;\n",
              "    }\n",
              "\n",
              "    .colab-df-convert:hover {\n",
              "      background-color: #E2EBFA;\n",
              "      box-shadow: 0px 1px 2px rgba(60, 64, 67, 0.3), 0px 1px 3px 1px rgba(60, 64, 67, 0.15);\n",
              "      fill: #174EA6;\n",
              "    }\n",
              "\n",
              "    [theme=dark] .colab-df-convert {\n",
              "      background-color: #3B4455;\n",
              "      fill: #D2E3FC;\n",
              "    }\n",
              "\n",
              "    [theme=dark] .colab-df-convert:hover {\n",
              "      background-color: #434B5C;\n",
              "      box-shadow: 0px 1px 3px 1px rgba(0, 0, 0, 0.15);\n",
              "      filter: drop-shadow(0px 1px 2px rgba(0, 0, 0, 0.3));\n",
              "      fill: #FFFFFF;\n",
              "    }\n",
              "  </style>\n",
              "\n",
              "      <script>\n",
              "        const buttonEl =\n",
              "          document.querySelector('#df-7f57667c-e154-475c-b2d0-386eee86f551 button.colab-df-convert');\n",
              "        buttonEl.style.display =\n",
              "          google.colab.kernel.accessAllowed ? 'block' : 'none';\n",
              "\n",
              "        async function convertToInteractive(key) {\n",
              "          const element = document.querySelector('#df-7f57667c-e154-475c-b2d0-386eee86f551');\n",
              "          const dataTable =\n",
              "            await google.colab.kernel.invokeFunction('convertToInteractive',\n",
              "                                                     [key], {});\n",
              "          if (!dataTable) return;\n",
              "\n",
              "          const docLinkHtml = 'Like what you see? Visit the ' +\n",
              "            '<a target=\"_blank\" href=https://colab.research.google.com/notebooks/data_table.ipynb>data table notebook</a>'\n",
              "            + ' to learn more about interactive tables.';\n",
              "          element.innerHTML = '';\n",
              "          dataTable['output_type'] = 'display_data';\n",
              "          await google.colab.output.renderOutput(dataTable, element);\n",
              "          const docLink = document.createElement('div');\n",
              "          docLink.innerHTML = docLinkHtml;\n",
              "          element.appendChild(docLink);\n",
              "        }\n",
              "      </script>\n",
              "    </div>\n",
              "  </div>\n",
              "  "
            ]
          },
          "metadata": {},
          "execution_count": 80
        }
      ]
    },
    {
      "cell_type": "code",
      "source": [
        "pred4=DT.predict(X_test)\n",
        "a=pred4-y_test\n",
        "a"
      ],
      "metadata": {
        "colab": {
          "base_uri": "https://localhost:8080/"
        },
        "id": "dN6DqEpDssNM",
        "outputId": "917f0d2c-3d80-4304-9283-128d0d0e98a2"
      },
      "execution_count": 81,
      "outputs": [
        {
          "output_type": "execute_result",
          "data": {
            "text/plain": [
              "995     0\n",
              "124     0\n",
              "217     0\n",
              "1424    0\n",
              "1223    0\n",
              "       ..\n",
              "817     0\n",
              "506     0\n",
              "988     0\n",
              "1625    0\n",
              "1051    0\n",
              "Name: intention, Length: 376, dtype: int64"
            ]
          },
          "metadata": {},
          "execution_count": 81
        }
      ]
    },
    {
      "cell_type": "code",
      "source": [
        "tree.plot_tree(DT)"
      ],
      "metadata": {
        "colab": {
          "base_uri": "https://localhost:8080/",
          "height": 562
        },
        "id": "nCLKt8UvtLbR",
        "outputId": "f7215465-633d-434e-e62b-46bfd5ea4987"
      },
      "execution_count": 82,
      "outputs": [
        {
          "output_type": "execute_result",
          "data": {
            "text/plain": [
              "[Text(0.7142857142857143, 0.9, 'x[8] <= 3.5\\ngini = 0.784\\nsamples = 1502\\nvalue = [168, 247, 343, 413, 331]'),\n",
              " Text(0.5714285714285714, 0.7, 'x[8] <= 2.5\\ngini = 0.725\\nsamples = 1171\\nvalue = [168, 247, 343, 413, 0]'),\n",
              " Text(0.42857142857142855, 0.5, 'x[8] <= 1.5\\ngini = 0.64\\nsamples = 758\\nvalue = [168, 247, 343, 0, 0]'),\n",
              " Text(0.2857142857142857, 0.3, 'x[8] <= 0.5\\ngini = 0.482\\nsamples = 415\\nvalue = [168, 247, 0, 0, 0]'),\n",
              " Text(0.14285714285714285, 0.1, 'gini = 0.0\\nsamples = 168\\nvalue = [168, 0, 0, 0, 0]'),\n",
              " Text(0.42857142857142855, 0.1, 'gini = 0.0\\nsamples = 247\\nvalue = [0, 247, 0, 0, 0]'),\n",
              " Text(0.5714285714285714, 0.3, 'gini = 0.0\\nsamples = 343\\nvalue = [0, 0, 343, 0, 0]'),\n",
              " Text(0.7142857142857143, 0.5, 'gini = 0.0\\nsamples = 413\\nvalue = [0, 0, 0, 413, 0]'),\n",
              " Text(0.8571428571428571, 0.7, 'gini = 0.0\\nsamples = 331\\nvalue = [0, 0, 0, 0, 331]')]"
            ]
          },
          "metadata": {},
          "execution_count": 82
        },
        {
          "output_type": "display_data",
          "data": {
            "text/plain": [
              "<Figure size 640x480 with 1 Axes>"
            ],
            "image/png": "[encoded data removed]"
          },
          "metadata": {}
        }
      ]
    },
    {
      "cell_type": "code",
      "source": [
        "cm4 = confusion_matrix(y_test, pred4)\n",
        "print('Confusion matrix4:\\n', cm4)\n",
        "\n",
        "accuracy4 = accuracy_score(y_test, pred4)\n",
        "print('Accuracy4:', accuracy4)\n",
        "\n",
        "recall4 = recall_score(y_test, pred4,average=None)\n",
        "print('Recall3:', recall4)"
      ],
      "metadata": {
        "colab": {
          "base_uri": "https://localhost:8080/"
        },
        "id": "enehoZP2sx7l",
        "outputId": "9ef98935-0805-40ed-feea-c2a9fc42f8d7"
      },
      "execution_count": 83,
      "outputs": [
        {
          "output_type": "stream",
          "name": "stdout",
          "text": [
            "Confusion matrix4:\n",
            " [[ 35   0   0   0   0]\n",
            " [  0  49   0   0   0]\n",
            " [  0   0  80   0   0]\n",
            " [  0   0   0 118   0]\n",
            " [  0   0   0   0  94]]\n",
            "Accuracy4: 1.0\n",
            "Recall3: [1. 1. 1. 1. 1.]\n"
          ]
        }
      ]
    },
    {
      "cell_type": "markdown",
      "source": [
        "#RandomForest"
      ],
      "metadata": {
        "id": "Y4_Un6CSvedf"
      }
    },
    {
      "cell_type": "code",
      "source": [
        "from sklearn.ensemble import RandomForestClassifier"
      ],
      "metadata": {
        "id": "nEQO9aJGvEqj"
      },
      "execution_count": 84,
      "outputs": []
    },
    {
      "cell_type": "code",
      "source": [
        "RF= RandomForestClassifier(max_depth=2, random_state=0)\n",
        "RF.fit(X_train, y_train)\n",
        "pred6=RF.predict(X_test)\n",
        "pred6"
      ],
      "metadata": {
        "colab": {
          "base_uri": "https://localhost:8080/"
        },
        "id": "jmv-tnZKviG3",
        "outputId": "1919692e-6b4d-4233-ab41-fe7a16d79f95"
      },
      "execution_count": 86,
      "outputs": [
        {
          "output_type": "execute_result",
          "data": {
            "text/plain": [
              "array([4, 4, 0, 4, 2, 4, 4, 3, 4, 4, 1, 4, 3, 2, 4, 3, 1, 4, 3, 4, 3, 0,\n",
              "       4, 3, 2, 3, 4, 2, 4, 2, 2, 2, 4, 2, 0, 3, 2, 3, 3, 2, 2, 2, 3, 4,\n",
              "       2, 4, 3, 2, 3, 2, 2, 3, 2, 3, 3, 2, 3, 3, 2, 3, 3, 0, 4, 3, 2, 4,\n",
              "       1, 4, 2, 4, 0, 2, 3, 4, 0, 3, 3, 3, 3, 3, 2, 3, 2, 4, 3, 2, 3, 2,\n",
              "       4, 3, 4, 3, 3, 2, 3, 4, 2, 2, 2, 2, 2, 1, 4, 3, 2, 1, 3, 4, 0, 3,\n",
              "       3, 4, 3, 2, 4, 1, 3, 2, 4, 4, 0, 2, 3, 3, 3, 3, 3, 3, 4, 0, 2, 2,\n",
              "       3, 4, 4, 4, 2, 3, 1, 3, 4, 2, 2, 3, 2, 3, 2, 2, 3, 3, 3, 4, 2, 2,\n",
              "       2, 2, 4, 4, 1, 3, 4, 4, 0, 2, 4, 2, 2, 3, 3, 2, 2, 3, 3, 1, 2, 3,\n",
              "       3, 0, 2, 2, 2, 0, 1, 3, 3, 2, 3, 2, 4, 2, 2, 3, 1, 4, 0, 2, 0, 3,\n",
              "       4, 3, 4, 1, 4, 0, 4, 2, 4, 3, 3, 4, 2, 1, 3, 3, 4, 2, 2, 3, 3, 4,\n",
              "       4, 3, 2, 1, 3, 2, 3, 4, 2, 2, 4, 3, 3, 2, 2, 2, 3, 4, 4, 3, 2, 2,\n",
              "       4, 3, 4, 3, 3, 3, 4, 4, 3, 2, 0, 2, 4, 3, 3, 3, 4, 2, 4, 3, 3, 4,\n",
              "       0, 4, 4, 2, 3, 0, 2, 4, 4, 4, 3, 1, 2, 4, 4, 4, 4, 4, 2, 2, 4, 3,\n",
              "       3, 3, 2, 2, 2, 3, 4, 2, 3, 4, 2, 2, 1, 2, 3, 3, 3, 4, 4, 2, 3, 2,\n",
              "       4, 1, 4, 2, 0, 3, 3, 1, 2, 3, 2, 1, 3, 4, 4, 2, 2, 3, 4, 2, 3, 4,\n",
              "       3, 4, 4, 1, 3, 1, 3, 1, 3, 3, 3, 3, 0, 2, 4, 2, 3, 0, 2, 2, 0, 3,\n",
              "       2, 2, 3, 4, 2, 2, 2, 3, 4, 4, 4, 3, 2, 4, 1, 4, 3, 2, 3, 0, 4, 2,\n",
              "       3, 4])"
            ]
          },
          "metadata": {},
          "execution_count": 86
        }
      ]
    },
    {
      "cell_type": "code",
      "source": [
        "cm6 = confusion_matrix(y_test, pred6)\n",
        "print('Confusion matrix6:\\n', cm6)\n",
        "\n",
        "accuracy6 = accuracy_score(y_test, pred6)\n",
        "print('Accuracy6:', accuracy6)\n",
        "\n",
        "recall6 = recall_score(y_test, pred6,average=None)\n",
        "print('Recall6:', recall6)"
      ],
      "metadata": {
        "colab": {
          "base_uri": "https://localhost:8080/"
        },
        "id": "K8-dRMqTvxHF",
        "outputId": "053d6576-ed1b-4c8e-8a93-efafa91e0113"
      },
      "execution_count": 87,
      "outputs": [
        {
          "output_type": "stream",
          "name": "stdout",
          "text": [
            "Confusion matrix6:\n",
            " [[ 22   4   9   0   0]\n",
            " [  1  19  28   1   0]\n",
            " [  0   0  73   3   4]\n",
            " [  0   0   0 118   0]\n",
            " [  0   0   0   0  94]]\n",
            "Accuracy6: 0.8670212765957447\n",
            "Recall6: [0.62857143 0.3877551  0.9125     1.         1.        ]\n"
          ]
        }
      ]
    },
    {
      "cell_type": "markdown",
      "source": [
        "# Gredient boosting\n"
      ],
      "metadata": {
        "id": "xmiW3eMhtnJE"
      }
    },
    {
      "cell_type": "code",
      "source": [
        "from sklearn.datasets import make_hastie_10_2\n",
        "from sklearn.ensemble import GradientBoostingClassifier"
      ],
      "metadata": {
        "id": "8W4LmC5ps8a0"
      },
      "execution_count": 88,
      "outputs": []
    },
    {
      "cell_type": "code",
      "source": [
        "GB = GradientBoostingClassifier(n_estimators=100, learning_rate=1.0, max_depth=1, random_state=0).fit(X_train, y_train)\n",
        "GB.score(X_test, y_test)"
      ],
      "metadata": {
        "colab": {
          "base_uri": "https://localhost:8080/"
        },
        "id": "AoiMZap5tu3e",
        "outputId": "63fc9ff9-4732-4f86-aec3-eb937ea76ace"
      },
      "execution_count": 89,
      "outputs": [
        {
          "output_type": "execute_result",
          "data": {
            "text/plain": [
              "1.0"
            ]
          },
          "metadata": {},
          "execution_count": 89
        }
      ]
    },
    {
      "cell_type": "code",
      "source": [
        "pred5=GB.predict(X_test)\n",
        "b=pred5-pred4\n",
        "b"
      ],
      "metadata": {
        "colab": {
          "base_uri": "https://localhost:8080/"
        },
        "id": "rHJ5uKfat7RM",
        "outputId": "0e67937f-6f6a-4b95-91cc-b965590a7ab3"
      },
      "execution_count": 90,
      "outputs": [
        {
          "output_type": "execute_result",
          "data": {
            "text/plain": [
              "array([0, 0, 0, 0, 0, 0, 0, 0, 0, 0, 0, 0, 0, 0, 0, 0, 0, 0, 0, 0, 0, 0,\n",
              "       0, 0, 0, 0, 0, 0, 0, 0, 0, 0, 0, 0, 0, 0, 0, 0, 0, 0, 0, 0, 0, 0,\n",
              "       0, 0, 0, 0, 0, 0, 0, 0, 0, 0, 0, 0, 0, 0, 0, 0, 0, 0, 0, 0, 0, 0,\n",
              "       0, 0, 0, 0, 0, 0, 0, 0, 0, 0, 0, 0, 0, 0, 0, 0, 0, 0, 0, 0, 0, 0,\n",
              "       0, 0, 0, 0, 0, 0, 0, 0, 0, 0, 0, 0, 0, 0, 0, 0, 0, 0, 0, 0, 0, 0,\n",
              "       0, 0, 0, 0, 0, 0, 0, 0, 0, 0, 0, 0, 0, 0, 0, 0, 0, 0, 0, 0, 0, 0,\n",
              "       0, 0, 0, 0, 0, 0, 0, 0, 0, 0, 0, 0, 0, 0, 0, 0, 0, 0, 0, 0, 0, 0,\n",
              "       0, 0, 0, 0, 0, 0, 0, 0, 0, 0, 0, 0, 0, 0, 0, 0, 0, 0, 0, 0, 0, 0,\n",
              "       0, 0, 0, 0, 0, 0, 0, 0, 0, 0, 0, 0, 0, 0, 0, 0, 0, 0, 0, 0, 0, 0,\n",
              "       0, 0, 0, 0, 0, 0, 0, 0, 0, 0, 0, 0, 0, 0, 0, 0, 0, 0, 0, 0, 0, 0,\n",
              "       0, 0, 0, 0, 0, 0, 0, 0, 0, 0, 0, 0, 0, 0, 0, 0, 0, 0, 0, 0, 0, 0,\n",
              "       0, 0, 0, 0, 0, 0, 0, 0, 0, 0, 0, 0, 0, 0, 0, 0, 0, 0, 0, 0, 0, 0,\n",
              "       0, 0, 0, 0, 0, 0, 0, 0, 0, 0, 0, 0, 0, 0, 0, 0, 0, 0, 0, 0, 0, 0,\n",
              "       0, 0, 0, 0, 0, 0, 0, 0, 0, 0, 0, 0, 0, 0, 0, 0, 0, 0, 0, 0, 0, 0,\n",
              "       0, 0, 0, 0, 0, 0, 0, 0, 0, 0, 0, 0, 0, 0, 0, 0, 0, 0, 0, 0, 0, 0,\n",
              "       0, 0, 0, 0, 0, 0, 0, 0, 0, 0, 0, 0, 0, 0, 0, 0, 0, 0, 0, 0, 0, 0,\n",
              "       0, 0, 0, 0, 0, 0, 0, 0, 0, 0, 0, 0, 0, 0, 0, 0, 0, 0, 0, 0, 0, 0,\n",
              "       0, 0])"
            ]
          },
          "metadata": {},
          "execution_count": 90
        }
      ]
    },
    {
      "cell_type": "code",
      "source": [
        "cm5 = confusion_matrix(y_test, pred5)\n",
        "print('Confusion matrix5:\\n', cm5)\n",
        "\n",
        "accuracy5 = accuracy_score(y_test, pred5)\n",
        "print('Accuracy5:', accuracy5)\n",
        "\n",
        "recall5 = recall_score(y_test, pred5,average=None)\n",
        "print('Recall5:', recall5)"
      ],
      "metadata": {
        "colab": {
          "base_uri": "https://localhost:8080/"
        },
        "id": "pP8lY0p8uHgP",
        "outputId": "71c186d6-4b55-494e-82fb-3ef056f2adc5"
      },
      "execution_count": 91,
      "outputs": [
        {
          "output_type": "stream",
          "name": "stdout",
          "text": [
            "Confusion matrix5:\n",
            " [[ 35   0   0   0   0]\n",
            " [  0  49   0   0   0]\n",
            " [  0   0  80   0   0]\n",
            " [  0   0   0 118   0]\n",
            " [  0   0   0   0  94]]\n",
            "Accuracy5: 1.0\n",
            "Recall5: [1. 1. 1. 1. 1.]\n"
          ]
        }
      ]
    },
    {
      "cell_type": "markdown",
      "source": [
        "# Neural Network"
      ],
      "metadata": {
        "id": "r_7S2_3OuqRS"
      }
    },
    {
      "cell_type": "code",
      "source": [
        "from sklearn.neural_network import MLPClassifier\n",
        "MLP = MLPClassifier(solver='lbfgs', alpha=1e-5,hidden_layer_sizes=(5, 2), random_state=1)\n",
        "MLP.fit(X_train, y_train)\n",
        "pred7=MLP.predict(X_test)"
      ],
      "metadata": {
        "id": "9mdm87Hpuu9N"
      },
      "execution_count": 92,
      "outputs": []
    },
    {
      "cell_type": "code",
      "source": [
        "pred7"
      ],
      "metadata": {
        "colab": {
          "base_uri": "https://localhost:8080/"
        },
        "id": "-NTYICK2wZS7",
        "outputId": "d0ff9983-065b-4314-9996-eab04cb127ff"
      },
      "execution_count": 93,
      "outputs": [
        {
          "output_type": "execute_result",
          "data": {
            "text/plain": [
              "array([4, 4, 0, 4, 2, 4, 4, 3, 4, 4, 1, 4, 3, 2, 4, 3, 1, 4, 3, 4, 3, 0,\n",
              "       2, 3, 0, 3, 4, 2, 4, 2, 1, 1, 4, 2, 0, 3, 2, 3, 3, 2, 2, 1, 3, 4,\n",
              "       2, 4, 3, 1, 3, 2, 2, 3, 1, 3, 3, 2, 3, 3, 1, 3, 3, 0, 4, 3, 2, 4,\n",
              "       0, 4, 2, 4, 0, 1, 3, 4, 0, 3, 3, 3, 3, 3, 2, 3, 2, 4, 3, 2, 3, 1,\n",
              "       4, 3, 4, 3, 3, 2, 3, 4, 2, 2, 2, 1, 2, 1, 4, 3, 1, 1, 3, 4, 0, 3,\n",
              "       3, 4, 3, 1, 4, 0, 3, 2, 4, 4, 0, 2, 3, 3, 3, 3, 3, 3, 4, 0, 1, 2,\n",
              "       3, 4, 4, 4, 2, 3, 1, 3, 4, 0, 2, 3, 2, 3, 2, 2, 3, 3, 2, 4, 2, 1,\n",
              "       0, 2, 4, 4, 1, 3, 4, 4, 0, 2, 4, 1, 1, 3, 3, 2, 2, 3, 3, 1, 1, 3,\n",
              "       3, 0, 2, 1, 2, 0, 0, 3, 3, 2, 3, 2, 4, 2, 1, 3, 1, 4, 0, 2, 0, 3,\n",
              "       4, 3, 4, 1, 4, 0, 2, 0, 2, 3, 3, 2, 1, 1, 3, 3, 4, 2, 2, 3, 3, 4,\n",
              "       4, 3, 2, 1, 3, 2, 3, 4, 2, 0, 4, 3, 3, 0, 1, 1, 3, 4, 4, 3, 1, 1,\n",
              "       4, 1, 4, 3, 3, 3, 4, 4, 3, 2, 0, 2, 4, 3, 3, 3, 4, 0, 4, 3, 3, 4,\n",
              "       0, 4, 4, 0, 3, 0, 2, 4, 4, 4, 3, 1, 1, 4, 4, 4, 4, 4, 2, 2, 4, 3,\n",
              "       3, 3, 2, 2, 2, 3, 4, 2, 3, 4, 1, 2, 1, 1, 3, 3, 2, 4, 4, 2, 3, 2,\n",
              "       4, 1, 4, 2, 0, 3, 2, 1, 2, 3, 0, 0, 3, 4, 4, 2, 1, 3, 4, 2, 3, 4,\n",
              "       3, 4, 4, 1, 3, 1, 3, 1, 3, 3, 3, 3, 0, 2, 4, 2, 3, 1, 2, 2, 0, 3,\n",
              "       2, 2, 3, 4, 2, 2, 2, 3, 4, 4, 4, 3, 2, 4, 1, 4, 3, 1, 3, 0, 4, 2,\n",
              "       3, 4])"
            ]
          },
          "metadata": {},
          "execution_count": 93
        }
      ]
    },
    {
      "cell_type": "code",
      "source": [
        "cm7 = confusion_matrix(y_test, pred7)\n",
        "print('Confusion matrix7:\\n', cm7)\n",
        "\n",
        "accuracy7 = accuracy_score(y_test, pred7)\n",
        "print('Accuracy7:', accuracy7)\n",
        "\n",
        "recall7 = recall_score(y_test, pred7,average=None)\n",
        "print('Recall7:', recall7)"
      ],
      "metadata": {
        "colab": {
          "base_uri": "https://localhost:8080/"
        },
        "id": "vx-1wV1ywaiX",
        "outputId": "f3d194b3-e633-425c-bd39-70b709eb8fa4"
      },
      "execution_count": 94,
      "outputs": [
        {
          "output_type": "stream",
          "name": "stdout",
          "text": [
            "Confusion matrix7:\n",
            " [[ 35   0   0   0   0]\n",
            " [  0  49   0   0   0]\n",
            " [  0   0  80   0   0]\n",
            " [  0   0   0 118   0]\n",
            " [  0   0   0   0  94]]\n",
            "Accuracy7: 1.0\n",
            "Recall7: [1. 1. 1. 1. 1.]\n"
          ]
        }
      ]
    },
    {
      "cell_type": "markdown",
      "source": [
        "#knn"
      ],
      "metadata": {
        "id": "B6YCXimzEnfM"
      }
    },
    {
      "cell_type": "code",
      "source": [
        "from sklearn.neighbors import KNeighborsClassifier\n",
        "knn = KNeighborsClassifier(n_neighbors=5)\n",
        "knn.fit(X_train, y_train)"
      ],
      "metadata": {
        "colab": {
          "base_uri": "https://localhost:8080/",
          "height": 75
        },
        "id": "26Xw6h-NElnD",
        "outputId": "bd0d73cf-7f18-45dc-996d-ae849ccc0423"
      },
      "execution_count": 95,
      "outputs": [
        {
          "output_type": "execute_result",
          "data": {
            "text/plain": [
              "KNeighborsClassifier()"
            ],
            "text/html": [
              "<style>#sk-container-id-3 {color: black;background-color: white;}#sk-container-id-3 pre{padding: 0;}#sk-container-id-3 div.sk-toggleable {background-color: white;}#sk-container-id-3 label.sk-toggleable__label {cursor: pointer;display: block;width: 100%;margin-bottom: 0;padding: 0.3em;box-sizing: border-box;text-align: center;}#sk-container-id-3 label.sk-toggleable__label-arrow:before {content: \"▸\";float: left;margin-right: 0.25em;color: #696969;}#sk-container-id-3 label.sk-toggleable__label-arrow:hover:before {color: black;}#sk-container-id-3 div.sk-estimator:hover label.sk-toggleable__label-arrow:before {color: black;}#sk-container-id-3 div.sk-toggleable__content {max-height: 0;max-width: 0;overflow: hidden;text-align: left;background-color: #f0f8ff;}#sk-container-id-3 div.sk-toggleable__content pre {margin: 0.2em;color: black;border-radius: 0.25em;background-color: #f0f8ff;}#sk-container-id-3 input.sk-toggleable__control:checked~div.sk-toggleable__content {max-height: 200px;max-width: 100%;overflow: auto;}#sk-container-id-3 input.sk-toggleable__control:checked~label.sk-toggleable__label-arrow:before {content: \"▾\";}#sk-container-id-3 div.sk-estimator input.sk-toggleable__control:checked~label.sk-toggleable__label {background-color: #d4ebff;}#sk-container-id-3 div.sk-label input.sk-toggleable__control:checked~label.sk-toggleable__label {background-color: #d4ebff;}#sk-container-id-3 input.sk-hidden--visually {border: 0;clip: rect(1px 1px 1px 1px);clip: rect(1px, 1px, 1px, 1px);height: 1px;margin: -1px;overflow: hidden;padding: 0;position: absolute;width: 1px;}#sk-container-id-3 div.sk-estimator {font-family: monospace;background-color: #f0f8ff;border: 1px dotted black;border-radius: 0.25em;box-sizing: border-box;margin-bottom: 0.5em;}#sk-container-id-3 div.sk-estimator:hover {background-color: #d4ebff;}#sk-container-id-3 div.sk-parallel-item::after {content: \"\";width: 100%;border-bottom: 1px solid gray;flex-grow: 1;}#sk-container-id-3 div.sk-label:hover label.sk-toggleable__label {background-color: #d4ebff;}#sk-container-id-3 div.sk-serial::before {content: \"\";position: absolute;border-left: 1px solid gray;box-sizing: border-box;top: 0;bottom: 0;left: 50%;z-index: 0;}#sk-container-id-3 div.sk-serial {display: flex;flex-direction: column;align-items: center;background-color: white;padding-right: 0.2em;padding-left: 0.2em;position: relative;}#sk-container-id-3 div.sk-item {position: relative;z-index: 1;}#sk-container-id-3 div.sk-parallel {display: flex;align-items: stretch;justify-content: center;background-color: white;position: relative;}#sk-container-id-3 div.sk-item::before, #sk-container-id-3 div.sk-parallel-item::before {content: \"\";position: absolute;border-left: 1px solid gray;box-sizing: border-box;top: 0;bottom: 0;left: 50%;z-index: -1;}#sk-container-id-3 div.sk-parallel-item {display: flex;flex-direction: column;z-index: 1;position: relative;background-color: white;}#sk-container-id-3 div.sk-parallel-item:first-child::after {align-self: flex-end;width: 50%;}#sk-container-id-3 div.sk-parallel-item:last-child::after {align-self: flex-start;width: 50%;}#sk-container-id-3 div.sk-parallel-item:only-child::after {width: 0;}#sk-container-id-3 div.sk-dashed-wrapped {border: 1px dashed gray;margin: 0 0.4em 0.5em 0.4em;box-sizing: border-box;padding-bottom: 0.4em;background-color: white;}#sk-container-id-3 div.sk-label label {font-family: monospace;font-weight: bold;display: inline-block;line-height: 1.2em;}#sk-container-id-3 div.sk-label-container {text-align: center;}#sk-container-id-3 div.sk-container {/* jupyter's `normalize.less` sets `[hidden] { display: none; }` but bootstrap.min.css set `[hidden] { display: none !important; }` so we also need the `!important` here to be able to override the default hidden behavior on the sphinx rendered scikit-learn.org. See: https://github.com/scikit-learn/scikit-learn/issues/21755 */display: inline-block !important;position: relative;}#sk-container-id-3 div.sk-text-repr-fallback {display: none;}</style><div id=\"sk-container-id-3\" class=\"sk-top-container\"><div class=\"sk-text-repr-fallback\"><pre>KNeighborsClassifier()</pre><b>In a Jupyter environment, please rerun this cell to show the HTML representation or trust the notebook. <br />On GitHub, the HTML representation is unable to render, please try loading this page with nbviewer.org.</b></div><div class=\"sk-container\" hidden><div class=\"sk-item\"><div class=\"sk-estimator sk-toggleable\"><input class=\"sk-toggleable__control sk-hidden--visually\" id=\"sk-estimator-id-3\" type=\"checkbox\" checked><label for=\"sk-estimator-id-3\" class=\"sk-toggleable__label sk-toggleable__label-arrow\">KNeighborsClassifier</label><div class=\"sk-toggleable__content\"><pre>KNeighborsClassifier()</pre></div></div></div></div></div>"
            ]
          },
          "metadata": {},
          "execution_count": 95
        }
      ]
    },
    {
      "cell_type": "code",
      "source": [
        "\n",
        "pred8=knn.predict(X_test)\n",
        "pred8_proba=knn.predict_proba(X_test)\n",
        "pred8"
      ],
      "metadata": {
        "colab": {
          "base_uri": "https://localhost:8080/"
        },
        "id": "ypYTrAo_E-L3",
        "outputId": "4824db3d-5f32-4d7a-ae45-d9ca4c1511df"
      },
      "execution_count": 96,
      "outputs": [
        {
          "output_type": "execute_result",
          "data": {
            "text/plain": [
              "array([3, 3, 0, 4, 3, 4, 4, 3, 4, 4, 1, 3, 3, 2, 4, 3, 1, 4, 3, 4, 3, 0,\n",
              "       2, 3, 1, 3, 4, 2, 4, 2, 1, 2, 4, 2, 1, 3, 2, 2, 2, 2, 2, 1, 3, 4,\n",
              "       2, 4, 3, 1, 3, 1, 2, 3, 1, 3, 3, 2, 3, 4, 1, 3, 3, 0, 3, 2, 2, 4,\n",
              "       0, 4, 2, 3, 0, 1, 3, 4, 0, 3, 3, 3, 4, 3, 2, 3, 2, 4, 3, 1, 3, 2,\n",
              "       4, 3, 4, 3, 3, 2, 3, 4, 2, 3, 2, 1, 2, 1, 4, 3, 1, 1, 3, 4, 1, 3,\n",
              "       3, 4, 3, 2, 4, 1, 3, 2, 4, 4, 0, 2, 3, 3, 3, 3, 3, 3, 4, 0, 1, 2,\n",
              "       3, 4, 4, 4, 2, 3, 1, 3, 3, 1, 3, 3, 2, 3, 2, 2, 3, 3, 2, 4, 2, 2,\n",
              "       0, 2, 4, 4, 1, 3, 4, 4, 0, 2, 4, 1, 1, 3, 3, 2, 2, 3, 3, 1, 1, 3,\n",
              "       2, 0, 2, 1, 2, 0, 1, 3, 3, 2, 3, 2, 4, 3, 1, 3, 1, 4, 0, 2, 1, 3,\n",
              "       4, 3, 3, 1, 4, 1, 3, 0, 2, 3, 3, 3, 1, 1, 3, 3, 4, 2, 2, 3, 4, 4,\n",
              "       4, 3, 2, 1, 3, 1, 3, 4, 2, 1, 4, 3, 3, 1, 1, 1, 3, 4, 4, 3, 1, 2,\n",
              "       4, 2, 4, 3, 3, 3, 4, 4, 3, 1, 0, 2, 4, 3, 4, 3, 4, 1, 4, 3, 3, 4,\n",
              "       1, 4, 4, 1, 3, 0, 2, 4, 4, 4, 3, 1, 1, 3, 4, 4, 4, 4, 2, 1, 4, 3,\n",
              "       3, 2, 2, 2, 2, 4, 4, 2, 3, 4, 2, 2, 1, 1, 4, 3, 2, 4, 4, 2, 3, 2,\n",
              "       4, 2, 3, 2, 0, 3, 3, 1, 2, 3, 0, 0, 2, 4, 4, 2, 0, 3, 4, 2, 3, 4,\n",
              "       3, 4, 3, 2, 3, 1, 3, 1, 3, 3, 3, 3, 0, 2, 4, 2, 4, 1, 2, 3, 0, 3,\n",
              "       2, 2, 3, 4, 2, 2, 2, 4, 4, 4, 4, 3, 2, 4, 1, 4, 3, 2, 3, 0, 4, 2,\n",
              "       2, 4])"
            ]
          },
          "metadata": {},
          "execution_count": 96
        }
      ]
    },
    {
      "cell_type": "code",
      "source": [
        "cm8 = confusion_matrix(y_test, pred8)\n",
        "print('Confusion matrix8:\\n', cm8)\n",
        "\n",
        "accuracy8 = accuracy_score(y_test, pred8)\n",
        "print('Accuracy8:', accuracy8)\n",
        "\n",
        "recall8 = recall_score(y_test, pred8,average=None)\n",
        "print('Recall8:', recall8)"
      ],
      "metadata": {
        "colab": {
          "base_uri": "https://localhost:8080/"
        },
        "id": "dD7-JNrEFlAc",
        "outputId": "c315b2c5-c9af-455f-8bb6-8d08cc7e6a3f"
      },
      "execution_count": 97,
      "outputs": [
        {
          "output_type": "stream",
          "name": "stdout",
          "text": [
            "Confusion matrix8:\n",
            " [[ 22  13   0   0   0]\n",
            " [  1  38  10   0   0]\n",
            " [  0   5  67   8   0]\n",
            " [  0   0   7 103   8]\n",
            " [  0   0   0  10  84]]\n",
            "Accuracy8: 0.8351063829787234\n",
            "Recall8: [0.62857143 0.7755102  0.8375     0.87288136 0.89361702]\n"
          ]
        }
      ]
    },
    {
      "cell_type": "code",
      "source": [
        "pred8_proba"
      ],
      "metadata": {
        "colab": {
          "base_uri": "https://localhost:8080/"
        },
        "id": "659StKWgFQHn",
        "outputId": "091b7163-6ffd-408d-cca6-66b9bd7a6d4e"
      },
      "execution_count": 98,
      "outputs": [
        {
          "output_type": "execute_result",
          "data": {
            "text/plain": [
              "array([[0. , 0. , 0. , 0.8, 0.2],\n",
              "       [0. , 0. , 0. , 0.6, 0.4],\n",
              "       [0.8, 0.2, 0. , 0. , 0. ],\n",
              "       ...,\n",
              "       [0. , 0.2, 0.8, 0. , 0. ],\n",
              "       [0. , 0. , 0.4, 0.4, 0.2],\n",
              "       [0. , 0. , 0. , 0. , 1. ]])"
            ]
          },
          "metadata": {},
          "execution_count": 98
        }
      ]
    },
    {
      "cell_type": "markdown",
      "source": [
        "#model comparison and selection\n"
      ],
      "metadata": {
        "id": "xLMni76Bwqe7"
      }
    },
    {
      "cell_type": "code",
      "source": [
        "from sklearn.ensemble import VotingClassifier"
      ],
      "metadata": {
        "id": "GrcZQXC31Nk1"
      },
      "execution_count": 99,
      "outputs": []
    },
    {
      "cell_type": "code",
      "source": [
        "eclf = VotingClassifier(\n",
        "    estimators=[(\"linear_model\", RC), (\"lr\", logreg), (\"NB\", NB),('DT',DT),('GB',GB),('RF',RF),('MLP',MLP)],\n",
        "    voting=\"soft\"\n",
        ")"
      ],
      "metadata": {
        "id": "CbvTp8wc1_5b"
      },
      "execution_count": 100,
      "outputs": []
    },
    {
      "cell_type": "code",
      "source": [
        "# predict class probabilities for all classifiers\n",
        "probas = [c.fit(X_train, y_train).predict_proba(X_test) for c in ( logreg, NB, DT, GB,RF,MLP)]\n"
      ],
      "metadata": {
        "colab": {
          "base_uri": "https://localhost:8080/"
        },
        "id": "hS7_AUXy3hMW",
        "outputId": "13c0aae3-f8c4-4225-a263-4dca79f30637"
      },
      "execution_count": 101,
      "outputs": [
        {
          "output_type": "stream",
          "name": "stderr",
          "text": [
            "/usr/local/lib/python3.10/dist-packages/sklearn/linear_model/_logistic.py:458: ConvergenceWarning: lbfgs failed to converge (status=1):\n",
            "STOP: TOTAL NO. of ITERATIONS REACHED LIMIT.\n",
            "\n",
            "Increase the number of iterations (max_iter) or scale the data as shown in:\n",
            "    https://scikit-learn.org/stable/modules/preprocessing.html\n",
            "Please also refer to the documentation for alternative solver options:\n",
            "    https://scikit-learn.org/stable/modules/linear_model.html#logistic-regression\n",
            "  n_iter_i = _check_optimize_result(\n"
          ]
        }
      ]
    },
    {
      "cell_type": "code",
      "source": [
        "from sklearn.metrics import classification_report"
      ],
      "metadata": {
        "id": "k7cGX4uy4EPe"
      },
      "execution_count": 102,
      "outputs": []
    },
    {
      "cell_type": "code",
      "source": [
        "target_names = ['class 0', 'class 1', 'class 2','class 3','class 4']\n",
        "y_pred=pred1\n",
        "lr=classification_report(y_test, y_pred, target_names=target_names)\n",
        "print(lr)"
      ],
      "metadata": {
        "colab": {
          "base_uri": "https://localhost:8080/"
        },
        "id": "sVEhzIX252Nw",
        "outputId": "10940a83-ec8c-44fe-f988-2c66024d486a"
      },
      "execution_count": 103,
      "outputs": [
        {
          "output_type": "stream",
          "name": "stdout",
          "text": [
            "              precision    recall  f1-score   support\n",
            "\n",
            "     class 0       0.51      0.51      0.51        35\n",
            "     class 1       0.58      0.63      0.61        49\n",
            "     class 2       0.90      0.46      0.61        80\n",
            "     class 3       0.65      0.49      0.56       118\n",
            "     class 4       0.59      1.00      0.75        94\n",
            "\n",
            "    accuracy                           0.63       376\n",
            "   macro avg       0.65      0.62      0.61       376\n",
            "weighted avg       0.67      0.63      0.62       376\n",
            "\n"
          ]
        }
      ]
    },
    {
      "cell_type": "code",
      "source": [
        "target_names = ['class 0', 'class 1', 'class 2','class 3','class 4']\n",
        "y_pred=pred2\n",
        "logreg=classification_report(y_test, y_pred, target_names=target_names)\n",
        "print(logreg)"
      ],
      "metadata": {
        "colab": {
          "base_uri": "https://localhost:8080/"
        },
        "id": "qkmU91mh7x1M",
        "outputId": "b4a11f09-bfb7-48bf-9c50-78e3c658a137"
      },
      "execution_count": 104,
      "outputs": [
        {
          "output_type": "stream",
          "name": "stdout",
          "text": [
            "              precision    recall  f1-score   support\n",
            "\n",
            "     class 0       1.00      0.94      0.97        35\n",
            "     class 1       0.96      0.98      0.97        49\n",
            "     class 2       0.99      1.00      0.99        80\n",
            "     class 3       1.00      1.00      1.00       118\n",
            "     class 4       1.00      1.00      1.00        94\n",
            "\n",
            "    accuracy                           0.99       376\n",
            "   macro avg       0.99      0.98      0.99       376\n",
            "weighted avg       0.99      0.99      0.99       376\n",
            "\n"
          ]
        }
      ]
    },
    {
      "cell_type": "code",
      "source": [
        "target_names = ['class 0', 'class 1', 'class 2','class 3','class 4']\n",
        "y_pred=pred3\n",
        "NB=classification_report(y_test, y_pred, target_names=target_names)\n",
        "print(NB)"
      ],
      "metadata": {
        "colab": {
          "base_uri": "https://localhost:8080/"
        },
        "id": "1cRWW9s_8Dni",
        "outputId": "19bb1487-309c-4a99-c0df-a4afa1372c0f"
      },
      "execution_count": 105,
      "outputs": [
        {
          "output_type": "stream",
          "name": "stdout",
          "text": [
            "              precision    recall  f1-score   support\n",
            "\n",
            "     class 0       0.97      0.97      0.97        35\n",
            "     class 1       0.98      0.98      0.98        49\n",
            "     class 2       0.99      0.97      0.98        80\n",
            "     class 3       1.00      0.99      1.00       118\n",
            "     class 4       0.97      0.99      0.98        94\n",
            "\n",
            "    accuracy                           0.98       376\n",
            "   macro avg       0.98      0.98      0.98       376\n",
            "weighted avg       0.98      0.98      0.98       376\n",
            "\n"
          ]
        }
      ]
    },
    {
      "cell_type": "code",
      "source": [
        "target_names = ['class 0', 'class 1', 'class 2','class 3','class 4']\n",
        "y_pred=pred4\n",
        "DT=classification_report(y_test, y_pred, target_names=target_names)\n",
        "print(DT)"
      ],
      "metadata": {
        "colab": {
          "base_uri": "https://localhost:8080/"
        },
        "id": "NUB1lm2K8ISh",
        "outputId": "62bdacbc-643e-4596-e957-afbaf85b9bbe"
      },
      "execution_count": 106,
      "outputs": [
        {
          "output_type": "stream",
          "name": "stdout",
          "text": [
            "              precision    recall  f1-score   support\n",
            "\n",
            "     class 0       1.00      1.00      1.00        35\n",
            "     class 1       1.00      1.00      1.00        49\n",
            "     class 2       1.00      1.00      1.00        80\n",
            "     class 3       1.00      1.00      1.00       118\n",
            "     class 4       1.00      1.00      1.00        94\n",
            "\n",
            "    accuracy                           1.00       376\n",
            "   macro avg       1.00      1.00      1.00       376\n",
            "weighted avg       1.00      1.00      1.00       376\n",
            "\n"
          ]
        }
      ]
    },
    {
      "cell_type": "code",
      "source": [
        "target_names = ['class 0', 'class 1', 'class 2','class 3','class 4']\n",
        "y_pred=pred5\n",
        "GB=classification_report(y_test, y_pred, target_names=target_names)\n",
        "print(GB)"
      ],
      "metadata": {
        "colab": {
          "base_uri": "https://localhost:8080/"
        },
        "id": "lY0BCZd98Onf",
        "outputId": "897a30b6-c096-4b03-ac87-fc6af51f7ded"
      },
      "execution_count": 107,
      "outputs": [
        {
          "output_type": "stream",
          "name": "stdout",
          "text": [
            "              precision    recall  f1-score   support\n",
            "\n",
            "     class 0       1.00      1.00      1.00        35\n",
            "     class 1       1.00      1.00      1.00        49\n",
            "     class 2       1.00      1.00      1.00        80\n",
            "     class 3       1.00      1.00      1.00       118\n",
            "     class 4       1.00      1.00      1.00        94\n",
            "\n",
            "    accuracy                           1.00       376\n",
            "   macro avg       1.00      1.00      1.00       376\n",
            "weighted avg       1.00      1.00      1.00       376\n",
            "\n"
          ]
        }
      ]
    },
    {
      "cell_type": "code",
      "source": [
        "target_names = ['class 0', 'class 1', 'class 2','class 3','class 4']\n",
        "y_pred=pred6\n",
        "RF=classification_report(y_test, y_pred, target_names=target_names)\n",
        "print(RF)"
      ],
      "metadata": {
        "colab": {
          "base_uri": "https://localhost:8080/"
        },
        "id": "mh8UTUym8TvJ",
        "outputId": "233d54e2-01e1-409a-b7a8-8c1fab7a50c0"
      },
      "execution_count": 108,
      "outputs": [
        {
          "output_type": "stream",
          "name": "stdout",
          "text": [
            "              precision    recall  f1-score   support\n",
            "\n",
            "     class 0       0.96      0.63      0.76        35\n",
            "     class 1       0.83      0.39      0.53        49\n",
            "     class 2       0.66      0.91      0.77        80\n",
            "     class 3       0.97      1.00      0.98       118\n",
            "     class 4       0.96      1.00      0.98        94\n",
            "\n",
            "    accuracy                           0.87       376\n",
            "   macro avg       0.87      0.79      0.80       376\n",
            "weighted avg       0.88      0.87      0.86       376\n",
            "\n"
          ]
        }
      ]
    },
    {
      "cell_type": "code",
      "source": [
        "target_names = ['class 0', 'class 1', 'class 2','class 3','class 4']\n",
        "y_pred=pred7\n",
        "MLP=classification_report(y_test, y_pred, target_names=target_names)\n",
        "print(MLP)"
      ],
      "metadata": {
        "colab": {
          "base_uri": "https://localhost:8080/"
        },
        "id": "YuphOusW8Z2h",
        "outputId": "133ef4f2-8a73-48c1-9c3d-ef63d044c747"
      },
      "execution_count": 109,
      "outputs": [
        {
          "output_type": "stream",
          "name": "stdout",
          "text": [
            "              precision    recall  f1-score   support\n",
            "\n",
            "     class 0       1.00      1.00      1.00        35\n",
            "     class 1       1.00      1.00      1.00        49\n",
            "     class 2       1.00      1.00      1.00        80\n",
            "     class 3       1.00      1.00      1.00       118\n",
            "     class 4       1.00      1.00      1.00        94\n",
            "\n",
            "    accuracy                           1.00       376\n",
            "   macro avg       1.00      1.00      1.00       376\n",
            "weighted avg       1.00      1.00      1.00       376\n",
            "\n"
          ]
        }
      ]
    },
    {
      "cell_type": "code",
      "source": [
        "target_names = ['class 0', 'class 1', 'class 2','class 3','class 4']\n",
        "y_pred=pred8\n",
        "KNN=classification_report(y_test, y_pred, target_names=target_names)\n",
        "print(KNN)"
      ],
      "metadata": {
        "colab": {
          "base_uri": "https://localhost:8080/"
        },
        "id": "LfLS2MuCFul0",
        "outputId": "8622aba2-70e5-47cb-a600-433e8012fa87"
      },
      "execution_count": 110,
      "outputs": [
        {
          "output_type": "stream",
          "name": "stdout",
          "text": [
            "              precision    recall  f1-score   support\n",
            "\n",
            "     class 0       0.96      0.63      0.76        35\n",
            "     class 1       0.68      0.78      0.72        49\n",
            "     class 2       0.80      0.84      0.82        80\n",
            "     class 3       0.85      0.87      0.86       118\n",
            "     class 4       0.91      0.89      0.90        94\n",
            "\n",
            "    accuracy                           0.84       376\n",
            "   macro avg       0.84      0.80      0.81       376\n",
            "weighted avg       0.84      0.84      0.84       376\n",
            "\n"
          ]
        }
      ]
    },
    {
      "cell_type": "code",
      "source": [],
      "metadata": {
        "id": "lzgmonQW8iyu"
      },
      "execution_count": 110,
      "outputs": []
    },
    {
      "cell_type": "markdown",
      "source": [
        "# gain table/lift chart"
      ],
      "metadata": {
        "id": "JZ98Eo3x8kNp"
      }
    },
    {
      "cell_type": "code",
      "source": [
        "!pip install scikit-plot"
      ],
      "metadata": {
        "colab": {
          "base_uri": "https://localhost:8080/"
        },
        "id": "3mxWbFEZ9GgN",
        "outputId": "d2bba0d1-145a-46d4-a044-87399b65fa4f"
      },
      "execution_count": 111,
      "outputs": [
        {
          "output_type": "stream",
          "name": "stdout",
          "text": [
            "Looking in indexes: https://pypi.org/simple, https://us-python.pkg.dev/colab-wheels/public/simple/\n",
            "Collecting scikit-plot\n",
            "  Downloading scikit_plot-0.3.7-py3-none-any.whl (33 kB)\n",
            "Requirement already satisfied: matplotlib>=1.4.0 in /usr/local/lib/python3.10/dist-packages (from scikit-plot) (3.7.1)\n",
            "Requirement already satisfied: scikit-learn>=0.18 in /usr/local/lib/python3.10/dist-packages (from scikit-plot) (1.2.2)\n",
            "Requirement already satisfied: scipy>=0.9 in /usr/local/lib/python3.10/dist-packages (from scikit-plot) (1.10.1)\n",
            "Requirement already satisfied: joblib>=0.10 in /usr/local/lib/python3.10/dist-packages (from scikit-plot) (1.2.0)\n",
            "Requirement already satisfied: cycler>=0.10 in /usr/local/lib/python3.10/dist-packages (from matplotlib>=1.4.0->scikit-plot) (0.11.0)\n",
            "Requirement already satisfied: kiwisolver>=1.0.1 in /usr/local/lib/python3.10/dist-packages (from matplotlib>=1.4.0->scikit-plot) (1.4.4)\n",
            "Requirement already satisfied: pillow>=6.2.0 in /usr/local/lib/python3.10/dist-packages (from matplotlib>=1.4.0->scikit-plot) (8.4.0)\n",
            "Requirement already satisfied: numpy>=1.20 in /usr/local/lib/python3.10/dist-packages (from matplotlib>=1.4.0->scikit-plot) (1.22.4)\n",
            "Requirement already satisfied: python-dateutil>=2.7 in /usr/local/lib/python3.10/dist-packages (from matplotlib>=1.4.0->scikit-plot) (2.8.2)\n",
            "Requirement already satisfied: contourpy>=1.0.1 in /usr/local/lib/python3.10/dist-packages (from matplotlib>=1.4.0->scikit-plot) (1.0.7)\n",
            "Requirement already satisfied: fonttools>=4.22.0 in /usr/local/lib/python3.10/dist-packages (from matplotlib>=1.4.0->scikit-plot) (4.39.3)\n",
            "Requirement already satisfied: pyparsing>=2.3.1 in /usr/local/lib/python3.10/dist-packages (from matplotlib>=1.4.0->scikit-plot) (3.0.9)\n",
            "Requirement already satisfied: packaging>=20.0 in /usr/local/lib/python3.10/dist-packages (from matplotlib>=1.4.0->scikit-plot) (23.1)\n",
            "Requirement already satisfied: threadpoolctl>=2.0.0 in /usr/local/lib/python3.10/dist-packages (from scikit-learn>=0.18->scikit-plot) (3.1.0)\n",
            "Requirement already satisfied: six>=1.5 in /usr/local/lib/python3.10/dist-packages (from python-dateutil>=2.7->matplotlib>=1.4.0->scikit-plot) (1.16.0)\n",
            "Installing collected packages: scikit-plot\n",
            "Successfully installed scikit-plot-0.3.7\n"
          ]
        }
      ]
    },
    {
      "cell_type": "code",
      "source": [
        "# import matplotlib.pyplot as plt\n",
        "# import scikitplot as skplt\n",
        "# skplt.metrics.plot_cumulative_gain(y_test, pred1)\n",
        "# plt.show()"
      ],
      "metadata": {
        "id": "rGI5M9tz8oXd"
      },
      "execution_count": 112,
      "outputs": []
    },
    {
      "cell_type": "code",
      "source": [
        "!pip install kds"
      ],
      "metadata": {
        "colab": {
          "base_uri": "https://localhost:8080/"
        },
        "id": "Mv90JFiR-IGW",
        "outputId": "7658acae-fa61-4f09-f9e7-53ccb3c1690f"
      },
      "execution_count": 113,
      "outputs": [
        {
          "output_type": "stream",
          "name": "stdout",
          "text": [
            "Looking in indexes: https://pypi.org/simple, https://us-python.pkg.dev/colab-wheels/public/simple/\n",
            "Collecting kds\n",
            "  Downloading kds-0.1.3-py3-none-any.whl (7.4 kB)\n",
            "Requirement already satisfied: matplotlib>=1.4.0 in /usr/local/lib/python3.10/dist-packages (from kds) (3.7.1)\n",
            "Requirement already satisfied: pandas>=0.20.0 in /usr/local/lib/python3.10/dist-packages (from kds) (1.5.3)\n",
            "Requirement already satisfied: numpy>=1.12.0 in /usr/local/lib/python3.10/dist-packages (from kds) (1.22.4)\n",
            "Requirement already satisfied: contourpy>=1.0.1 in /usr/local/lib/python3.10/dist-packages (from matplotlib>=1.4.0->kds) (1.0.7)\n",
            "Requirement already satisfied: fonttools>=4.22.0 in /usr/local/lib/python3.10/dist-packages (from matplotlib>=1.4.0->kds) (4.39.3)\n",
            "Requirement already satisfied: pyparsing>=2.3.1 in /usr/local/lib/python3.10/dist-packages (from matplotlib>=1.4.0->kds) (3.0.9)\n",
            "Requirement already satisfied: pillow>=6.2.0 in /usr/local/lib/python3.10/dist-packages (from matplotlib>=1.4.0->kds) (8.4.0)\n",
            "Requirement already satisfied: cycler>=0.10 in /usr/local/lib/python3.10/dist-packages (from matplotlib>=1.4.0->kds) (0.11.0)\n",
            "Requirement already satisfied: packaging>=20.0 in /usr/local/lib/python3.10/dist-packages (from matplotlib>=1.4.0->kds) (23.1)\n",
            "Requirement already satisfied: kiwisolver>=1.0.1 in /usr/local/lib/python3.10/dist-packages (from matplotlib>=1.4.0->kds) (1.4.4)\n",
            "Requirement already satisfied: python-dateutil>=2.7 in /usr/local/lib/python3.10/dist-packages (from matplotlib>=1.4.0->kds) (2.8.2)\n",
            "Requirement already satisfied: pytz>=2020.1 in /usr/local/lib/python3.10/dist-packages (from pandas>=0.20.0->kds) (2022.7.1)\n",
            "Requirement already satisfied: six>=1.5 in /usr/local/lib/python3.10/dist-packages (from python-dateutil>=2.7->matplotlib>=1.4.0->kds) (1.16.0)\n",
            "Installing collected packages: kds\n",
            "Successfully installed kds-0.1.3\n"
          ]
        }
      ]
    },
    {
      "cell_type": "code",
      "source": [
        "import kds\n"
      ],
      "metadata": {
        "id": "1yhZmEi295Zz"
      },
      "execution_count": 114,
      "outputs": []
    },
    {
      "cell_type": "code",
      "source": [
        "kds.metrics.plot_cumulative_gain(y_test, pred1)\n",
        "kds.metrics.plot_cumulative_gain(y_test, pred2)\n",
        "kds.metrics.plot_cumulative_gain(y_test, pred3)\n",
        "kds.metrics.plot_cumulative_gain(y_test, pred4)\n",
        "kds.metrics.plot_cumulative_gain(y_test, pred5)\n",
        "kds.metrics.plot_cumulative_gain(y_test, pred6)\n",
        "kds.metrics.plot_cumulative_gain(y_test, pred7)\n",
        "kds.metrics.plot_cumulative_gain(y_test, pred8)\n",
        "#LIFT PLOT\n"
      ],
      "metadata": {
        "colab": {
          "base_uri": "https://localhost:8080/",
          "height": 594
        },
        "id": "aSDbXChl99vB",
        "outputId": "19597422-b87a-48ba-d9f0-87052c95ec32"
      },
      "execution_count": 115,
      "outputs": [
        {
          "output_type": "display_data",
          "data": {
            "text/plain": [
              "<Figure size 640x480 with 1 Axes>"
            ],
            "image/png": "[encoded data removed]"
          },
          "metadata": {}
        }
      ]
    },
    {
      "cell_type": "code",
      "source": [
        "kds.metrics.plot_lift(y_test, pred1)\n",
        "kds.metrics.plot_lift(y_test, pred2)\n",
        "kds.metrics.plot_lift(y_test, pred3)\n",
        "kds.metrics.plot_lift(y_test, pred4)\n",
        "kds.metrics.plot_lift(y_test, pred5)\n",
        "kds.metrics.plot_lift(y_test, pred6)\n",
        "kds.metrics.plot_lift(y_test, pred7)\n",
        "kds.metrics.plot_lift(y_test, pred8)"
      ],
      "metadata": {
        "colab": {
          "base_uri": "https://localhost:8080/",
          "height": 473
        },
        "id": "Dh255b8l-fct",
        "outputId": "8a16489a-bfb1-409b-992c-3f0112f1977d"
      },
      "execution_count": 116,
      "outputs": [
        {
          "output_type": "display_data",
          "data": {
            "text/plain": [
              "<Figure size 640x480 with 1 Axes>"
            ],
            "image/png": "[encoded data removed]"
          },
          "metadata": {}
        }
      ]
    },
    {
      "cell_type": "code",
      "source": [
        "def decile_table(y_true, y_prob, change_deciles=10, labels=True, round_decimal=3):\n",
        "    \"\"\"Generates the Decile Table from labels and probabilities\n",
        "    \n",
        "    The Decile Table is creared by first sorting the customers by their predicted \n",
        "    probabilities, in decreasing order from highest (closest to one) to \n",
        "    lowest (closest to zero). Splitting the customers into equally sized segments, \n",
        "    we create groups containing the same numbers of customers, for example, 10 decile \n",
        "    groups each containing 10% of the customer base.\n",
        "    \n",
        "    Args:\n",
        "        y_true (array-like, shape (n_samples)):\n",
        "            Ground truth (correct/actual) target values.\n",
        "        y_prob (array-like, shape (n_samples, n_classes)):\n",
        "            Prediction probabilities for each class returned by a classifier/algorithm.\n",
        "        change_deciles (int, optional): The number of partitions for creating the table\n",
        "            can be changed. Defaults to '10' for deciles.\n",
        "        labels (bool, optional): If True, prints a legend for the abbreviations of\n",
        "            decile table column names. Defaults to True.\n",
        "        round_decimal (int, optional): The decimal precision till which the result is \n",
        "            needed. Defaults to '3'.\n",
        "    Returns:\n",
        "        dt: The dataframe dt (decile-table) with the deciles and related information.\n",
        "    Example:\n",
        "        >>> import kds\n",
        "        >>> from sklearn.datasets import load_iris\n",
        "        >>> from sklearn.model_selection import train_test_split\n",
        "        >>> from sklearn import tree\n",
        "        >>> X, y = load_iris(return_X_y=True)\n",
        "        >>> X_train, X_test, y_train, y_test = train_test_split(X, y, test_size=0.33,random_state=3)\n",
        "        >>> clf = tree.DecisionTreeClassifier(max_depth=1,random_state=3)\n",
        "        >>> clf = clf.fit(X_train, y_train)\n",
        "        >>> y_prob = clf.predict_proba(X_test)\n",
        "        >>> kds.metrics.decile_table(y_test, y_prob[:,1])\n",
        "    \"\"\"\n",
        "    y_true = np.array(y_true)\n",
        "    y_prob = np.array(y_prob)\n",
        "\n",
        "    df = pd.DataFrame()\n",
        "    df['y_true'] = y_true\n",
        "    df['y_prob'] = y_prob\n",
        "    # df['decile']=pd.qcut(df['y_prob'], 10, labels=list(np.arange(10,0,-1))) \n",
        "    # ValueError: Bin edges must be unique\n",
        "\n",
        "    df.sort_values('y_prob', ascending=False, inplace=True)\n",
        "    df['decile'] = np.linspace(1, change_deciles+1, len(df), False, dtype=int)\n",
        "\n",
        "    # dt abbreviation for decile_table\n",
        "    dt = df.groupby('decile').apply(lambda x: pd.Series([\n",
        "        np.min(x['y_prob']),\n",
        "        np.max(x['y_prob']),\n",
        "        np.mean(x['y_prob']),\n",
        "        np.size(x['y_prob']),\n",
        "        np.sum(x['y_true']),\n",
        "        np.size(x['y_true'][x['y_true'] == 0]),\n",
        "    ],\n",
        "        index=([\"prob_min\", \"prob_max\", \"prob_avg\",\n",
        "                \"cnt_cust\", \"cnt_resp\", \"cnt_non_resp\"])\n",
        "    )).reset_index()\n",
        "\n",
        "    dt['prob_min']=dt['prob_min'].round(round_decimal)\n",
        "    dt['prob_max']=dt['prob_max'].round(round_decimal)\n",
        "    dt['prob_avg']=round(dt['prob_avg'],round_decimal)\n",
        "    # dt=dt.sort_values(by='decile',ascending=False).reset_index(drop=True)\n",
        "\n",
        "    tmp = df[['y_true']].sort_values('y_true', ascending=False)\n",
        "    tmp['decile'] = np.linspace(1, change_deciles+1, len(tmp), False, dtype=int)\n",
        "\n",
        "    dt['cnt_resp_rndm'] = np.sum(df['y_true']) / change_deciles\n",
        "    dt['cnt_resp_wiz'] = tmp.groupby('decile', as_index=False)['y_true'].sum()['y_true']\n",
        "\n",
        "    dt['resp_rate'] = round(dt['cnt_resp'] * 100 / dt['cnt_cust'], round_decimal)\n",
        "    dt['cum_cust'] = np.cumsum(dt['cnt_cust'])\n",
        "    dt['cum_resp'] = np.cumsum(dt['cnt_resp'])\n",
        "    dt['cum_resp_wiz'] = np.cumsum(dt['cnt_resp_wiz'])\n",
        "    dt['cum_non_resp'] = np.cumsum(dt['cnt_non_resp'])\n",
        "    dt['cum_cust_pct'] = round(dt['cum_cust'] * 100 / np.sum(dt['cnt_cust']), round_decimal)\n",
        "    dt['cum_resp_pct'] = round(dt['cum_resp'] * 100 / np.sum(dt['cnt_resp']), round_decimal)\n",
        "    dt['cum_resp_pct_wiz'] = round(dt['cum_resp_wiz'] * 100 / np.sum(dt['cnt_resp_wiz']), round_decimal)\n",
        "    dt['cum_non_resp_pct'] = round(\n",
        "        dt['cum_non_resp'] * 100 / np.sum(dt['cnt_non_resp']), round_decimal)\n",
        "    dt['KS'] = round(dt['cum_resp_pct'] - dt['cum_non_resp_pct'], round_decimal)\n",
        "    dt['lift'] = round(dt['cum_resp_pct'] / dt['cum_cust_pct'], round_decimal)\n",
        "\n",
        "    if labels is True:\n",
        "        print_labels()\n",
        "\n",
        "    return dt\n",
        "\n",
        "def myplot_lift_decile_wise(y_true, y_prob,label, title='Decile-wise Lift Plot', \n",
        "                          title_fontsize=14, text_fontsize=5, figsize=None):\n",
        "    \"\"\"Generates the Decile-wise Lift Plot from labels and probabilities\n",
        "    The lift curve is used to determine the effectiveness of a\n",
        "    binary classifier. A detailed explanation can be found at\n",
        "    http://www2.cs.uregina.ca/~dbd/cs831/notes/lift_chart/lift_chart.html\n",
        "    The implementation here works only for binary classification.\n",
        "    \n",
        "    Args:\n",
        "        y_true (array-like, shape (n_samples)):\n",
        "            Ground truth (correct) target values.\n",
        "        y_prob (array-like, shape (n_samples, n_classes)):\n",
        "            Prediction probabilities for each class returned by a classifier.\n",
        "        title (string, optional): Title of the generated plot. Defaults to\n",
        "            \"Decile-wise Lift Plot\".\n",
        "        title_fontsize (string or int, optional): Matplotlib-style fontsizes.\n",
        "            Use e.g. \"small\", \"medium\", \"large\" or integer-values (8, 10, 12, etc.)\n",
        "            Defaults to 14.\n",
        "        text_fontsize (string or int, optional): Matplotlib-style fontsizes.\n",
        "            Use e.g. \"small\", \"medium\", \"large\" or integer-values (8, 10, 12, etc.)\n",
        "            Defaults to 10.\n",
        "        figsize (2-tuple, optional): Tuple denoting figure size of the plot\n",
        "            e.g. (6, 6). Defaults to ``None``.\n",
        "    Returns:\n",
        "        None\n",
        "    Example:\n",
        "        >>> import kds\n",
        "        >>> from sklearn.datasets import load_iris\n",
        "        >>> from sklearn.model_selection import train_test_split\n",
        "        >>> from sklearn import tree\n",
        "        >>> X, y = load_iris(return_X_y=True)\n",
        "        >>> X_train, X_test, y_train, y_test = train_test_split(X, y, test_size=0.33,random_state=3)\n",
        "        >>> clf = tree.DecisionTreeClassifier(max_depth=1,random_state=3)\n",
        "        >>> clf = clf.fit(X_train, y_train)\n",
        "        >>> y_prob = clf.predict_proba(X_test)\n",
        "        >>> kds.metrics.plot_lift_decile_wise(y_test, y_prob[:,1])\n",
        "    \"\"\"\n",
        "    # Decile-wise Lift Plot\n",
        "    # plt.subplot(2, 2, 2)\n",
        "    pldw = decile_table(y_true,y_prob,labels=False)\n",
        "    plt.plot(pldw.decile.values, pldw.cnt_resp.values / pldw.cnt_resp_rndm.values, marker='o', label=label)\n",
        "    # plt.plot(list(np.arange(1,11)), np.ones(10), 'k--',marker='o')\n",
        "    plt.plot([1, 10], [1, 1], 'k--', marker='o', label='Random')\n",
        "    plt.title(title, fontsize=title_fontsize)\n",
        "    plt.xlabel('Deciles', fontsize=text_fontsize)\n",
        "    plt.ylabel('Lift @ Decile', fontsize=text_fontsize)\n",
        "    plt.legend(bbox_to_anchor=(1, 0), loc=3, borderaxespad=0)\n",
        "    plt.grid(True)\n",
        "    # plt.show()"
      ],
      "metadata": {
        "id": "4J69b7MF-U0g"
      },
      "execution_count": 117,
      "outputs": []
    },
    {
      "cell_type": "code",
      "source": [
        "def myplot_lift(y_true, y_prob, label, title='Lift Plot', title_fontsize=14, \n",
        "              text_fontsize=1, figsize=None):\n",
        "    \"\"\"Generates the Decile based cumulative Lift Plot from labels and probabilities\n",
        "    The lift curve is used to determine the effectiveness of a\n",
        "    binary classifier. A detailed explanation can be found at\n",
        "    http://www2.cs.uregina.ca/~dbd/cs831/notes/lift_chart/lift_chart.html\n",
        "    The implementation here works only for binary classification.\n",
        "    \n",
        "    Args:\n",
        "        y_true (array-like, shape (n_samples)):\n",
        "            Ground truth (correct) target values.\n",
        "        y_prob (array-like, shape (n_samples, n_classes)):\n",
        "            Prediction probabilities for each class returned by a classifier.\n",
        "        title (string, optional): Title of the generated plot. Defaults to\n",
        "            \"Lift Plot\".\n",
        "        title_fontsize (string or int, optional): Matplotlib-style fontsizes.\n",
        "            Use e.g. \"small\", \"medium\", \"large\" or integer-values (8, 10, 12, etc.)\n",
        "            Defaults to 14.\n",
        "        text_fontsize (string or int, optional): Matplotlib-style fontsizes.\n",
        "            Use e.g. \"small\", \"medium\", \"large\" or integer-values (8, 10, 12, etc.)\n",
        "            Defaults to 10.        \n",
        "        figsize (2-tuple, optional): Tuple denoting figure size of the plot\n",
        "            e.g. (6, 6). Defaults to ``None``.\n",
        "    Returns:\n",
        "        None\n",
        "    Example:\n",
        "        >>> import kds\n",
        "        >>> from sklearn.datasets import load_iris\n",
        "        >>> from sklearn.model_selection import train_test_split\n",
        "        >>> from sklearn import tree\n",
        "        >>> X, y = load_iris(return_X_y=True)\n",
        "        >>> X_train, X_test, y_train, y_test = train_test_split(X, y, test_size=0.33,random_state=3)\n",
        "        >>> clf = tree.DecisionTreeClassifier(max_depth=1,random_state=3)\n",
        "        >>> clf = clf.fit(X_train, y_train)\n",
        "        >>> y_prob = clf.predict_proba(X_test)\n",
        "        >>> kds.metrics.plot_lift(y_test, y_prob[:,1])\n",
        "    \"\"\"\n",
        "\n",
        "    # Cumulative Lift Plot\n",
        "    # plt.subplot(2, 2, 1)\n",
        "\n",
        "    pl = decile_table(y_true,y_prob,labels=False)\n",
        "    plt.plot(pl.decile.values, pl.lift.values, marker='o', label=label)\n",
        "    # plt.plot(list(np.arange(1,11)), np.ones(10), 'k--',marker='o')\n",
        "    plt.plot([1, 10], [1, 1], 'k--', marker='o', label='Random')\n",
        "    plt.title(title, fontsize=title_fontsize)\n",
        "    plt.xlabel('Deciles', fontsize=text_fontsize)\n",
        "    plt.ylabel('Lift', fontsize=text_fontsize)\n",
        "    plt.legend(bbox_to_anchor=(1, 0), loc=3, borderaxespad=0)\n",
        "    plt.grid(True)\n",
        "    # plt.show()"
      ],
      "metadata": {
        "id": "e9xlyM8czeK0"
      },
      "execution_count": 118,
      "outputs": []
    },
    {
      "cell_type": "code",
      "source": [
        "plot1=myplot_lift(y_test,pred1,label='LinearModel')\n",
        "plot2=myplot_lift(y_test,pred2,label='LogisticRegression')\n",
        "plot3=myplot_lift(y_test,pred3,label='NaiveBayes')\n",
        "plot4=myplot_lift(y_test,pred4,label='DecisionTree')\n",
        "plot5=myplot_lift(y_test,pred5,label='GredientBoosting')\n",
        "plot6=myplot_lift(y_test,pred6,label='RandomForest')\n",
        "plot7=myplot_lift(y_test,pred7,label='NeuralNetwork')\n",
        "plot8=myplot_lift(y_test,pred8,label='KNN')"
      ],
      "metadata": {
        "colab": {
          "base_uri": "https://localhost:8080/",
          "height": 460
        },
        "id": "DXCCuv4EJhHt",
        "outputId": "3284ee9a-1063-4a00-b28c-415def1242b9"
      },
      "execution_count": 119,
      "outputs": [
        {
          "output_type": "display_data",
          "data": {
            "text/plain": [
              "<Figure size 640x480 with 1 Axes>"
            ],
            "image/png": "[encoded data removed]"
          },
          "metadata": {}
        }
      ]
    },
    {
      "cell_type": "markdown",
      "source": [
        " For contacting 10% of obsearvations, using no model we should get 10% of labeling and using the given model we should get 16% of correct result. The y-value of the lift curve at 10% is 16 / 10 = 3.\n"
      ],
      "metadata": {
        "id": "fyOWgeFi00cX"
      }
    },
    {
      "cell_type": "code",
      "source": [
        "def myplot_cumulative_gain(y_true, y_prob, label, title='Cumulative Gain Plot',\n",
        "                         title_fontsize=14, text_fontsize=1, figsize=None):\n",
        "    \"\"\"Generates the cumulative Gain Plot from labels and probabilities\n",
        "    The cumulative gains chart is used to determine the effectiveness of a\n",
        "    binary classifier. A detailed explanation can be found at\n",
        "    http://www2.cs.uregina.ca/~dbd/cs831/notes/lift_chart/lift_chart.html \n",
        "    The implementation here works only for binary classification.\n",
        "    \n",
        "    Args:\n",
        "        y_true (array-like, shape (n_samples)):\n",
        "            Ground truth (correct) target values.\n",
        "        y_prob (array-like, shape (n_samples, n_classes)):\n",
        "            Prediction probabilities for each class returned by a classifier.\n",
        "        title (string, optional): Title of the generated plot. Defaults to\n",
        "            \"Decile-wise Lift Plot\".\n",
        "        title_fontsize (string or int, optional): Matplotlib-style fontsizes.\n",
        "            Use e.g. \"small\", \"medium\", \"large\" or integer-values (8, 10, 12, etc.)\n",
        "            Defaults to 14.\n",
        "        text_fontsize (string or int, optional): Matplotlib-style fontsizes.\n",
        "            Use e.g. \"small\", \"medium\", \"large\" or integer-values (8, 10, 12, etc.)\n",
        "            Defaults to 10.\n",
        "        figsize (2-tuple, optional): Tuple denoting figure size of the plot\n",
        "            e.g. (6, 6). Defaults to ``None``.\n",
        "    Returns:\n",
        "        None\n",
        "    Example:\n",
        "        >>> import kds\n",
        "        >>> from sklearn.datasets import load_iris\n",
        "        >>> from sklearn.model_selection import train_test_split\n",
        "        >>> from sklearn import tree\n",
        "        >>> X, y = load_iris(return_X_y=True)\n",
        "        >>> X_train, X_test, y_train, y_test = train_test_split(X, y, test_size=0.33,random_state=3)\n",
        "        >>> clf = tree.DecisionTreeClassifier(max_depth=1,random_state=3)\n",
        "        >>> clf = clf.fit(X_train, y_train)\n",
        "        >>> y_prob = clf.predict_proba(X_test)\n",
        "        >>> kds.metrics.plot_cumulative_gain(y_test, y_prob[:,1])\n",
        "    \"\"\"\n",
        "\n",
        "    # Cumulative Gains Plot\n",
        "    # plt.subplot(2, 2, 3)\n",
        "    pcg = decile_table(y_true,y_prob,labels=False)\n",
        "    plt.plot(np.append(0, pcg.decile.values), np.append(0, pcg.cum_resp_pct.values), marker='o', label=label)\n",
        "    #plt.plot(np.append(0, pcg.decile.values), np.append(0, pcg.cum_resp_pct_wiz.values), 'c--', label='Wizard')\n",
        "    # plt.plot(list(np.arange(1,11)), np.ones(10), 'k--',marker='o')\n",
        "    plt.plot([0, 10], [0, 100], 'k--', marker='o', label='Random')\n",
        "    plt.title(title, fontsize=title_fontsize)\n",
        "    plt.xlabel('Deciles', fontsize=text_fontsize)\n",
        "    plt.ylabel('% Resonders', fontsize=text_fontsize)\n",
        "    plt.legend(bbox_to_anchor=(1, 0), loc=3, borderaxespad=0)\n",
        "    plt.grid(True)\n",
        "    # plt.show()"
      ],
      "metadata": {
        "id": "wnQm-16F1mJi"
      },
      "execution_count": 120,
      "outputs": []
    },
    {
      "cell_type": "code",
      "source": [
        "gaintable1=myplot_cumulative_gain(y_test,pred1,label=\"LinearModel\")\n",
        "gaintable2=myplot_cumulative_gain(y_test,pred2,label=\"LogisticRegression\")\n",
        "gaintable3=myplot_cumulative_gain(y_test,pred3,label=\"NaiveBayes\")\n",
        "gaintable4=myplot_cumulative_gain(y_test,pred4,label=\"DecisionTree\")\n",
        "gaintable5=myplot_cumulative_gain(y_test,pred5,label=\"GredientBoosting\")\n",
        "gaintable6=myplot_cumulative_gain(y_test,pred6,label=\"RandomForest\")\n",
        "gaintable7=myplot_cumulative_gain(y_test,pred7,label=\"NeuralNetwork\")\n",
        "gaintable8=myplot_cumulative_gain(y_test,pred8,label=\"KNN\")\n",
        "\n"
      ],
      "metadata": {
        "colab": {
          "base_uri": "https://localhost:8080/",
          "height": 460
        },
        "id": "JqZ3q2p81vkl",
        "outputId": "2ac373f7-35b6-4457-f521-9553a3398762"
      },
      "execution_count": 121,
      "outputs": [
        {
          "output_type": "display_data",
          "data": {
            "text/plain": [
              "<Figure size 640x480 with 1 Axes>"
            ],
            "image/png": "[encoded data removed]"
          },
          "metadata": {}
        }
      ]
    },
    {
      "cell_type": "code",
      "source": [],
      "metadata": {
        "id": "pLxnSiNp2sqH"
      },
      "execution_count": 121,
      "outputs": []
    },
    {
      "cell_type": "markdown",
      "source": [
        "#FLASK\n"
      ],
      "metadata": {
        "id": "LkuyLN8e0jDv"
      }
    },
    {
      "cell_type": "code",
      "source": [
        "from flask import Flask"
      ],
      "metadata": {
        "id": "Ioo6EA2k0qDk"
      },
      "execution_count": 122,
      "outputs": []
    },
    {
      "cell_type": "code",
      "source": [
        "app = Flask(__name__)\n",
        "\n",
        "@app.route(\"/\")\n",
        "def hello_world():\n",
        "    return \"<p>Hello, World!</p>\""
      ],
      "metadata": {
        "id": "7kYvKdMd0qML"
      },
      "execution_count": 124,
      "outputs": []
    }
  ]
}